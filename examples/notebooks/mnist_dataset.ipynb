{
 "cells": [
  {
   "cell_type": "markdown",
   "metadata": {
    "editable": true,
    "slideshow": {
     "slide_type": ""
    },
    "tags": []
   },
   "source": [
    "# **P**rincipal **O**rthogonal **L**atent **C**omponents **A**nalysis Net (POLCA-Net)"
   ]
  },
  {
   "cell_type": "code",
   "execution_count": 1,
   "metadata": {
    "ExecuteTime": {
     "end_time": "2024-07-05T20:24:29.264294Z",
     "start_time": "2024-07-05T20:24:29.244120Z"
    },
    "tags": []
   },
   "outputs": [],
   "source": [
    "import polcanet.utils\n",
    "%load_ext autoreload\n",
    "%autoreload 2"
   ]
  },
  {
   "metadata": {},
   "cell_type": "code",
   "outputs": [],
   "execution_count": null,
   "source": [
    "import ipywidgets as widgets\n",
    "import matplotlib.pyplot as plt\n",
    "\n",
    "plt.style.use(['science','no-latex'])\n",
    "\n",
    "# Query the current default figure size\n",
    "current_fig_size = plt.rcParams[\"figure.figsize\"]\n",
    "print(f\"Current default figure size: {current_fig_size}\")\n",
    "\n",
    "# Define a scalar factor\n",
    "scalar_factor = 1.5\n",
    "\n",
    "# Multiply the current figure size by the scalar factor\n",
    "new_fig_size = [size * scalar_factor for size in current_fig_size]\n",
    "\n",
    "# Set the new default figure size\n",
    "plt.rcParams[\"figure.figsize\"] = new_fig_size\n",
    "\n",
    "print(f\"New default figure size: {new_fig_size}\")\n",
    "\n",
    "\n",
    "import numpy as np\n",
    "import torch\n",
    "\n",
    "device = \"cuda\" if torch.cuda.is_available() else \"cpu\"\n"
   ]
  },
  {
   "metadata": {},
   "cell_type": "code",
   "outputs": [],
   "execution_count": null,
   "source": [
    "from polcanet import LinearDecoder, PolcaNet, utils as ut\n",
    "from polcanet.aencoders import ConvEncoder"
   ]
  },
  {
   "metadata": {},
   "cell_type": "code",
   "outputs": [],
   "execution_count": null,
   "source": "import polcanet.reports as report"
  },
  {
   "metadata": {},
   "cell_type": "code",
   "outputs": [],
   "execution_count": null,
   "source": [
    "\n",
    "import random\n",
    "\n",
    "random_seed = 5\n",
    "np.random.seed(random_seed)\n",
    "torch.manual_seed(random_seed)\n",
    "random.seed(random_seed)\n",
    "\n",
    "torch.autograd.set_detect_anomaly(False)\n",
    "torch.autograd.profiler.profile(False)\n",
    "torch.autograd.profiler.emit_nvtx(False)\n",
    "\n",
    "exp = ut.ExperimentInfoHandler(\n",
    "    name=\"MNIST_dataset\",\n",
    "    description=\"POLCA-Net on MNIST dataset\",\n",
    "    random_seed=random_seed,\n",
    ")\n",
    "ut.set_save_fig(True)\n",
    "ut.set_save_path(str(exp.get_experiment_folder()))\n",
    "print(f\"Saving Images: {ut.get_save_fig()}, saving in path: {ut.get_save_path()}\")"
   ]
  },
  {
   "metadata": {},
   "cell_type": "markdown",
   "source": "### Load dataset"
  },
  {
   "metadata": {},
   "cell_type": "code",
   "outputs": [],
   "execution_count": null,
   "source": [
    "\n",
    "from torchvision.datasets import MNIST\n",
    "mnist_trainset = MNIST(root=\"data/MNIST\", train=True, download=True, transform=None)\n",
    "mnist_testset = MNIST(root=\"data/MNIST\", train=False, download=True, transform=None)"
   ]
  },
  {
   "metadata": {},
   "cell_type": "code",
   "outputs": [],
   "execution_count": null,
   "source": [
    "train_dataset = mnist_trainset.data.reshape(-1, 28, 28) / 255.0\n",
    "eval_dataset = mnist_testset.data.reshape(-1, 28, 28) / 255.0\n",
    "y = mnist_trainset.targets.numpy()\n",
    "y_test = mnist_testset.targets.numpy()\n",
    "\n",
    "X = np.array(train_dataset.numpy(), dtype=np.float32)\n",
    "X = np.squeeze(X)\n",
    "print(X.min(),X.max())\n",
    "X_test = np.array(eval_dataset.numpy(), dtype=np.float32)\n",
    "X_test = np.squeeze(X_test)\n",
    "train_dataset.shape, eval_dataset.shape, X.shape,X_test.shape, y.shape, y_test.shape"
   ]
  },
  {
   "metadata": {},
   "cell_type": "code",
   "outputs": [],
   "execution_count": null,
   "source": [
    "ut.set_fig_prefix(\"sin_train\")\n",
    "ut.plot_train_images(X, \"MNIST train dataset images\",cmap=\"gray\", n=7)\n",
    "ut.set_fig_prefix(\"sin_test\")\n",
    "ut.plot_train_images(X_test, \"MNIST test dataset images\",cmap=\"gray\", n=7)"
   ]
  },
  {
   "metadata": {},
   "cell_type": "markdown",
   "source": "### Fit standard sklearn PCA"
  },
  {
   "metadata": {},
   "cell_type": "code",
   "outputs": [],
   "execution_count": null,
   "source": [
    "n_components = 28 #  int(np.prod(X.shape[1:]) // 25)\n",
    "fig, axs = plt.subplots(1,1,sharex=True, sharey=True,layout='constrained')\n",
    "pca = ut.get_pca(X,n_components=n_components,title=\"PCA on MNIST\",ax=axs,)\n",
    "Xpca = pca.transform(np.squeeze(X.reshape(X.shape[0], -1)))\n",
    "plt.show()"
   ]
  },
  {
   "metadata": {},
   "cell_type": "markdown",
   "source": "### Fit POLCANet"
  },
  {
   "metadata": {},
   "cell_type": "code",
   "outputs": [],
   "execution_count": null,
   "source": [
    "N = X[0].shape[0]\n",
    "M = X[0].shape[1]"
   ]
  },
  {
   "metadata": {},
   "cell_type": "code",
   "outputs": [],
   "execution_count": null,
   "source": [
    "act_fn = torch.nn.SiLU\n",
    "input_dim = (N, M)\n",
    "latent_dim = pca.n_components\n",
    "assert N == input_dim[0], \"input_dim[0] should match first matrix dimension N\"\n",
    "assert M == input_dim[1], \"input_dim[1] should match second matrix dimension M\"\n",
    "\n",
    "\n",
    "\n",
    "encoder = ConvEncoder(\n",
    "    input_channels=1,\n",
    "    latent_dim=latent_dim,\n",
    "    conv_dim=2,\n",
    "    initial_channels=8,\n",
    "    growth_factor=2,\n",
    "    num_layers=5,\n",
    "    act_fn=act_fn,\n",
    ")\n",
    "\n",
    "decoder = LinearDecoder(\n",
    "    latent_dim=latent_dim,\n",
    "    input_dim=input_dim,\n",
    "    hidden_dim=512,\n",
    "    num_layers=5,\n",
    "    act_fn=act_fn,\n",
    "    bias = False,\n",
    ")\n",
    "\n",
    "model = PolcaNet(\n",
    "    encoder=encoder,\n",
    "    decoder=decoder,\n",
    "    latent_dim=latent_dim,\n",
    "    alpha=1.0,  # ortgogonality loss\n",
    "    beta=1.0,  # variance sorting loss\n",
    "    gamma=0.0,  # variance reduction loss\n",
    "    device=\"cuda\",\n",
    "    center=True,\n",
    "    factor_scale=True,\n",
    ")\n",
    "\n",
    "ut.save_text(str(model), \"model.txt\")\n",
    "print(model)"
   ]
  },
  {
   "metadata": {},
   "cell_type": "code",
   "outputs": [],
   "execution_count": null,
   "source": [
    "model.to(device)\n",
    "model.train_model(data=X,batch_size=512, num_epochs=5000, report_freq=10, lr=1e-3)"
   ]
  },
  {
   "metadata": {},
   "cell_type": "code",
   "outputs": [],
   "execution_count": null,
   "source": "model.train_model(data=X,batch_size=512, num_epochs=5000, report_freq=10, lr=1e-4)"
  },
  {
   "metadata": {},
   "cell_type": "code",
   "outputs": [],
   "execution_count": null,
   "source": "model.train_model(data=X, batch_size=512, num_epochs=5000, report_freq=10, lr=1e-5)"
  },
  {
   "metadata": {},
   "cell_type": "markdown",
   "source": "## Evaluate results"
  },
  {
   "metadata": {},
   "cell_type": "code",
   "outputs": [],
   "execution_count": null,
   "source": [
    "ut.set_fig_prefix(\"train\")\n",
    "report.analyze_reconstruction_error(model, X)\n",
    "ut.set_fig_prefix(\"test\")\n",
    "report.analyze_reconstruction_error(model, X_test)"
   ]
  },
  {
   "metadata": {},
   "cell_type": "code",
   "outputs": [],
   "execution_count": null,
   "source": "latents, reconstructed = model.predict(X)"
  },
  {
   "metadata": {},
   "cell_type": "code",
   "outputs": [],
   "execution_count": null,
   "source": [
    "# Assuming images are properly defined as before\n",
    "images = X[0:25]\n",
    "ut.set_fig_prefix(\"train\")\n",
    "ut.plot_reconstruction_comparison(model,pca,images,cmap=\"gray\",nrow=5)\n",
    "images = X_test[0:25]\n",
    "ut.set_fig_prefix(\"test\")\n",
    "ut.plot_reconstruction_comparison(model,pca,images,cmap=\"gray\",nrow=5)"
   ]
  },
  {
   "metadata": {},
   "cell_type": "code",
   "outputs": [],
   "execution_count": null,
   "source": [
    "ut.set_fig_prefix(\"train\")\n",
    "report.orthogonality_test_analysis(model, X)\n",
    "ut.set_fig_prefix(\"test\")\n",
    "report.orthogonality_test_analysis(model, X_test)"
   ]
  },
  {
   "metadata": {},
   "cell_type": "code",
   "outputs": [],
   "execution_count": null,
   "source": [
    "ut.set_fig_prefix(\"train\")\n",
    "report.variance_test_analysis(model, X)\n",
    "ut.set_fig_prefix(\"test\")\n",
    "report.variance_test_analysis(model, X_test)"
   ]
  },
  {
   "metadata": {},
   "cell_type": "code",
   "outputs": [],
   "execution_count": null,
   "source": [
    "ut.set_fig_prefix(\"train\")\n",
    "report.linearity_tests_analysis(model, X)\n",
    "ut.set_fig_prefix(\"test\")\n",
    "report.linearity_tests_analysis(model, X_test)"
   ]
  },
  {
   "metadata": {},
   "cell_type": "code",
   "outputs": [],
   "execution_count": null,
   "source": [
    "def plot2d_analysis(X, y, title, legend=True):\n",
    "    fig = plt.figure(1, figsize=(5, 5))\n",
    "    ax = fig.add_subplot(111)\n",
    "\n",
    "    for label in range(10):\n",
    "        ax.scatter(X[y == label, 0], X[y == label, 1], label=label,alpha=0.7, s=1)\n",
    "        ax.set_xlabel(\"component: 0\")\n",
    "        ax.set_ylabel(\"component 1\")\n",
    "    if legend:\n",
    "        plt.legend(loc=\"center left\", bbox_to_anchor=(1, 0.5))\n",
    "    plt.title(title)\n",
    "    plt.show()\n",
    "    return fig, ax"
   ]
  },
  {
   "metadata": {},
   "cell_type": "code",
   "outputs": [],
   "execution_count": null,
   "source": [
    "o1 = widgets.Output()\n",
    "o2 = widgets.Output()\n",
    "with o1:\n",
    "    _, _ = plot2d_analysis(Xpca, y, title=\"PCA transform\", legend=True)\n",
    "with o2:\n",
    "    _, _ = plot2d_analysis(latents, y, title=\"POLCA-Net latent\")\n",
    "layout = widgets.Layout(grid_template_columns=\"repeat(2, 600px)\")\n",
    "accordion = widgets.GridBox(children=[o1, o2], layout=layout)\n",
    "display(accordion)"
   ]
  },
  {
   "metadata": {},
   "cell_type": "code",
   "outputs": [],
   "execution_count": null,
   "source": [
    "latents, reconstructed = model.predict(X)\n",
    "vectors = []\n",
    "labels = [str(i) for i in range(10)]\n",
    "for c, label in enumerate(labels):\n",
    "    vectors.append(np.sum(latents[y == c, :], axis=1))\n",
    "\n",
    "\n",
    "plt.boxplot(vectors, tick_labels=labels)\n",
    "plt.violinplot(vectors, showmeans=False, showmedians=True)\n",
    "plt.suptitle(\"Polca Analysis of the summation of latent orthogonal components\")\n",
    "plt.show()"
   ]
  },
  {
   "metadata": {},
   "cell_type": "code",
   "outputs": [],
   "execution_count": null,
   "source": [
    "import seaborn as sns\n",
    "\n",
    "o1 = widgets.Output()\n",
    "o2 = widgets.Output()\n",
    "\n",
    "\n",
    "with o1:\n",
    "    scores = model.score(X)\n",
    "    sns.displot(scores, kde=True)\n",
    "    plt.title(\"Last component with clean data\")\n",
    "    plt.show()\n",
    "\n",
    "with o2:\n",
    "    scores = model.score(X * (np.random.random(size=X.shape) - 0.5) * 1)\n",
    "    sns.displot(scores, kde=True)\n",
    "    plt.title(\"Last componet with uniform noise in data\")\n",
    "    plt.show()\n",
    "\n",
    "\n",
    "layout = widgets.Layout(grid_template_columns=\"repeat(2, 500px)\")\n",
    "accordion = widgets.GridBox(children=[o1, o2], layout=layout)\n",
    "display(accordion)"
   ]
  },
  {
   "metadata": {},
   "cell_type": "markdown",
   "source": "## Test Classification with two components on PCA vs POLCA Net"
  },
  {
   "metadata": {},
   "cell_type": "code",
   "outputs": [],
   "execution_count": null,
   "source": "_ = ut.make_classification_report(model, pca, X, y)"
  },
  {
   "metadata": {},
   "cell_type": "code",
   "outputs": [],
   "execution_count": null,
   "source": [
    "experiment_data = {\n",
    "    \"MNIST\": (\n",
    "        X_test,\n",
    "        model,\n",
    "        pca,\n",
    "    ),\n",
    "}\n",
    "_ = ut.image_metrics_table(experiment_data)"
   ]
  },
  {
   "cell_type": "code",
   "execution_count": null,
   "metadata": {},
   "outputs": [],
   "source": "\n"
  }
 ],
 "metadata": {
  "interpreter": {
   "hash": "95022f601a219c6b6d093149c9a9b9a061a4446d3680d89cef8a1f82970031f2"
  },
  "kernelspec": {
   "display_name": "Python 3 (ipykernel)",
   "language": "python",
   "name": "python3"
  },
  "language_info": {
   "codemirror_mode": {
    "name": "ipython",
    "version": 3
   },
   "file_extension": ".py",
   "mimetype": "text/x-python",
   "name": "python",
   "nbconvert_exporter": "python",
   "pygments_lexer": "ipython3",
   "version": "3.12.3"
  }
 },
 "nbformat": 4,
 "nbformat_minor": 4
}
