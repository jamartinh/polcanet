{
 "cells": [
  {
   "cell_type": "markdown",
   "metadata": {
    "editable": true,
    "slideshow": {
     "slide_type": ""
    },
    "tags": []
   },
   "source": [
    "# **P**rincipal **O**rthogonal **L**atent **C**omponents **A**nalysis Net (POLCA-Net)"
   ]
  },
  {
   "cell_type": "code",
   "execution_count": null,
   "metadata": {
    "ExecuteTime": {
     "end_time": "2024-07-05T20:24:29.264294Z",
     "start_time": "2024-07-05T20:24:29.244120Z"
    },
    "tags": []
   },
   "outputs": [],
   "source": [
    "%load_ext autoreload\n",
    "%autoreload 2"
   ]
  },
  {
   "cell_type": "code",
   "execution_count": null,
   "metadata": {
    "ExecuteTime": {
     "end_time": "2024-07-05T20:24:35.998606Z",
     "start_time": "2024-07-05T20:24:34.618817Z"
    }
   },
   "outputs": [],
   "source": [
    "import ipywidgets as widgets\n",
    "import matplotlib.pyplot as plt\n",
    "import seaborn\n",
    "\n",
    "\n",
    "import scienceplots\n",
    "plt.style.use(['science','no-latex'])\n",
    "\n",
    "# Query the current default figure size\n",
    "current_fig_size = plt.rcParams[\"figure.figsize\"]\n",
    "print(f\"Current default figure size: {current_fig_size}\")\n",
    "\n",
    "# Define a scalar factor\n",
    "scalar_factor = 1.5\n",
    "\n",
    "# Multiply the current figure size by the scalar factor\n",
    "new_fig_size = [size * scalar_factor for size in current_fig_size]\n",
    "\n",
    "# Set the new default figure size\n",
    "plt.rcParams[\"figure.figsize\"] = new_fig_size\n",
    "\n",
    "print(f\"New default figure size: {new_fig_size}\")\n",
    "\n",
    "\n",
    "import numpy as np\n",
    "import torch\n",
    "\n",
    "device = \"cuda\" if torch.cuda.is_available() else \"cpu\"\n",
    "\n",
    "from sklearn import datasets, decomposition"
   ]
  },
  {
   "cell_type": "code",
   "execution_count": null,
   "metadata": {
    "ExecuteTime": {
     "end_time": "2024-07-05T20:24:37.082692Z",
     "start_time": "2024-07-05T20:24:37.045050Z"
    },
    "editable": true,
    "slideshow": {
     "slide_type": ""
    },
    "tags": []
   },
   "outputs": [],
   "source": [
    "from polcanet import LinearDecoder, PolcaNet, PolcaNetLoss\n",
    "from polcanet.example_aencoders import ConvEncoder"
   ]
  },
  {
   "cell_type": "code",
   "execution_count": null,
   "metadata": {
    "ExecuteTime": {
     "end_time": "2024-07-05T20:24:37.082692Z",
     "start_time": "2024-07-05T20:24:37.045050Z"
    },
    "tags": []
   },
   "outputs": [],
   "source": [
    "import polcanet.polcanet_reports as report"
   ]
  },
  {
   "cell_type": "code",
   "execution_count": null,
   "metadata": {
    "ExecuteTime": {
     "end_time": "2024-07-05T20:24:37.082692Z",
     "start_time": "2024-07-05T20:24:37.045050Z"
    },
    "editable": true,
    "slideshow": {
     "slide_type": ""
    },
    "tags": []
   },
   "outputs": [],
   "source": [
    "import utils as ut\n",
    "import random\n",
    "\n",
    "random_seed = 5\n",
    "np.random.seed(random_seed)\n",
    "torch.manual_seed(random_seed)\n",
    "random.seed(random_seed)\n",
    "\n",
    "torch.autograd.set_detect_anomaly(False)\n",
    "torch.autograd.profiler.profile(False)\n",
    "torch.autograd.profiler.emit_nvtx(False)\n",
    "\n",
    "exp = ut.ExperimentInfoHandler(\n",
    "    name=\"MNIST_dataset\",\n",
    "    description=\"POLCA-Net on MNIST dataset\",\n",
    "    random_seed=random_seed,\n",
    ")\n",
    "report.set_save_fig(True)\n",
    "report.set_save_path(str(exp.get_experiment_folder()))\n",
    "print(f\"Saving Images: {report.get_save_fig()}, saving in path: {report.get_save_path()}\")"
   ]
  },
  {
   "cell_type": "markdown",
   "metadata": {
    "tags": []
   },
   "source": [
    "### Load dataset"
   ]
  },
  {
   "cell_type": "code",
   "execution_count": null,
   "metadata": {},
   "outputs": [],
   "source": [
    "import torchvision.datasets as datasets\n",
    "from torch.utils.data import DataLoader, TensorDataset\n",
    "from torchvision.datasets import MNIST\n",
    "mnist_trainset = MNIST(root=\"data/MNIST\", train=True, download=True, transform=None)"
   ]
  },
  {
   "cell_type": "code",
   "execution_count": null,
   "metadata": {},
   "outputs": [],
   "source": [
    "train_dataset = mnist_trainset.data[:-10000].reshape(-1, 28, 28) / 255.0\n",
    "eval_dataset = mnist_trainset.data[-10000:].reshape(-1, 28, 28) / 255.0\n",
    "y = mnist_trainset.targets[:-10000].numpy()\n",
    "y_test = mnist_trainset.targets[-10000:].numpy()\n",
    "X = np.array(train_dataset.numpy(), dtype=np.float32)\n",
    "X = np.squeeze(X)\n",
    "X_test = np.array(eval_dataset.numpy(), dtype=np.float32)\n",
    "X_test = np.squeeze(X_test)\n",
    "train_dataset.shape, eval_dataset.shape, X.shape,X_test.shape, y_train.shape, y_test.shape"
   ]
  },
  {
   "cell_type": "code",
   "execution_count": null,
   "metadata": {
    "editable": true,
    "slideshow": {
     "slide_type": ""
    },
    "tags": []
   },
   "outputs": [],
   "source": [
    "ut.plot_train_images(X, \"MNIST dataset images\",cmap=\"gray\", n=5)"
   ]
  },
  {
   "cell_type": "markdown",
   "metadata": {
    "tags": []
   },
   "source": [
    "### Fit standard sklearn PCA"
   ]
  },
  {
   "cell_type": "code",
   "execution_count": null,
   "metadata": {
    "ExecuteTime": {
     "end_time": "2024-07-05T20:24:42.736209Z",
     "start_time": "2024-07-05T20:24:42.710916Z"
    },
    "editable": true,
    "slideshow": {
     "slide_type": ""
    },
    "tags": []
   },
   "outputs": [],
   "source": [
    "n_components = int(np.prod(X.shape[1:]) // 25)\n",
    "fig, axs = plt.subplots(1,1,sharex=True, sharey=True,layout='constrained')\n",
    "pca = ut.get_pca(X,n_components=n_components,title=\"PCA on MNIST\",ax=axs,)\n",
    "Xpca = pca.transform(np.squeeze(X.reshape(X.shape[0], -1)))\n",
    "plt.show()"
   ]
  },
  {
   "cell_type": "markdown",
   "metadata": {
    "tags": []
   },
   "source": [
    "### Fit POLCANet"
   ]
  },
  {
   "cell_type": "code",
   "execution_count": null,
   "metadata": {
    "ExecuteTime": {
     "end_time": "2024-07-05T20:24:44.401718Z",
     "start_time": "2024-07-05T20:24:44.313568Z"
    },
    "tags": []
   },
   "outputs": [],
   "source": [
    "N = X[0].shape[0]\n",
    "M = X[0].shape[1]"
   ]
  },
  {
   "cell_type": "code",
   "execution_count": null,
   "metadata": {
    "ExecuteTime": {
     "end_time": "2024-07-05T20:24:44.401718Z",
     "start_time": "2024-07-05T20:24:44.313568Z"
    },
    "tags": []
   },
   "outputs": [],
   "source": [
    "act_fn = torch.nn.SiLU\n",
    "input_dim = (N, M)\n",
    "latent_dim = pca.n_components\n",
    "assert N == input_dim[0], \"input_dim[0] should match first matrix dimension N\"\n",
    "assert M == input_dim[1], \"input_dim[1] should match second matrix dimension M\"\n",
    "\n",
    "\n",
    "encoder = ConvEncoder(\n",
    "    input_channels=1,\n",
    "    latent_dim=latent_dim,\n",
    "    conv_dim=2,\n",
    "    initial_channels=8,\n",
    "    growth_factor=2,\n",
    "    num_layers=5,\n",
    "    act_fn=act_fn,\n",
    ")\n",
    "\n",
    "decoder = LinearDecoder(\n",
    "    latent_dim=latent_dim,\n",
    "    input_dim=input_dim,\n",
    "    hidden_dim=512,\n",
    "    num_layers=5,\n",
    "    act_fn=act_fn,\n",
    ")\n",
    "\n",
    "model = PolcaNet(\n",
    "    encoder=encoder,\n",
    "    decoder=decoder,\n",
    "    latent_dim=latent_dim,\n",
    "    alpha=1.0,  # ortgogonality loss\n",
    "    beta=1.0,  # variance sorting loss\n",
    "    gamma=0.0,  # variance reduction loss\n",
    "    device=device,\n",
    "    center=True,\n",
    "    factor_scale=True,\n",
    ")\n",
    "model"
   ]
  },
  {
   "cell_type": "code",
   "execution_count": null,
   "metadata": {},
   "outputs": [],
   "source": [
    "# train_dataloader = DataLoader(X, batch_size=2*512, shuffle=True,num_workers=0)\n",
    "# test_dataloader = DataLoader(X_test, batch_size=2*512, shuffle=True, num_workers=0)"
   ]
  },
  {
   "cell_type": "code",
   "execution_count": null,
   "metadata": {
    "ExecuteTime": {
     "end_time": "2024-07-05T20:24:44.401718Z",
     "start_time": "2024-07-05T20:24:44.313568Z"
    },
    "tags": []
   },
   "outputs": [],
   "source": [
    "model.to(device)\n",
    "model.train_model(data=X,batch_size=2*512, num_epochs=2000, report_freq=10, lr=1e-3)"
   ]
  },
  {
   "cell_type": "code",
   "execution_count": null,
   "metadata": {
    "ExecuteTime": {
     "end_time": "2024-07-05T20:25:46.131475Z",
     "start_time": "2024-07-05T20:25:16.619408Z"
    },
    "collapsed": false,
    "jupyter": {
     "outputs_hidden": false
    }
   },
   "outputs": [],
   "source": [
    "model.train_model(data=X,batch_size=2*512, num_epochs=2000, report_freq=10, lr=1e-4)"
   ]
  },
  {
   "cell_type": "code",
   "execution_count": null,
   "metadata": {
    "ExecuteTime": {
     "end_time": "2024-07-05T20:25:46.131475Z",
     "start_time": "2024-07-05T20:25:16.619408Z"
    },
    "collapsed": false,
    "jupyter": {
     "outputs_hidden": false
    }
   },
   "outputs": [],
   "source": [
    "model.train_model(data=X, batch_size=2*512, num_epochs=2000, report_freq=10, lr=1e-5)"
   ]
  },
  {
   "cell_type": "markdown",
   "metadata": {
    "tags": []
   },
   "source": [
    "## Evaluate results"
   ]
  },
  {
   "cell_type": "code",
   "execution_count": null,
   "metadata": {
    "ExecuteTime": {
     "end_time": "2024-07-05T21:06:02.858038Z",
     "start_time": "2024-07-05T21:06:02.832778Z"
    },
    "tags": []
   },
   "outputs": [],
   "source": [
    "report.analyze_reconstruction_error(model, X[:-20000])"
   ]
  },
  {
   "cell_type": "code",
   "execution_count": null,
   "metadata": {
    "ExecuteTime": {
     "end_time": "2024-07-05T21:06:02.858038Z",
     "start_time": "2024-07-05T21:06:02.832778Z"
    },
    "tags": []
   },
   "outputs": [],
   "source": [
    "latents, reconstructed = model.predict(X)"
   ]
  },
  {
   "cell_type": "code",
   "execution_count": null,
   "metadata": {
    "editable": true,
    "slideshow": {
     "slide_type": ""
    },
    "tags": []
   },
   "outputs": [],
   "source": [
    "# Assuming images are properly defined as before\n",
    "images = X_test[0:50]\n",
    "\n",
    "# Reconstruct and visualise the images using the autoencoder\n",
    "_, ae_reconstructed = model.predict(images)\n",
    "\n",
    "# Reconstruct and visualize the imagaes by PCA\n",
    "pca_latents = pca.transform(images.reshape(images.shape[0], -1))\n",
    "pca_reconstructed = pca.inverse_transform(pca_latents)\n",
    "pca_reconstructed = pca_reconstructed.reshape(images.shape[0], N, M)\n",
    "\n",
    "ut.visualise_reconstructed_images(\n",
    "    [images, ae_reconstructed, pca_reconstructed],\n",
    "    title_list=[\n",
    "        \"Original\",\n",
    "        \"POLCA-Net reconstruction\",\n",
    "        \"PCA reconstruction\",\n",
    "    ],\n",
    "    cmap=\"gray\",\n",
    "    nrow=10,\n",
    ")"
   ]
  },
  {
   "cell_type": "code",
   "execution_count": null,
   "metadata": {
    "ExecuteTime": {
     "end_time": "2024-07-05T21:06:03.848230Z",
     "start_time": "2024-07-05T21:06:03.822048Z"
    },
    "tags": []
   },
   "outputs": [],
   "source": [
    "report.analyze_latent_space(model, latents=latents)"
   ]
  },
  {
   "cell_type": "code",
   "execution_count": null,
   "metadata": {
    "ExecuteTime": {
     "end_time": "2024-07-05T20:27:13.761017Z",
     "start_time": "2024-07-05T20:27:13.732856Z"
    }
   },
   "outputs": [],
   "source": [
    "report.orthogonality_test_analysis(model, X)"
   ]
  },
  {
   "cell_type": "code",
   "execution_count": null,
   "metadata": {
    "ExecuteTime": {
     "end_time": "2024-07-05T20:27:13.761017Z",
     "start_time": "2024-07-05T20:27:13.732856Z"
    }
   },
   "outputs": [],
   "source": [
    "report.variance_test_analysis(model, X)"
   ]
  },
  {
   "cell_type": "code",
   "execution_count": null,
   "metadata": {
    "ExecuteTime": {
     "end_time": "2024-07-05T20:27:13.761017Z",
     "start_time": "2024-07-05T20:27:13.732856Z"
    }
   },
   "outputs": [],
   "source": [
    "report.linearity_tests_analysis(model, X)"
   ]
  },
  {
   "cell_type": "code",
   "execution_count": null,
   "metadata": {
    "ExecuteTime": {
     "end_time": "2024-07-05T21:06:15.610838Z",
     "start_time": "2024-07-05T21:06:15.585880Z"
    },
    "tags": []
   },
   "outputs": [],
   "source": [
    "def plot2d_analysis(X, y, title, legend=True):\n",
    "    fig = plt.figure(1, figsize=(5, 5))\n",
    "    ax = fig.add_subplot(111)\n",
    "\n",
    "    for label in range(10):\n",
    "        ax.scatter(X[y == label, 0], X[y == label, 1], label=label)\n",
    "        ax.set_xlabel(\"component: 0\")\n",
    "        ax.set_ylabel(\"component 1\")\n",
    "    if legend:\n",
    "        plt.legend(loc=\"center left\", bbox_to_anchor=(1, 0.5))\n",
    "    plt.title(title)\n",
    "    plt.show()\n",
    "    return fig, ax"
   ]
  },
  {
   "cell_type": "code",
   "execution_count": null,
   "metadata": {
    "ExecuteTime": {
     "end_time": "2024-07-05T21:06:18.073238Z",
     "start_time": "2024-07-05T21:06:17.757219Z"
    }
   },
   "outputs": [],
   "source": [
    "o1 = widgets.Output()\n",
    "o2 = widgets.Output()\n",
    "with o1:\n",
    "    _, _ = plot2d_analysis(Xpca, y_train, title=\"PCA transform\", legend=True)\n",
    "with o2:\n",
    "    _, _ = plot2d_analysis(latents, y_train, title=\"POLCA-Net latent\")\n",
    "layout = widgets.Layout(grid_template_columns=\"repeat(2, 600px)\")\n",
    "accordion = widgets.GridBox(children=[o1, o2], layout=layout)\n",
    "display(accordion)"
   ]
  },
  {
   "cell_type": "code",
   "execution_count": null,
   "metadata": {
    "ExecuteTime": {
     "end_time": "2024-07-05T21:06:40.553393Z",
     "start_time": "2024-07-05T21:06:40.426319Z"
    }
   },
   "outputs": [],
   "source": [
    "latents, reconstructed = model.predict(X)\n",
    "vectors = []\n",
    "labels = [str(i) for i in range(10)]\n",
    "for c, label in enumerate(labels):\n",
    "    vectors.append(np.sum(latents[y_train == c, :], axis=1))\n",
    "\n",
    "\n",
    "plt.boxplot(vectors, tick_labels=labels)\n",
    "plt.violinplot(vectors, showmeans=False, showmedians=True)\n",
    "plt.suptitle(\"Polca Analysis of the summation of latent orthogonal components\")\n",
    "plt.show()"
   ]
  },
  {
   "cell_type": "code",
   "execution_count": null,
   "metadata": {
    "ExecuteTime": {
     "end_time": "2024-07-05T21:06:45.532569Z",
     "start_time": "2024-07-05T21:06:45.019812Z"
    }
   },
   "outputs": [],
   "source": [
    "import seaborn as sns\n",
    "\n",
    "o1 = widgets.Output()\n",
    "o2 = widgets.Output()\n",
    "\n",
    "\n",
    "with o1:\n",
    "    scores = model.score(X)\n",
    "    sns.displot(scores, kde=True)\n",
    "    plt.title(\"Last component with clean data\")\n",
    "    plt.show()\n",
    "\n",
    "with o2:\n",
    "    scores = model.score(X * (np.random.random(size=X.shape) - 0.5) * 1)\n",
    "    sns.displot(scores, kde=True)\n",
    "    plt.title(\"Last componet with uniform noise in data\")\n",
    "    plt.show()\n",
    "\n",
    "\n",
    "layout = widgets.Layout(grid_template_columns=\"repeat(2, 500px)\")\n",
    "accordion = widgets.GridBox(children=[o1, o2], layout=layout)\n",
    "display(accordion)"
   ]
  },
  {
   "cell_type": "markdown",
   "metadata": {},
   "source": [
    "## Test Classification with two components on PCA vs POLCA Net"
   ]
  },
  {
   "cell_type": "code",
   "execution_count": null,
   "metadata": {
    "editable": true,
    "slideshow": {
     "slide_type": ""
    },
    "tags": []
   },
   "outputs": [],
   "source": [
    "_ = ut.make_classification_report(model, pca, X, y)"
   ]
  },
  {
   "cell_type": "code",
   "execution_count": null,
   "metadata": {
    "editable": true,
    "lines_to_next_cell": 0,
    "slideshow": {
     "slide_type": ""
    },
    "tags": []
   },
   "outputs": [],
   "source": [
    "experiment_data = {\n",
    "    \"MNIST\": (\n",
    "        X_test,\n",
    "        model,\n",
    "        pca,\n",
    "    ),\n",
    "}\n",
    "_ = ut.image_metrics_table(experiment_data)"
   ]
  },
  {
   "cell_type": "code",
   "execution_count": null,
   "metadata": {
    "lines_to_next_cell": 2
   },
   "outputs": [],
   "source": []
  }
 ],
 "metadata": {
  "interpreter": {
   "hash": "95022f601a219c6b6d093149c9a9b9a061a4446d3680d89cef8a1f82970031f2"
  },
  "jupytext": {
   "formats": "ipynb,py:light"
  },
  "kernelspec": {
   "display_name": "Python 3 (ipykernel)",
   "language": "python",
   "name": "python3"
  },
  "language_info": {
   "codemirror_mode": {
    "name": "ipython",
    "version": 3
   },
   "file_extension": ".py",
   "mimetype": "text/x-python",
   "name": "python",
   "nbconvert_exporter": "python",
   "pygments_lexer": "ipython3",
   "version": "3.12.4"
  }
 },
 "nbformat": 4,
 "nbformat_minor": 4
}
