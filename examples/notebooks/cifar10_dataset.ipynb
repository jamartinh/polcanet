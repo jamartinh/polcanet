{
 "cells": [
  {
   "cell_type": "markdown",
   "metadata": {
    "editable": true,
    "slideshow": {
     "slide_type": ""
    },
    "tags": []
   },
   "source": [
    "# **P**rincipal **O**rthogonal **L**atent **C**omponents **A**nalysis Net (POLCA-Net)"
   ]
  },
  {
   "cell_type": "code",
   "execution_count": 38,
   "metadata": {
    "ExecuteTime": {
     "end_time": "2024-07-05T20:24:29.264294Z",
     "start_time": "2024-07-05T20:24:29.244120Z"
    },
    "tags": []
   },
   "outputs": [
    {
     "name": "stdout",
     "output_type": "stream",
     "text": [
      "The autoreload extension is already loaded. To reload it, use:\n",
      "  %reload_ext autoreload\n"
     ]
    }
   ],
   "source": [
    "import polcanet.utils\n",
    "%load_ext autoreload\n",
    "%autoreload 2"
   ]
  },
  {
   "cell_type": "code",
   "execution_count": 39,
   "metadata": {
    "ExecuteTime": {
     "end_time": "2024-07-05T20:24:35.998606Z",
     "start_time": "2024-07-05T20:24:34.618817Z"
    }
   },
   "outputs": [
    {
     "name": "stdout",
     "output_type": "stream",
     "text": [
      "Current default figure size: [3.5, 2.625]\n",
      "New default figure size: [5.25, 3.9375]\n"
     ]
    }
   ],
   "source": [
    "\n",
    "import matplotlib.pyplot as plt\n",
    "\n",
    "plt.style.use(['science','no-latex'])\n",
    "\n",
    "# Query the current default figure size\n",
    "current_fig_size = plt.rcParams[\"figure.figsize\"]\n",
    "print(f\"Current default figure size: {current_fig_size}\")\n",
    "\n",
    "# Define a scalar factor\n",
    "scalar_factor = 1.5\n",
    "\n",
    "# Multiply the current figure size by the scalar factor\n",
    "new_fig_size = [size * scalar_factor for size in current_fig_size]\n",
    "\n",
    "# Set the new default figure size\n",
    "plt.rcParams[\"figure.figsize\"] = new_fig_size\n",
    "\n",
    "print(f\"New default figure size: {new_fig_size}\")\n",
    "\n",
    "\n",
    "import numpy as np\n",
    "import torch\n",
    "\n",
    "device = \"cuda\" if torch.cuda.is_available() else \"cpu\"\n"
   ]
  },
  {
   "metadata": {},
   "cell_type": "code",
   "outputs": [],
   "execution_count": null,
   "source": "from polcanet import LinearDecoder, PolcaNet, utils as ut"
  },
  {
   "metadata": {},
   "cell_type": "code",
   "outputs": [],
   "execution_count": null,
   "source": "import polcanet.reports as report"
  },
  {
   "metadata": {},
   "cell_type": "code",
   "outputs": [],
   "execution_count": null,
   "source": [
    "\n",
    "import random\n",
    "\n",
    "random_seed = 5\n",
    "np.random.seed(random_seed)\n",
    "torch.manual_seed(random_seed)\n",
    "random.seed(random_seed)\n",
    "\n",
    "torch.autograd.set_detect_anomaly(False)\n",
    "torch.autograd.profiler.profile(False)\n",
    "torch.autograd.profiler.emit_nvtx(False)\n",
    "\n",
    "exp = ut.ExperimentInfoHandler(\n",
    "    name=\"cifar10_dataset\",\n",
    "    description=\"POLCA-Net on cifar10 dataset\",\n",
    "    random_seed=random_seed,\n",
    ")\n",
    "ut.set_save_fig(True)\n",
    "ut.set_save_path(str(exp.get_experiment_folder()))\n",
    "print(f\"Saving Images: {ut.get_save_fig()}, saving in path: {ut.get_save_path()}\")"
   ]
  },
  {
   "metadata": {},
   "cell_type": "markdown",
   "source": "### Load dataset"
  },
  {
   "metadata": {},
   "cell_type": "code",
   "outputs": [],
   "execution_count": null,
   "source": [
    "\n",
    "from torchvision.datasets import CIFAR10\n",
    "\n",
    "# Load CIFAR-10 dataset\n",
    "cifar_trainset = CIFAR10(root=\"data/CIFAR10\", train=True, download=True, transform=None)\n",
    "cifar_testset = CIFAR10(root=\"data/CIFAR10\", train=False, download=True, transform=None)"
   ]
  },
  {
   "metadata": {},
   "cell_type": "code",
   "outputs": [],
   "execution_count": null,
   "source": [
    "train_dataset = cifar_trainset.data / 255.0  #.reshape(-1, 32, 32, 3) / 255.0 \n",
    "eval_dataset = cifar_testset.data / 255.0 # .reshape(-1, 32, 32, 3) / 255.0   \n",
    "\n",
    "y = np.array(cifar_trainset.targets)\n",
    "y_test = np.array(cifar_testset.targets)\n",
    "\n",
    "X = np.array(train_dataset, dtype=np.float32)\n",
    "X = np.squeeze(X)\n",
    "\n",
    "X_test = np.array(eval_dataset, dtype=np.float32)\n",
    "X_test = np.squeeze(X_test)\n",
    "\n",
    "if X.ndim==4:\n",
    "    X = np.moveaxis(X, -1, 1)\n",
    "    X_test = np.moveaxis(X_test, -1, 1)\n",
    "    \n",
    "\n",
    "train_dataset.shape, eval_dataset.shape, X.shape, X_test.shape, y.shape, y_test.shape, X[0].min(),X[0].max()"
   ]
  },
  {
   "metadata": {},
   "cell_type": "code",
   "outputs": [],
   "execution_count": null,
   "source": [
    "ut.set_fig_prefix(\"train\")\n",
    "print(\"cifar10 train dataset images:\")\n",
    "ut.plot_train_images(X, \"\", n=7)\n",
    "ut.set_fig_prefix(\"test\")\n",
    "print(\"cifar10 dataset images:\")\n",
    "ut.plot_train_images(X_test, \"\", n=7)"
   ]
  },
  {
   "metadata": {},
   "cell_type": "markdown",
   "source": "### Fit standard sklearn PCA"
  },
  {
   "metadata": {},
   "cell_type": "code",
   "outputs": [],
   "execution_count": null,
   "source": "32*3*3"
  },
  {
   "metadata": {},
   "cell_type": "code",
   "outputs": [],
   "execution_count": null,
   "source": [
    "n_components = 32 * 3 * 3\n",
    "fig, axs = plt.subplots(1,1,sharex=True, sharey=True,layout='constrained')\n",
    "pca = ut.get_pca(X,n_components=n_components,title=\"PCA on cifar10\",ax=axs)\n",
    "Xpca = pca.transform(np.squeeze(X.reshape(X.shape[0], -1)))\n",
    "plt.show()"
   ]
  },
  {
   "metadata": {},
   "cell_type": "markdown",
   "source": "### Fit POLCANet"
  },
  {
   "metadata": {},
   "cell_type": "code",
   "outputs": [],
   "execution_count": null,
   "source": [
    "N = X[0].shape[-1]\n",
    "M = X[0].shape[-2]\n",
    "X[0].shape, N, M"
   ]
  },
  {
   "metadata": {},
   "cell_type": "code",
   "outputs": [],
   "execution_count": null,
   "source": [
    "act_fn = torch.nn.SiLU\n",
    "input_dim = X[0].shape\n",
    "latent_dim = pca.n_components\n",
    "assert N == input_dim[-1], \"input_dim[-1] should match first matrix dimension N\"\n",
    "assert M == input_dim[-2], \"input_dim[-2] should match second matrix dimension M\"\n",
    "\n",
    "from polcanet.aencoders import ConvEncoder\n",
    "\n",
    "encoder = ConvEncoder(\n",
    "    input_channels=3,\n",
    "    latent_dim=latent_dim,\n",
    "    conv_dim=2,\n",
    "    initial_channels=8,\n",
    "    growth_factor=2,\n",
    "    num_layers=3,\n",
    "    act_fn=act_fn,\n",
    ")\n",
    "\n",
    "# encoder = VGG('VGG11', latent_dim=latent_dim, act_fn=act_fn)\n",
    "\n",
    "\n",
    "# # Load a pre-trained ResNet model and modify it for CIFAR-10\n",
    "# encoder = models.resnet18(weights=models.ResNet18_Weights.DEFAULT)  # Load a pre-trained ResNet18 model\n",
    "# num_ftrs = encoder.fc.in_features\n",
    "# encoder.fc = torch.nn.Linear(num_ftrs, latent_dim)  # Modify the last layer for 10 classes of CIFAR-10\n",
    "\n",
    "\n",
    "decoder = LinearDecoder(\n",
    "    latent_dim=latent_dim,\n",
    "    input_dim=input_dim,\n",
    "    hidden_dim=8*256,\n",
    "    num_layers=2,\n",
    "    # act_fn=act_fn,\n",
    "    bias=False,\n",
    ")\n",
    "\n",
    "# decoder = ConvDecoder(\n",
    "#     latent_dim=latent_dim,\n",
    "#     output_channels=3,\n",
    "#     conv_dim=2,\n",
    "#     num_layers=3,\n",
    "#     initial_channels=8,\n",
    "#     growth_factor=2,\n",
    "#     act_fn= torch.nn.Identity, # act_fn,\n",
    "#     output_act_fn= torch.nn.Identity, # torch.nn.Sigmoid,\n",
    "#     final_output_size=(32, 32),\n",
    "# )\n",
    "\n",
    "\n",
    "model = PolcaNet(\n",
    "    encoder=encoder,\n",
    "    decoder=decoder,\n",
    "    latent_dim=latent_dim,\n",
    "    alpha=1.0,  # ortgogonality loss\n",
    "    beta=1.0,  # variance sorting loss\n",
    "    gamma=0,  # variance reduction loss\n",
    "    device=device,\n",
    "    center=True,\n",
    "    factor_scale=True,\n",
    ")\n",
    "ut.save_text(str(model), \"model.txt\")\n",
    "model"
   ]
  },
  {
   "metadata": {},
   "cell_type": "code",
   "outputs": [],
   "execution_count": null,
   "source": [
    "# train_dataloader = DataLoader(X, batch_size=2*512, shuffle=True,num_workers=0)\n",
    "# test_dataloader = DataLoader(X_test, batch_size=2*512, shuffle=True, num_workers=0)"
   ]
  },
  {
   "metadata": {},
   "cell_type": "code",
   "outputs": [],
   "execution_count": null,
   "source": [
    "model.to(device)\n",
    "model.train_model(data=X,batch_size=2*256, num_epochs=1000, report_freq=10, lr=1e-3)"
   ]
  },
  {
   "metadata": {},
   "cell_type": "code",
   "outputs": [],
   "execution_count": null,
   "source": "model.train_model(data=X,batch_size=2*256, num_epochs=1000, report_freq=10, lr=1e-4)"
  },
  {
   "metadata": {},
   "cell_type": "code",
   "outputs": [],
   "execution_count": null,
   "source": "model.train_model(data=X, batch_size=2*256, num_epochs=100, report_freq=10, lr=1e-5)"
  },
  {
   "metadata": {},
   "cell_type": "markdown",
   "source": "## Evaluate results"
  },
  {
   "metadata": {},
   "cell_type": "markdown",
   "source": "## Evaluate results"
  },
  {
   "metadata": {},
   "cell_type": "code",
   "outputs": [],
   "execution_count": null,
   "source": [
    "ut.set_fig_prefix(\"train\")\n",
    "report.analyze_reconstruction_error(model, X[:5000])\n",
    "ut.set_fig_prefix(\"test\")\n",
    "report.analyze_reconstruction_error(model, X_test[:5000])"
   ]
  },
  {
   "metadata": {},
   "cell_type": "code",
   "outputs": [],
   "execution_count": null,
   "source": "latents, reconstructed = model.predict(X)"
  },
  {
   "metadata": {},
   "cell_type": "code",
   "outputs": [],
   "execution_count": null,
   "source": [
    "# Assuming images are properly defined as before\n",
    "images = X[0:25]\n",
    "ut.set_fig_prefix(\"train\")\n",
    "ut.plot_reconstruction_comparison(model,pca,images,n_components=288,nrow=5)\n",
    "images = X_test[0:25]\n",
    "ut.set_fig_prefix(\"test\")\n",
    "ut.plot_reconstruction_comparison(model,pca,images,n_components=288,nrow=5)"
   ]
  },
  {
   "metadata": {},
   "cell_type": "code",
   "outputs": [],
   "execution_count": null,
   "source": [
    "ut.set_fig_prefix(\"train\")\n",
    "report.orthogonality_test_analysis(model, X)\n",
    "ut.set_fig_prefix(\"test\")\n",
    "report.orthogonality_test_analysis(model, X_test)"
   ]
  },
  {
   "metadata": {},
   "cell_type": "code",
   "outputs": [],
   "execution_count": null,
   "source": [
    "ut.set_fig_prefix(\"train\")\n",
    "report.variance_test_analysis(model, X)\n",
    "ut.set_fig_prefix(\"test\")\n",
    "report.variance_test_analysis(model, X_test)"
   ]
  },
  {
   "metadata": {},
   "cell_type": "code",
   "outputs": [],
   "execution_count": null,
   "source": [
    "ut.set_fig_prefix(\"train\")\n",
    "report.linearity_tests_analysis(model, X,alpha_min=0,num_samples=100)\n",
    "ut.set_fig_prefix(\"test\")\n",
    "report.linearity_tests_analysis(model, X_test,alpha_min=0,num_samples=100)"
   ]
  },
  {
   "metadata": {},
   "cell_type": "markdown",
   "source": "## Test Classification with two components on PCA vs POLCA Net"
  },
  {
   "metadata": {},
   "cell_type": "code",
   "outputs": [],
   "execution_count": null,
   "source": "_ = ut.make_classification_report(model, pca, X_test, y_test,n_components=150)"
  },
  {
   "metadata": {},
   "cell_type": "code",
   "outputs": [],
   "execution_count": null,
   "source": [
    "experiment_data = {\n",
    "    \"cifar10\" : (X_test,model,pca),   \n",
    "}\n",
    "df_image_metrics = ut.image_metrics_table(experiment_data, n_components=100)"
   ]
  },
  {
   "cell_type": "code",
   "execution_count": null,
   "metadata": {},
   "outputs": [],
   "source": []
  }
 ],
 "metadata": {
  "interpreter": {
   "hash": "95022f601a219c6b6d093149c9a9b9a061a4446d3680d89cef8a1f82970031f2"
  },
  "kernelspec": {
   "display_name": "Python 3 (ipykernel)",
   "language": "python",
   "name": "python3"
  },
  "language_info": {
   "codemirror_mode": {
    "name": "ipython",
    "version": 3
   },
   "file_extension": ".py",
   "mimetype": "text/x-python",
   "name": "python",
   "nbconvert_exporter": "python",
   "pygments_lexer": "ipython3",
   "version": "3.12.4"
  }
 },
 "nbformat": 4,
 "nbformat_minor": 4
}
