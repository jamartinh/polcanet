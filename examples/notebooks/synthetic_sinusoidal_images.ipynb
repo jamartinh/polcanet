{
 "cells": [
  {
   "cell_type": "markdown",
   "id": "d868c211-777b-4754-acd8-a91fcf4e2b3d",
   "metadata": {},
   "source": [
    "# **P**rincipal **O**rthogonal **L**atent **C**omponents **A**nalysis Net (POLCA-Net)\n",
    "\n",
    "Study on simple random sinusoidal images vs. real valued bent functions (maximaly non-linear) images"
   ]
  },
  {
   "cell_type": "markdown",
   "id": "887a9365-b2fb-46f8-94d8-a556288982ab",
   "metadata": {
    "ExecuteTime": {
     "end_time": "2024-07-05T20:24:29.264294Z",
     "start_time": "2024-07-05T20:24:29.244120Z"
    },
    "tags": []
   },
   "source": [
    "### Simple sinusoidal images:\n",
    "Generate sinusoidal data with random phase and frequency:\n",
    "\n",
    "$$Z = \\sin(2\\pi f_x x + \\phi_x) \\cos(2\\pi f_y y + \\phi_y)$$\n",
    "\n",
    "Where:\n",
    "- $f_x$ is the frequency multiplier for x\n",
    "- $f_y$ is the frequency multiplier for y\n",
    "- $\\phi_x$ is the phase shift for x\n",
    "- $\\phi_y$ is the phase shift for y\n",
    "\n",
    "### Real valued Bent functions:\n",
    "\n",
    "$$Z = \\cos(2\\pi(aX + bY)) + \\cos(2\\pi(cX - dY))$$\n",
    "\n",
    "Where $a$, $b$, $c$, and $d$ are parameters controlling the function's behavior.\n",
    "\n"
   ]
  },
  {
   "cell_type": "markdown",
   "id": "de6bbb14-2e4a-412e-912b-d3fe8edd05e9",
   "metadata": {
    "ExecuteTime": {
     "end_time": "2024-07-05T20:24:29.264294Z",
     "start_time": "2024-07-05T20:24:29.244120Z"
    },
    "tags": []
   },
   "source": [
    "## Imports and Initialization"
   ]
  },
  {
   "cell_type": "code",
   "execution_count": null,
   "id": "515667b2-9b1b-404a-825f-7bb334b1e146",
   "metadata": {
    "ExecuteTime": {
     "end_time": "2024-07-05T20:24:29.264294Z",
     "start_time": "2024-07-05T20:24:29.244120Z"
    },
    "tags": []
   },
   "outputs": [],
   "source": [
    "%load_ext autoreload\n",
    "%autoreload 2"
   ]
  },
  {
   "cell_type": "code",
   "execution_count": null,
   "id": "4fdb22f8-7fc6-4d9b-ad83-de68330323b0",
   "metadata": {
    "ExecuteTime": {
     "end_time": "2024-07-05T20:24:35.998606Z",
     "start_time": "2024-07-05T20:24:34.618817Z"
    }
   },
   "outputs": [],
   "source": [
    "from IPython.display import display, clear_output\n",
    "import ipywidgets as widgets\n",
    "import matplotlib.pyplot as plt\n",
    "import seaborn\n",
    "import pandas as pd\n",
    "\n",
    "import scienceplots\n",
    "plt.style.use(['science','no-latex'])\n",
    "\n",
    "# Query the current default figure size\n",
    "current_fig_size = plt.rcParams[\"figure.figsize\"]\n",
    "print(f\"Current default figure size: {current_fig_size}\")\n",
    "\n",
    "# Define a scalar factor\n",
    "scalar_factor = 1.5\n",
    "\n",
    "# Multiply the current figure size by the scalar factor\n",
    "new_fig_size = [size * scalar_factor for size in current_fig_size]\n",
    "\n",
    "# Set the new default figure size\n",
    "plt.rcParams[\"figure.figsize\"] = new_fig_size\n",
    "\n",
    "print(f\"New default figure size: {new_fig_size}\")\n",
    "import numpy as np\n",
    "import torch\n",
    "from sklearn import decomposition"
   ]
  },
  {
   "cell_type": "code",
   "execution_count": null,
   "id": "46168154-d640-4c8e-8084-12ff449fcf32",
   "metadata": {
    "ExecuteTime": {
     "end_time": "2024-07-05T20:24:37.082692Z",
     "start_time": "2024-07-05T20:24:37.045050Z"
    },
    "tags": []
   },
   "outputs": [],
   "source": [
    "import polcanet.polcanet_reports as report\n",
    "from polcanet import LinearDecoder, PolcaNet\n",
    "from polcanet.example_aencoders import (\n",
    "    ConvEncoder,   \n",
    "    generate_2d_sinusoidal_data,\n",
    "    generate_bent_images,\n",
    ")"
   ]
  },
  {
   "cell_type": "code",
   "execution_count": null,
   "id": "f719c554-60a4-4aef-afa7-ff6fae4de32f",
   "metadata": {
    "ExecuteTime": {
     "end_time": "2024-07-05T20:24:38.074048Z",
     "start_time": "2024-07-05T20:24:38.049875Z"
    },
    "tags": []
   },
   "outputs": [],
   "source": [
    "import utils as ut\n",
    "import random\n",
    "\n",
    "random_seed = 5\n",
    "np.random.seed(random_seed)\n",
    "torch.manual_seed(random_seed)\n",
    "random.seed(random_seed)\n",
    "\n",
    "torch.autograd.set_detect_anomaly(False)\n",
    "torch.autograd.profiler.profile(False)\n",
    "torch.autograd.profiler.emit_nvtx(False)\n",
    "\n",
    "exp = ut.ExperimentInfoHandler(\n",
    "    name=\"MNIST_dataset\",\n",
    "    description=\"POLCA-Net on MNIST dataset\",\n",
    "    random_seed=random_seed,\n",
    ")\n",
    "report.set_save_fig(True)\n",
    "report.set_save_path(str(exp.get_experiment_folder()))\n",
    "print(f\"Saving Images: {report.get_save_fig()}, saving in path: {report.get_save_path()}\")"
   ]
  },
  {
   "cell_type": "markdown",
   "id": "ed6ae3ae-3a8a-47bf-9b56-482a05e7a26b",
   "metadata": {
    "ExecuteTime": {
     "end_time": "2024-07-05T20:26:54.597414Z",
     "start_time": "2024-07-05T20:26:54.468633Z"
    }
   },
   "source": [
    "## Generate Synthetic Sinudosial and Bent Images"
   ]
  },
  {
   "cell_type": "code",
   "execution_count": null,
   "id": "b29a51d9-18ee-4dfe-b168-654673201b71",
   "metadata": {
    "ExecuteTime": {
     "end_time": "2024-07-05T20:26:54.597414Z",
     "start_time": "2024-07-05T20:26:54.468633Z"
    },
    "editable": true,
    "slideshow": {
     "slide_type": ""
    },
    "tags": []
   },
   "outputs": [],
   "source": [
    "# Parameters\n",
    "N = 32  # rows\n",
    "M = 32  # cols\n",
    "num_samples = 1000\n",
    "\n",
    "# Generate 2D sinusoidal data\n",
    "data_sin = generate_2d_sinusoidal_data(N, M, num_samples)\n",
    "\n",
    "# Generate 2D real bent function images data\n",
    "data_bent = generate_bent_images(N, M, num_samples)\n",
    "\n",
    "ut.plot_train_images(data_sin, \"Sinusoidal images\",cmap=\"viridis\", n=5)\n",
    "ut.plot_train_images(data_bent, \"Bent images\",cmap=\"viridis\", n=5)"
   ]
  },
  {
   "cell_type": "markdown",
   "id": "f15f1c8a-aed2-49b4-9e93-ea95cc36f3a9",
   "metadata": {},
   "source": [
    "### Perform PCA on datasets"
   ]
  },
  {
   "cell_type": "code",
   "execution_count": null,
   "id": "57db4fce-8345-4077-9a66-4fc426bb41cb",
   "metadata": {},
   "outputs": [],
   "source": [
    "n_components = 8 #int((N*M)//100)\n",
    "fig, axs = plt.subplots(1,1,sharex=True, sharey=True,layout='constrained')\n",
    "pca_sin = ut.get_pca(data_sin,ax=axs,title=\"PCA on Sinusoidal images\",n_components=n_components)\n",
    "plt.show()\n",
    "\n",
    "n_components =  int((N*M)/40)\n",
    "fig, axs = plt.subplots(1,1,sharex=True, sharey=True,layout='constrained')\n",
    "pca_bent = ut.get_pca(data_bent,ax=axs,title=\"PCA on Bent images\",n_components=n_components)\n",
    "plt.show()"
   ]
  },
  {
   "cell_type": "markdown",
   "id": "985c1e2b-8bc7-4e85-bfe7-b9b136ee56f8",
   "metadata": {
    "ExecuteTime": {
     "end_time": "2024-07-05T20:26:57.042864Z",
     "start_time": "2024-07-05T20:26:57.011137Z"
    }
   },
   "source": [
    "## POLCA-Net"
   ]
  },
  {
   "cell_type": "markdown",
   "id": "3936db5c-37a5-4ed3-b6f6-8a35c77242a2",
   "metadata": {
    "ExecuteTime": {
     "end_time": "2024-07-05T20:27:13.761017Z",
     "start_time": "2024-07-05T20:27:13.732856Z"
    }
   },
   "source": [
    "### Train on Sinusoidal Images"
   ]
  },
  {
   "cell_type": "code",
   "execution_count": null,
   "id": "b1d0fb1e-9df7-4c16-86e8-3c4171ac7dae",
   "metadata": {
    "ExecuteTime": {
     "end_time": "2024-07-05T20:27:13.761017Z",
     "start_time": "2024-07-05T20:27:13.732856Z"
    }
   },
   "outputs": [],
   "source": [
    "from polcanet.example_aencoders import ConvEncoder\n",
    "\n",
    "ae_input = data_sin\n",
    "act_fn = torch.nn.SiLU\n",
    "input_dim = (N, M)\n",
    "latent_dim = pca_sin.n_components\n",
    "assert N == input_dim[0], \"input_dim[0] should match first matrix dimension N\"\n",
    "assert M == input_dim[1], \"input_dim[1] should match second matrix dimension M\"\n",
    "\n",
    "\n",
    "encoder_sin = ConvEncoder(\n",
    "    input_channels=1,\n",
    "    latent_dim=latent_dim,\n",
    "    conv_dim=2,\n",
    "    initial_channels=16,\n",
    "    growth_factor=2,\n",
    "    num_layers=5,\n",
    "    act_fn=act_fn,\n",
    ")\n",
    "\n",
    "decoder_sin = LinearDecoder(\n",
    "    latent_dim=latent_dim,\n",
    "    input_dim=input_dim,\n",
    "    hidden_dim=5*256,\n",
    "    num_layers=5,\n",
    "    act_fn=act_fn,\n",
    "    bias = True,\n",
    ")\n",
    "\n",
    "model_sin = PolcaNet(\n",
    "    encoder=encoder_sin,\n",
    "    decoder=decoder_sin,\n",
    "    latent_dim=latent_dim,\n",
    "    alpha=0.1,  # ortgogonality loss\n",
    "    beta=1.0,  # variance sorting loss\n",
    "    gamma=0.0,  # variance reduction loss\n",
    "    device=\"cuda\",\n",
    "    center=True,\n",
    "    factor_scale=True,\n",
    "   \n",
    ")\n",
    "print(model_sin)"
   ]
  },
  {
   "cell_type": "code",
   "execution_count": null,
   "id": "593ebaf2-7180-417b-8a71-78aa8a1b872f",
   "metadata": {
    "ExecuteTime": {
     "end_time": "2024-07-05T20:31:12.221662Z",
     "start_time": "2024-07-05T20:27:17.445580Z"
    }
   },
   "outputs": [],
   "source": [
    "model_sin.to(\"cuda\")\n",
    "model_sin.train_model(data=data_sin, batch_size=512, num_epochs=10000, report_freq=20, lr=1e-3)"
   ]
  },
  {
   "cell_type": "code",
   "execution_count": null,
   "id": "19d4e21e-8d6c-43d2-8b3a-503dafbd1be7",
   "metadata": {
    "ExecuteTime": {
     "end_time": "2024-07-05T20:35:08.557874Z",
     "start_time": "2024-07-05T20:31:12.222725Z"
    }
   },
   "outputs": [],
   "source": [
    "model_sin.train_model(data=data_sin, batch_size=512, num_epochs=10000, report_freq=20, lr=1e-4)"
   ]
  },
  {
   "cell_type": "code",
   "execution_count": null,
   "id": "0d5dd17a-b2d9-49c0-96f4-304ece3853f5",
   "metadata": {
    "ExecuteTime": {
     "end_time": "2024-07-05T20:35:08.557874Z",
     "start_time": "2024-07-05T20:31:12.222725Z"
    }
   },
   "outputs": [],
   "source": [
    "model_sin.train_model(data=data_sin, batch_size=512, num_epochs=10000, report_freq=20, lr=1e-5)"
   ]
  },
  {
   "cell_type": "code",
   "execution_count": null,
   "id": "5525f67d-68df-43f7-9dcb-66ce2d9e4586",
   "metadata": {
    "ExecuteTime": {
     "end_time": "2024-07-05T21:00:10.438237Z",
     "start_time": "2024-07-05T21:00:10.129063Z"
    }
   },
   "outputs": [],
   "source": [
    "report.analyze_reconstruction_error(model_sin, data_sin, n_samples=10000)"
   ]
  },
  {
   "cell_type": "code",
   "execution_count": null,
   "id": "0d83460a-4ed1-4122-a344-3455a3156555",
   "metadata": {
    "ExecuteTime": {
     "end_time": "2024-07-05T20:59:40.912078Z",
     "start_time": "2024-07-05T20:59:40.870447Z"
    }
   },
   "outputs": [],
   "source": [
    "latents, reconstructed = model_sin.predict(data_sin)\n",
    "data_sin.shape, reconstructed.shape, latents.shape"
   ]
  },
  {
   "cell_type": "code",
   "execution_count": null,
   "id": "13edda12-3a3d-47d7-bbae-e6378f3f6cd9",
   "metadata": {
    "ExecuteTime": {
     "end_time": "2024-07-05T20:59:42.474957Z",
     "start_time": "2024-07-05T20:59:42.151156Z"
    }
   },
   "outputs": [],
   "source": [
    "X_test = data_sin\n",
    "# Assuming images are properly defined as before\n",
    "images = X_test[0:25]\n",
    "\n",
    "# Reconstruct and visualise the images using the autoencoder\n",
    "model = model_sin\n",
    "_, ae_reconstructed = model.predict(images)\n",
    "\n",
    "# Reconstruct and visualize the imagaes by PCA\n",
    "pca_latents = pca_sin.transform(images.reshape(images.shape[0], -1))\n",
    "pca_reconstructed = pca_sin.inverse_transform(pca_latents)\n",
    "pca_reconstructed = pca_reconstructed.reshape(images.shape[0], N, M)\n",
    "\n",
    "visualise_reconstructed_images(\n",
    "    [images, ae_reconstructed, pca_reconstructed],\n",
    "    title_list=[\"Original\", \"Autoencoder reconstruction\", \"PCA reconstruction\"],\n",
    "    nrow=5,\n",
    "    cmap=\"viridis\",\n",
    ")"
   ]
  },
  {
   "cell_type": "code",
   "execution_count": null,
   "id": "2c5b79e6-ccfd-490d-b87e-b975ba5a1cca",
   "metadata": {
    "ExecuteTime": {
     "end_time": "2024-07-05T21:01:23.681202Z",
     "start_time": "2024-07-05T21:01:19.765830Z"
    }
   },
   "outputs": [],
   "source": [
    "report.orthogonality_test_analysis(model_sin, data_sin)"
   ]
  },
  {
   "cell_type": "code",
   "execution_count": null,
   "id": "8c3d6717-d034-4c71-9774-e939aaf397ba",
   "metadata": {
    "ExecuteTime": {
     "end_time": "2024-07-05T21:01:37.168679Z",
     "start_time": "2024-07-05T21:01:35.878206Z"
    }
   },
   "outputs": [],
   "source": [
    "report.variance_test_analysis(model_sin, data_sin)"
   ]
  },
  {
   "cell_type": "code",
   "execution_count": null,
   "id": "06065149-89db-44eb-ab19-de79d1715d46",
   "metadata": {
    "ExecuteTime": {
     "end_time": "2024-07-05T21:01:45.571842Z",
     "start_time": "2024-07-05T21:01:43.994172Z"
    }
   },
   "outputs": [],
   "source": [
    "report.linearity_tests_analysis(model_sin, data_sin,num_samples=200)"
   ]
  },
  {
   "cell_type": "markdown",
   "id": "4884eaf3-d0c5-4a6a-8896-4dcb6162edf5",
   "metadata": {
    "ExecuteTime": {
     "end_time": "2024-07-05T20:27:13.761017Z",
     "start_time": "2024-07-05T20:27:13.732856Z"
    }
   },
   "source": [
    "### Train on Bent Images"
   ]
  },
  {
   "cell_type": "code",
   "execution_count": null,
   "id": "44e8156d-34df-427f-a47a-189800ad1f58",
   "metadata": {
    "ExecuteTime": {
     "end_time": "2024-07-05T20:27:13.761017Z",
     "start_time": "2024-07-05T20:27:13.732856Z"
    }
   },
   "outputs": [],
   "source": [
    "from polcanet import PolcaNet\n",
    "from polcanet.polcanet_utils import EncoderWrapper\n",
    "from polcanet.example_aencoders import DenseEncoder\n",
    "ae_input = data_bent\n",
    "act_fn = torch.nn.SiLU\n",
    "input_dim = (N, M)\n",
    "latent_dim = pca_bent.n_components\n",
    "assert N == input_dim[0], \"input_dim[0] should match first matrix dimension N\"\n",
    "assert M == input_dim[1], \"input_dim[1] should match second matrix dimension M\"\n",
    "\n",
    "encoder_bent = ConvEncoder(\n",
    "    input_channels=1,\n",
    "    latent_dim=latent_dim,\n",
    "    conv_dim=2,\n",
    "    initial_channels=16,\n",
    "    growth_factor=2,\n",
    "    num_layers=5,\n",
    "    act_fn=act_fn,\n",
    ")\n",
    "\n",
    "decoder_bent = LinearDecoder(\n",
    "    latent_dim=latent_dim,\n",
    "    input_dim=input_dim,\n",
    "    hidden_dim=5 * 256,\n",
    "    num_layers=5,\n",
    "    act_fn=act_fn,\n",
    "    bias= True\n",
    ")\n",
    "\n",
    "model_bent = PolcaNet(\n",
    "    encoder=encoder_bent,\n",
    "    decoder=decoder_bent,\n",
    "    latent_dim=latent_dim,\n",
    "    alpha=1.0,  # ortgogonality loss\n",
    "    beta=1.0,  # variance sorting loss\n",
    "    gamma=0.0,  # variance reduction loss\n",
    "    device=\"cuda\",\n",
    "    center=True,\n",
    "    factor_scale=True,\n",
    "  \n",
    ")\n",
    "print(model_bent)"
   ]
  },
  {
   "cell_type": "code",
   "execution_count": null,
   "id": "92fbdc78-9b03-463a-93d7-be1232b4148e",
   "metadata": {
    "ExecuteTime": {
     "end_time": "2024-07-05T20:31:12.221662Z",
     "start_time": "2024-07-05T20:27:17.445580Z"
    }
   },
   "outputs": [],
   "source": [
    "model_bent.to(\"cuda\")\n",
    "model_bent.train_model(data=data_bent, batch_size=2*512, num_epochs=5000, report_freq=20, lr=1e-3)"
   ]
  },
  {
   "cell_type": "code",
   "execution_count": null,
   "id": "e75dba5b-9ef8-4747-aa9f-80a7f5a652ac",
   "metadata": {
    "ExecuteTime": {
     "end_time": "2024-07-05T20:35:08.557874Z",
     "start_time": "2024-07-05T20:31:12.222725Z"
    }
   },
   "outputs": [],
   "source": [
    "model_bent.train_model(data=data_bent, batch_size=2*512, num_epochs=10000, report_freq=20, lr=1e-4)"
   ]
  },
  {
   "cell_type": "code",
   "execution_count": null,
   "id": "53e9129b-29f7-403b-9a01-351b6e381ee7",
   "metadata": {
    "ExecuteTime": {
     "end_time": "2024-07-05T21:00:10.438237Z",
     "start_time": "2024-07-05T21:00:10.129063Z"
    }
   },
   "outputs": [],
   "source": [
    "model_bent.train_model(data=data_bent, batch_size=2*512, num_epochs=10000, report_freq=20, lr=1e-5)"
   ]
  },
  {
   "cell_type": "code",
   "execution_count": null,
   "id": "a09cefb5-8a8e-4b02-b0a8-40bcdc1f5376",
   "metadata": {
    "ExecuteTime": {
     "end_time": "2024-07-05T21:00:10.438237Z",
     "start_time": "2024-07-05T21:00:10.129063Z"
    }
   },
   "outputs": [],
   "source": [
    "report.analyze_reconstruction_error(model_bent, data_bent, n_samples=10000)"
   ]
  },
  {
   "cell_type": "code",
   "execution_count": null,
   "id": "87b9ab6f-1d71-4ad8-bfb7-ef7fe7f34709",
   "metadata": {
    "ExecuteTime": {
     "end_time": "2024-07-05T20:59:40.912078Z",
     "start_time": "2024-07-05T20:59:40.870447Z"
    }
   },
   "outputs": [],
   "source": [
    "latents, reconstructed = model_bent.predict(data_bent)\n",
    "data_bent.shape, reconstructed.shape, latents.shape"
   ]
  },
  {
   "cell_type": "code",
   "execution_count": null,
   "id": "d6243682-04ab-497f-8b7f-52a078b9466e",
   "metadata": {
    "ExecuteTime": {
     "end_time": "2024-07-05T20:59:42.474957Z",
     "start_time": "2024-07-05T20:59:42.151156Z"
    }
   },
   "outputs": [],
   "source": [
    "images = data_bent[0:25]\n",
    "# Reconstruct and visualise the images using the autoencoder\n",
    "model = model_bent\n",
    "_, ae_reconstructed = model.predict(images)\n",
    "\n",
    "# Reconstruct and visualize the imagaes by PCA\n",
    "pca_latents = pca_bent.transform(images.reshape(images.shape[0], -1))\n",
    "pca_reconstructed = pca_bent.inverse_transform(pca_latents)\n",
    "pca_reconstructed = pca_reconstructed.reshape(images.shape[0], N, M)\n",
    "\n",
    "visualise_reconstructed_images(\n",
    "    [images, ae_reconstructed, pca_reconstructed],\n",
    "    title_list=[\n",
    "        \"Original\",\n",
    "        \"POLCA-Net reconstruction\",\n",
    "        \"PCA reconstruction\",\n",
    "    ],\n",
    "    nrow=5,\n",
    "    cmap=\"viridis\",\n",
    ")"
   ]
  },
  {
   "cell_type": "code",
   "execution_count": null,
   "id": "54befba9-439d-490e-8320-33b07acbabd4",
   "metadata": {
    "ExecuteTime": {
     "end_time": "2024-07-05T21:01:23.681202Z",
     "start_time": "2024-07-05T21:01:19.765830Z"
    }
   },
   "outputs": [],
   "source": [
    "report.orthogonality_test_analysis(model_bent, data_bent)"
   ]
  },
  {
   "cell_type": "code",
   "execution_count": null,
   "id": "57740afe-5c21-4225-8809-8a2769e6ace6",
   "metadata": {
    "ExecuteTime": {
     "end_time": "2024-07-05T21:01:37.168679Z",
     "start_time": "2024-07-05T21:01:35.878206Z"
    }
   },
   "outputs": [],
   "source": [
    "report.variance_test_analysis(model_bent, data_bent)"
   ]
  },
  {
   "cell_type": "code",
   "execution_count": null,
   "id": "e8e0315a-8fce-4749-a90f-21020f1994c1",
   "metadata": {
    "ExecuteTime": {
     "end_time": "2024-07-05T21:01:45.571842Z",
     "start_time": "2024-07-05T21:01:43.994172Z"
    }
   },
   "outputs": [],
   "source": [
    "report.linearity_tests_analysis(model_bent, data_bent,num_samples=200)"
   ]
  },
  {
   "cell_type": "markdown",
   "id": "16f3e654-e3bc-4934-86bb-01718ec29c04",
   "metadata": {},
   "source": [
    "## Test Overall"
   ]
  },
  {
   "cell_type": "code",
   "execution_count": null,
   "id": "d07899d0-1186-4a6b-93d0-e2ebd86e6f96",
   "metadata": {
    "editable": true,
    "slideshow": {
     "slide_type": ""
    },
    "tags": []
   },
   "outputs": [],
   "source": [
    "experiment_data = {\n",
    "    \"Sinudoidal\": (\n",
    "        data_sin,\n",
    "        model_sin,\n",
    "        pca_sin,\n",
    "    ),\n",
    "    \"Bent\": (\n",
    "        data_bent,\n",
    "        model_bent,\n",
    "        pca_bent,\n",
    "    ),\n",
    "}\n",
    "_ = ut.image_metrics_table(experiment_data)"
   ]
  }
 ],
 "metadata": {
  "jupytext": {
   "formats": "ipynb,py:light"
  },
  "kernelspec": {
   "display_name": "Python 3 (ipykernel)",
   "language": "python",
   "name": "python3"
  },
  "language_info": {
   "codemirror_mode": {
    "name": "ipython",
    "version": 3
   },
   "file_extension": ".py",
   "mimetype": "text/x-python",
   "name": "python",
   "nbconvert_exporter": "python",
   "pygments_lexer": "ipython3",
   "version": "3.12.4"
  }
 },
 "nbformat": 4,
 "nbformat_minor": 5
}
