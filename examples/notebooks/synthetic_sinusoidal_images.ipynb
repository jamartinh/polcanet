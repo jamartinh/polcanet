{
 "cells": [
  {
   "cell_type": "markdown",
   "id": "d868c211-777b-4754-acd8-a91fcf4e2b3d",
   "metadata": {},
   "source": [
    "# **P**rincipal **O**rthogonal **L**atent **C**omponents **A**nalysis Net (POLCA-Net)"
   ]
  },
  {
   "cell_type": "code",
   "execution_count": 1,
   "id": "972b1500e58ca5ab",
   "metadata": {
    "ExecuteTime": {
     "end_time": "2024-07-05T20:24:29.264294Z",
     "start_time": "2024-07-05T20:24:29.244120Z"
    },
    "tags": []
   },
   "outputs": [],
   "source": [
    "%load_ext autoreload\n",
    "%autoreload 2"
   ]
  },
  {
   "cell_type": "code",
   "execution_count": 2,
   "id": "4fdb22f8-7fc6-4d9b-ad83-de68330323b0",
   "metadata": {
    "ExecuteTime": {
     "end_time": "2024-07-05T20:24:35.998606Z",
     "start_time": "2024-07-05T20:24:34.618817Z"
    }
   },
   "outputs": [],
   "source": [
    "import ipywidgets as widgets\n",
    "import matplotlib.pyplot as plt\n",
    "import seaborn\n",
    "\n",
    "plt.style.use(\"seaborn-v0_8-paper\")\n",
    "import numpy as np\n",
    "import torch"
   ]
  },
  {
   "cell_type": "code",
   "execution_count": 3,
   "id": "46168154-d640-4c8e-8084-12ff449fcf32",
   "metadata": {
    "ExecuteTime": {
     "end_time": "2024-07-05T20:24:37.082692Z",
     "start_time": "2024-07-05T20:24:37.045050Z"
    },
    "tags": []
   },
   "outputs": [],
   "source": [
    "from polcanet import LinearDecoder, PolcaNet\n",
    "from polcanet.example_aencoders import (\n",
    "    StandardScalerTorch,\n",
    "    autoencoder_factory,\n",
    "    generate_2d_sinusoidal_data,\n",
    ")"
   ]
  },
  {
   "cell_type": "code",
   "execution_count": 4,
   "id": "bcf0d968-484c-469f-a06a-be5951621ebf",
   "metadata": {
    "ExecuteTime": {
     "end_time": "2024-07-05T20:24:37.082692Z",
     "start_time": "2024-07-05T20:24:37.045050Z"
    },
    "tags": []
   },
   "outputs": [],
   "source": [
    "from polcanet.polcanet_reports import (\n",
    "    analyze_latent_feature_importance,\n",
    "    analyze_latent_space,\n",
    "    analyze_reconstruction_error,\n",
    "    linearity_tests_analysis,\n",
    "    orthogonality_test_analysis,\n",
    "    plot_cumsum_variance,\n",
    "    plot_scatter_corr_matrix,\n",
    "    plot_stdev_pct,\n",
    "    show_correlation_matrix,\n",
    "    variance_test_analysis,\n",
    ")"
   ]
  },
  {
   "cell_type": "code",
   "execution_count": 5,
   "id": "f719c554-60a4-4aef-afa7-ff6fae4de32f",
   "metadata": {
    "ExecuteTime": {
     "end_time": "2024-07-05T20:24:38.074048Z",
     "start_time": "2024-07-05T20:24:38.049875Z"
    },
    "tags": []
   },
   "outputs": [],
   "source": [
    "np.random.seed(5)"
   ]
  },
  {
   "cell_type": "code",
   "execution_count": 6,
   "id": "ed380448-1ff2-4537-9365-ce74c5466870",
   "metadata": {
    "ExecuteTime": {
     "end_time": "2024-07-05T20:24:38.862979Z",
     "start_time": "2024-07-05T20:24:38.839943Z"
    },
    "tags": []
   },
   "outputs": [
    {
     "data": {
      "text/plain": [
       "<torch.autograd.profiler.emit_nvtx at 0x7fdbcdc12480>"
      ]
     },
     "execution_count": 6,
     "metadata": {},
     "output_type": "execute_result"
    }
   ],
   "source": [
    "torch.autograd.set_detect_anomaly(False)\n",
    "torch.autograd.profiler.profile(False)\n",
    "torch.autograd.profiler.emit_nvtx(False)"
   ]
  },
  {
   "cell_type": "markdown",
   "id": "ed6ae3ae-3a8a-47bf-9b56-482a05e7a26b",
   "metadata": {
    "ExecuteTime": {
     "end_time": "2024-07-05T20:26:54.597414Z",
     "start_time": "2024-07-05T20:26:54.468633Z"
    }
   },
   "source": [
    "## PolcaNet on Synthetic Sinudosial Images"
   ]
  },
  {
   "cell_type": "code",
   "execution_count": 7,
   "id": "b29a51d9-18ee-4dfe-b168-654673201b71",
   "metadata": {
    "ExecuteTime": {
     "end_time": "2024-07-05T20:26:54.597414Z",
     "start_time": "2024-07-05T20:26:54.468633Z"
    }
   },
   "outputs": [
    {
     "data": {
      "image/png": "[encoded data removed]",
      "text/plain": [
       "<Figure size 1200x600 with 2 Axes>"
      ]
     },
     "metadata": {},
     "output_type": "display_data"
    }
   ],
   "source": [
    "# Parameters\n",
    "N = 32  # Sequence length\n",
    "M = 32  # Number of features\n",
    "num_samples = 1000\n",
    "\n",
    "# Generate 2D sinusoidal data\n",
    "data = generate_2d_sinusoidal_data(N, M, num_samples)\n",
    "data.shape\n",
    "# Plot original and reconstructed signals for a sample\n",
    "fig, axes = plt.subplots(1, 2, figsize=(12, 6))\n",
    "axes[0].imshow(data[0], cmap=\"viridis\")\n",
    "axes[0].set_title(\"first data point\")\n",
    "axes[1].imshow(data[-1], cmap=\"viridis\")\n",
    "axes[1].set_title(\"last data point\")\n",
    "plt.show()"
   ]
  },
  {
   "cell_type": "markdown",
   "id": "985c1e2b-8bc7-4e85-bfe7-b9b136ee56f8",
   "metadata": {
    "ExecuteTime": {
     "end_time": "2024-07-05T20:26:57.042864Z",
     "start_time": "2024-07-05T20:26:57.011137Z"
    }
   },
   "source": [
    "## Create the POLCA-Net"
   ]
  },
  {
   "cell_type": "markdown",
   "id": "b86aa880-097b-4554-bb1d-a3c5aee716b7",
   "metadata": {
    "ExecuteTime": {
     "end_time": "2024-07-05T20:26:57.042864Z",
     "start_time": "2024-07-05T20:26:57.011137Z"
    },
    "jp-MarkdownHeadingCollapsed": true
   },
   "source": [
    "### Create a POLCA-Net with an LSTM Encoder"
   ]
  },
  {
   "cell_type": "code",
   "execution_count": 8,
   "id": "324e11bb-006f-45ed-b4e7-1729170e03d6",
   "metadata": {
    "ExecuteTime": {
     "end_time": "2024-07-05T20:26:57.042864Z",
     "start_time": "2024-07-05T20:26:57.011137Z"
    }
   },
   "outputs": [
    {
     "data": {
      "text/plain": [
       "PolcaNet(\n",
       "  (encoder): LSTMAutoencoder(\n",
       "    (encoder): LSTMEncoder(\n",
       "      (lstm): LSTM(32, 256, num_layers=2, batch_first=True)\n",
       "    )\n",
       "  )\n",
       "  (decoder): LinearDecoder(\n",
       "    (decoder): Sequential(\n",
       "      (0): Linear(in_features=256, out_features=256, bias=True)\n",
       "      (1): NoActivation()\n",
       "      (2): Linear(in_features=256, out_features=256, bias=True)\n",
       "      (3): NoActivation()\n",
       "      (4): Linear(in_features=256, out_features=1024, bias=True)\n",
       "    )\n",
       "  )\n",
       "  (polcanet_loss): PolcaNetLoss()\n",
       ")"
      ]
     },
     "execution_count": 8,
     "metadata": {},
     "output_type": "execute_result"
    }
   ],
   "source": [
    "ae_input = data\n",
    "act_fn = torch.nn.Mish()\n",
    "input_dim = ae_input[0].shape\n",
    "latent_dim = 256\n",
    "assert N == input_dim[0], \"input_dim[0] should match first matrix dimension N\"\n",
    "assert M == input_dim[1], \"input_dim[1] should match second matrix dimension M\"\n",
    "\n",
    "encoder_lstm = autoencoder_factory(\n",
    "    seq_len=input_dim[0],  #    N\n",
    "    input_dim=input_dim[1],  #  M\n",
    "    latent_dim=256,\n",
    "    hidden_dim=None,\n",
    "    num_layers=2,\n",
    "    autoencoder_type=\"lstm\",\n",
    "    act_fn=act_fn,\n",
    ")\n",
    "\n",
    "decoder_lstm = LinearDecoder(latent_dim=latent_dim, input_dim=input_dim, hidden_dim=256, num_layers=3)\n",
    "\n",
    "model_lstm = PolcaNet(\n",
    "    encoder=encoder_lstm,\n",
    "    decoder=decoder_lstm,\n",
    "    latent_dim=latent_dim,\n",
    "    alpha=0.1,  # ortgogonality loss\n",
    "    beta=1.0,  # variance sorting loss\n",
    "    gamma=1.0,  # variance reduction loss\n",
    "    device=\"cuda\",\n",
    "    scaler=StandardScalerTorch(),\n",
    ")\n",
    "model_lstm"
   ]
  },
  {
   "cell_type": "code",
   "execution_count": 9,
   "id": "b6ecaaa3-c965-449b-8bef-c920e313c3ce",
   "metadata": {
    "ExecuteTime": {
     "end_time": "2024-07-05T20:27:10.440489Z",
     "start_time": "2024-07-05T20:27:02.474257Z"
    }
   },
   "outputs": [
    {
     "ename": "TypeError",
     "evalue": "PolcaNet.train_model() got an unexpected keyword argument 'use_two_decoders'",
     "output_type": "error",
     "traceback": [
      "\u001b[0;31m---------------------------------------------------------------------------\u001b[0m",
      "\u001b[0;31mTypeError\u001b[0m                                 Traceback (most recent call last)",
      "Cell \u001b[0;32mIn[9], line 2\u001b[0m\n\u001b[1;32m      1\u001b[0m model_lstm\u001b[38;5;241m.\u001b[39mto_device(\u001b[38;5;124m\"\u001b[39m\u001b[38;5;124mcuda:3\u001b[39m\u001b[38;5;124m\"\u001b[39m)\n\u001b[0;32m----> 2\u001b[0m \u001b[43mmodel_lstm\u001b[49m\u001b[38;5;241;43m.\u001b[39;49m\u001b[43mtrain_model\u001b[49m\u001b[43m(\u001b[49m\u001b[43mdata\u001b[49m\u001b[38;5;241;43m=\u001b[39;49m\u001b[43mdata\u001b[49m\u001b[43m,\u001b[49m\u001b[43m \u001b[49m\u001b[43mbatch_size\u001b[49m\u001b[38;5;241;43m=\u001b[39;49m\u001b[38;5;241;43m512\u001b[39;49m\u001b[43m,\u001b[49m\u001b[43m \u001b[49m\u001b[43mnum_epochs\u001b[49m\u001b[38;5;241;43m=\u001b[39;49m\u001b[38;5;241;43m10000\u001b[39;49m\u001b[43m,\u001b[49m\u001b[43m \u001b[49m\u001b[43mreport_freq\u001b[49m\u001b[38;5;241;43m=\u001b[39;49m\u001b[38;5;241;43m10\u001b[39;49m\u001b[43m,\u001b[49m\u001b[43m \u001b[49m\u001b[43mlr\u001b[49m\u001b[38;5;241;43m=\u001b[39;49m\u001b[38;5;241;43m1e-3\u001b[39;49m\u001b[43m,\u001b[49m\u001b[43m \u001b[49m\u001b[43muse_two_decoders\u001b[49m\u001b[38;5;241;43m=\u001b[39;49m\u001b[38;5;28;43;01mTrue\u001b[39;49;00m\u001b[43m)\u001b[49m\n",
      "\u001b[0;31mTypeError\u001b[0m: PolcaNet.train_model() got an unexpected keyword argument 'use_two_decoders'"
     ]
    }
   ],
   "source": [
    "model_lstm.to_device(\"cuda:3\")\n",
    "model_lstm.train_model(data=data, batch_size=512, num_epochs=10000, report_freq=10, lr=1e-3, use_two_decoders=True)"
   ]
  },
  {
   "cell_type": "code",
   "execution_count": null,
   "id": "2978aff9-2686-4f27-b0c6-538265249069",
   "metadata": {
    "ExecuteTime": {
     "end_time": "2024-07-05T20:27:10.440489Z",
     "start_time": "2024-07-05T20:27:02.474257Z"
    }
   },
   "outputs": [],
   "source": [
    "model_lstm.train_model(data=data, batch_size=512, num_epochs=1000, report_freq=10, lr=1e-4, use_two_decoders=True)"
   ]
  },
  {
   "cell_type": "code",
   "execution_count": null,
   "id": "9084d9ab-d15d-485b-ba78-d01d3ac11563",
   "metadata": {
    "ExecuteTime": {
     "end_time": "2024-07-05T21:00:10.438237Z",
     "start_time": "2024-07-05T21:00:10.129063Z"
    }
   },
   "outputs": [],
   "source": [
    "analyze_reconstruction_error(model_lstm, data, n_samples=1000)"
   ]
  },
  {
   "cell_type": "code",
   "execution_count": null,
   "id": "125b9426-d86c-47c3-9f4f-537ffa2640ea",
   "metadata": {
    "ExecuteTime": {
     "end_time": "2024-07-05T20:27:13.761017Z",
     "start_time": "2024-07-05T20:27:13.732856Z"
    }
   },
   "outputs": [],
   "source": [
    "latents, reconstructed = model_lstm.predict(data)\n",
    "data.shape, reconstructed.shape, latents.shape"
   ]
  },
  {
   "cell_type": "code",
   "execution_count": null,
   "id": "c6a0ea83-6305-400f-9adf-2b089357c871",
   "metadata": {
    "ExecuteTime": {
     "end_time": "2024-07-05T20:27:13.761017Z",
     "start_time": "2024-07-05T20:27:13.732856Z"
    }
   },
   "outputs": [],
   "source": [
    "# Plot original and reconstructed signals for a sample\n",
    "fig, axes = plt.subplots(1, 2, figsize=(12, 6))\n",
    "axes[0].imshow(data[0], cmap=\"viridis\")\n",
    "axes[0].set_title(\"Original\")\n",
    "axes[1].imshow(reconstructed[0], cmap=\"viridis\")\n",
    "axes[1].set_title(\"Reconstructed\")\n",
    "plt.show()"
   ]
  },
  {
   "cell_type": "code",
   "execution_count": null,
   "id": "bcbac47e-9c4d-4826-9cd0-d9f55dc7feae",
   "metadata": {
    "ExecuteTime": {
     "end_time": "2024-07-05T20:27:13.761017Z",
     "start_time": "2024-07-05T20:27:13.732856Z"
    }
   },
   "outputs": [],
   "source": [
    "analyze_latent_space(model_lstm, data=data)"
   ]
  },
  {
   "cell_type": "code",
   "execution_count": null,
   "id": "8f27f07a-145e-4f70-b88c-042bda10b30c",
   "metadata": {
    "ExecuteTime": {
     "end_time": "2024-07-05T20:27:13.761017Z",
     "start_time": "2024-07-05T20:27:13.732856Z"
    }
   },
   "outputs": [],
   "source": [
    "orthogonality_test_analysis(model_lstm, data)"
   ]
  },
  {
   "cell_type": "code",
   "execution_count": null,
   "id": "f95d6e8d-e4b8-4049-92e9-8b59cad8522a",
   "metadata": {
    "ExecuteTime": {
     "end_time": "2024-07-05T20:27:13.761017Z",
     "start_time": "2024-07-05T20:27:13.732856Z"
    }
   },
   "outputs": [],
   "source": [
    "variance_test_analysis(model_lstm, data)"
   ]
  },
  {
   "cell_type": "code",
   "execution_count": null,
   "id": "d8ffe801-66b4-4396-a2ca-23eebe861679",
   "metadata": {
    "ExecuteTime": {
     "end_time": "2024-07-05T20:27:13.761017Z",
     "start_time": "2024-07-05T20:27:13.732856Z"
    }
   },
   "outputs": [],
   "source": [
    "linearity_tests_analysis(model_lstm, data)"
   ]
  },
  {
   "cell_type": "markdown",
   "id": "0183aa4e-15da-497e-a381-abcbd8e416cf",
   "metadata": {
    "ExecuteTime": {
     "end_time": "2024-07-05T20:27:13.761017Z",
     "start_time": "2024-07-05T20:27:13.732856Z"
    }
   },
   "source": [
    "---"
   ]
  },
  {
   "cell_type": "markdown",
   "id": "b2e9245e-a925-456b-8e76-70ed8ce29935",
   "metadata": {
    "ExecuteTime": {
     "end_time": "2024-07-05T20:26:57.042864Z",
     "start_time": "2024-07-05T20:26:57.011137Z"
    }
   },
   "source": [
    "### Create a POLCA-Net with a 2D Convolutional Encoder"
   ]
  },
  {
   "cell_type": "code",
   "execution_count": 10,
   "id": "d5d51cf6-b11d-410b-9a22-4cbdd245433c",
   "metadata": {
    "ExecuteTime": {
     "end_time": "2024-07-05T20:27:13.761017Z",
     "start_time": "2024-07-05T20:27:13.732856Z"
    }
   },
   "outputs": [
    {
     "data": {
      "text/plain": [
       "PolcaNet(\n",
       "  (encoder): ConvAutoencoder(\n",
       "    (encoder): Sequential(\n",
       "      (0): Conv2d(1, 16, kernel_size=(3, 3), stride=(2, 2), padding=(1, 1))\n",
       "      (1): SiLU()\n",
       "      (2): Conv2d(16, 32, kernel_size=(3, 3), stride=(2, 2), padding=(1, 1))\n",
       "      (3): SiLU()\n",
       "      (4): Conv2d(32, 64, kernel_size=(3, 3), stride=(2, 2), padding=(1, 1))\n",
       "      (5): SiLU()\n",
       "      (6): Conv2d(64, 64, kernel_size=(3, 3), stride=(2, 2), padding=(1, 1))\n",
       "      (7): SiLU()\n",
       "      (8): Flatten(start_dim=1, end_dim=-1)\n",
       "    )\n",
       "  )\n",
       "  (decoder): LinearDecoder(\n",
       "    (decoder): Sequential(\n",
       "      (0): Linear(in_features=256, out_features=1024, bias=True)\n",
       "      (1): NoActivation()\n",
       "      (2): Linear(in_features=1024, out_features=1024, bias=True)\n",
       "    )\n",
       "  )\n",
       "  (polcanet_loss): PolcaNetLoss()\n",
       ")"
      ]
     },
     "execution_count": 10,
     "metadata": {},
     "output_type": "execute_result"
    }
   ],
   "source": [
    "ae_input = data\n",
    "act_fn = torch.nn.SiLU\n",
    "input_dim = ae_input[0].shape\n",
    "latent_dim = 64\n",
    "assert N == input_dim[0], \"input_dim[0] should match first matrix dimension N\"\n",
    "assert M == input_dim[1], \"input_dim[1] should match second matrix dimension M\"\n",
    "\n",
    "encoder_conv = autoencoder_factory(\n",
    "    seq_len=input_dim[0],  #    N\n",
    "    input_dim=input_dim[1],  #  M\n",
    "    latent_dim=latent_dim,\n",
    "    hidden_dim=None,\n",
    "    num_layers=None,\n",
    "    autoencoder_type=\"conv2d\",\n",
    "    act_fn=act_fn,\n",
    ")\n",
    "\n",
    "decoder_conv = LinearDecoder(latent_dim=latent_dim * 4, \n",
    "                             input_dim=input_dim,\n",
    "                             hidden_dim=1024,\n",
    "                             num_layers=2)\n",
    "\n",
    "model_conv = PolcaNet(\n",
    "    encoder=encoder_conv,\n",
    "    decoder=decoder_conv,\n",
    "    latent_dim=latent_dim * 4,\n",
    "    alpha=1.0,  # ortgogonality loss\n",
    "    beta=1.0,  # variance sorting loss\n",
    "    gamma=1.0,  # variance reduction loss\n",
    "    device=\"cuda\",\n",
    "    # scaler=StandardScalerTorch(),\n",
    ")\n",
    "model_conv"
   ]
  },
  {
   "cell_type": "code",
   "execution_count": 11,
   "id": "593ebaf2-7180-417b-8a71-78aa8a1b872f",
   "metadata": {
    "ExecuteTime": {
     "end_time": "2024-07-05T20:31:12.221662Z",
     "start_time": "2024-07-05T20:27:17.445580Z"
    }
   },
   "outputs": [
    {
     "data": {
      "application/vnd.jupyter.widget-view+json": {
       "model_id": "6c5eacb649e34f3297d65fe11931cb7c",
       "version_major": 2,
       "version_minor": 0
      },
      "text/plain": [
       "epoch:   0%|          | 0/10000 [00:00<?, ?it/s]"
      ]
     },
     "metadata": {},
     "output_type": "display_data"
    },
    {
     "name": "stdout",
     "output_type": "stream",
     "text": [
      "Final metrics at epoch: 9999\n",
      "Total Loss: 0.001506\n",
      "Reconstruction Loss: 0.0001484\n",
      "Orthogonality Loss: 0.001238\n",
      "Center of Mass Loss: 7.938e-05\n",
      "Variance Distribution Loss: 4.009e-05\n"
     ]
    }
   ],
   "source": [
    "model_conv.to(\"cuda:3\")\n",
    "model_conv.train_model(data=data, batch_size=512, num_epochs=10000, report_freq=10, lr=1e-3)"
   ]
  },
  {
   "cell_type": "code",
   "execution_count": null,
   "id": "19d4e21e-8d6c-43d2-8b3a-503dafbd1be7",
   "metadata": {
    "ExecuteTime": {
     "end_time": "2024-07-05T20:35:08.557874Z",
     "start_time": "2024-07-05T20:31:12.222725Z"
    }
   },
   "outputs": [
    {
     "data": {
      "application/vnd.jupyter.widget-view+json": {
       "model_id": "e4ebf122f9614fe7a9fb2b2d3840730e",
       "version_major": 2,
       "version_minor": 0
      },
      "text/plain": [
       "epoch:   0%|          | 0/10000 [00:00<?, ?it/s]"
      ]
     },
     "metadata": {},
     "output_type": "display_data"
    }
   ],
   "source": [
    "model_conv.train_model(data=data, batch_size=512, num_epochs=10000, report_freq=10, lr=1e-4)"
   ]
  },
  {
   "cell_type": "code",
   "execution_count": null,
   "id": "5525f67d-68df-43f7-9dcb-66ce2d9e4586",
   "metadata": {
    "ExecuteTime": {
     "end_time": "2024-07-05T21:00:10.438237Z",
     "start_time": "2024-07-05T21:00:10.129063Z"
    }
   },
   "outputs": [],
   "source": [
    "analyze_reconstruction_error(model_conv, data, n_samples=10000)"
   ]
  },
  {
   "cell_type": "code",
   "execution_count": null,
   "id": "0d83460a-4ed1-4122-a344-3455a3156555",
   "metadata": {
    "ExecuteTime": {
     "end_time": "2024-07-05T20:59:40.912078Z",
     "start_time": "2024-07-05T20:59:40.870447Z"
    }
   },
   "outputs": [],
   "source": [
    "latents, reconstructed = model_conv.predict(data)\n",
    "data.shape, reconstructed.shape, latents.shape"
   ]
  },
  {
   "cell_type": "code",
   "execution_count": null,
   "id": "d7e555a6-510f-4a6d-90ac-6d08ab4322d2",
   "metadata": {
    "ExecuteTime": {
     "end_time": "2024-07-05T20:59:42.474957Z",
     "start_time": "2024-07-05T20:59:42.151156Z"
    }
   },
   "outputs": [],
   "source": [
    "# Plot original and reconstructed signals for a sample\n",
    "fig, axes = plt.subplots(1, 2, figsize=(12, 6))\n",
    "axes[0].imshow(data[0], cmap=\"viridis\")\n",
    "axes[0].set_title(\"Original\")\n",
    "axes[1].imshow(reconstructed[0], cmap=\"viridis\")\n",
    "axes[1].set_title(\"Reconstructed\")\n",
    "plt.show()"
   ]
  },
  {
   "cell_type": "code",
   "execution_count": null,
   "id": "9573ccf8-9a13-49d6-a122-fc2c39daaa07",
   "metadata": {
    "ExecuteTime": {
     "end_time": "2024-07-05T21:00:03.904471Z",
     "start_time": "2024-07-05T21:00:00.639898Z"
    }
   },
   "outputs": [],
   "source": [
    "plot_cumsum_variance(model_conv, data)"
   ]
  },
  {
   "cell_type": "code",
   "execution_count": null,
   "id": "ab6f69c8-cd03-4cc1-916b-221d9af69d1b",
   "metadata": {
    "ExecuteTime": {
     "end_time": "2024-07-05T21:00:12.914007Z",
     "start_time": "2024-07-05T21:00:12.880644Z"
    }
   },
   "outputs": [],
   "source": [
    "analyze_latent_space(model_conv, data=data)"
   ]
  },
  {
   "cell_type": "code",
   "execution_count": null,
   "id": "2c5b79e6-ccfd-490d-b87e-b975ba5a1cca",
   "metadata": {
    "ExecuteTime": {
     "end_time": "2024-07-05T21:01:23.681202Z",
     "start_time": "2024-07-05T21:01:19.765830Z"
    }
   },
   "outputs": [],
   "source": [
    "orthogonality_test_analysis(model_conv, data)"
   ]
  },
  {
   "cell_type": "code",
   "execution_count": null,
   "id": "8c3d6717-d034-4c71-9774-e939aaf397ba",
   "metadata": {
    "ExecuteTime": {
     "end_time": "2024-07-05T21:01:37.168679Z",
     "start_time": "2024-07-05T21:01:35.878206Z"
    }
   },
   "outputs": [],
   "source": [
    "variance_test_analysis(model_conv, data)"
   ]
  },
  {
   "cell_type": "code",
   "execution_count": null,
   "id": "06065149-89db-44eb-ab19-de79d1715d46",
   "metadata": {
    "ExecuteTime": {
     "end_time": "2024-07-05T21:01:45.571842Z",
     "start_time": "2024-07-05T21:01:43.994172Z"
    }
   },
   "outputs": [],
   "source": [
    "linearity_tests_analysis(model_conv, data)"
   ]
  },
  {
   "cell_type": "code",
   "execution_count": null,
   "id": "87bff1c4-ee71-4c2e-85c3-7dc2bc513157",
   "metadata": {},
   "outputs": [],
   "source": []
  }
 ],
 "metadata": {
  "kernelspec": {
   "display_name": "Python 3 (ipykernel)",
   "language": "python",
   "name": "python3"
  },
  "language_info": {
   "codemirror_mode": {
    "name": "ipython",
    "version": 3
   },
   "file_extension": ".py",
   "mimetype": "text/x-python",
   "name": "python",
   "nbconvert_exporter": "python",
   "pygments_lexer": "ipython3",
   "version": "3.12.3"
  }
 },
 "nbformat": 4,
 "nbformat_minor": 5
}
