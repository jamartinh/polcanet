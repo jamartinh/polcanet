{
 "cells": [
  {
   "cell_type": "markdown",
   "id": "d868c211-777b-4754-acd8-a91fcf4e2b3d",
   "metadata": {},
   "source": [
    "# **P**rincipal **O**rthogonal **L**atent **C**omponents **A**nalysis Net (POLCA-Net)"
   ]
  },
  {
   "cell_type": "code",
   "execution_count": 1,
   "id": "972b1500e58ca5ab",
   "metadata": {
    "ExecuteTime": {
     "end_time": "2024-07-05T20:24:29.264294Z",
     "start_time": "2024-07-05T20:24:29.244120Z"
    },
    "tags": []
   },
   "outputs": [],
   "source": [
    "import polcanet.utils\n",
    "%load_ext autoreload\n",
    "%autoreload 2"
   ]
  },
  {
   "metadata": {},
   "cell_type": "code",
   "outputs": [],
   "execution_count": null,
   "source": [
    "import ipywidgets as widgets\n",
    "import matplotlib.pyplot as plt"
   ],
   "id": "ab5e7eaa9804aeb9"
  },
  {
   "metadata": {},
   "cell_type": "code",
   "outputs": [],
   "execution_count": null,
   "source": [
    "import scienceplots\n",
    "from IPython.display import display\n",
    "\n",
    "type(scienceplots)\n",
    "plt.style.use([\"science\", \"no-latex\"])\n",
    "\n",
    "# Query the current default figure size\n",
    "current_fig_size = plt.rcParams[\"figure.figsize\"]\n",
    "print(f\"Current default figure size: {current_fig_size}\")\n",
    "\n",
    "# Define a scalar factor\n",
    "scalar_factor = 1.5\n",
    "\n",
    "# Multiply the current figure size by the scalar factor\n",
    "new_fig_size = [size * scalar_factor for size in current_fig_size]\n",
    "\n",
    "# Set the new default figure size\n",
    "plt.rcParams[\"figure.figsize\"] = new_fig_size\n",
    "\n",
    "print(f\"New default figure size: {new_fig_size}\")"
   ],
   "id": "9fe1d06bcaa8575f"
  },
  {
   "metadata": {},
   "cell_type": "code",
   "outputs": [],
   "execution_count": null,
   "source": [
    "import numpy as np\n",
    "import torch\n",
    "import torchinfo\n",
    "from sklearn import datasets"
   ],
   "id": "cac713215d4f83a1"
  },
  {
   "metadata": {},
   "cell_type": "code",
   "outputs": [],
   "execution_count": null,
   "source": [
    "from polcanet import LinearDecoder, PolcaNet, utils as ut\n",
    "from polcanet.aencoders import DenseEncoder"
   ],
   "id": "75565385c5ba3097"
  },
  {
   "metadata": {},
   "cell_type": "code",
   "outputs": [],
   "execution_count": null,
   "source": "import polcanet.reports as report",
   "id": "36a07e72db671b06"
  },
  {
   "metadata": {},
   "cell_type": "code",
   "outputs": [],
   "execution_count": null,
   "source": [
    "import random\n",
    "\n",
    "random_seed = 5\n",
    "np.random.seed(random_seed)\n",
    "torch.manual_seed(random_seed)\n",
    "random.seed(random_seed)\n",
    "\n",
    "torch.autograd.set_detect_anomaly(False)\n",
    "torch.autograd.profiler.profile(False)\n",
    "torch.autograd.profiler.emit_nvtx(False)\n",
    "\n",
    "exp = ut.ExperimentInfoHandler(\n",
    "    name=\"digits_dataset_8_components\",\n",
    "    description=\"POLCA-Net on digits dataset\",\n",
    "    random_seed=random_seed,\n",
    ")\n",
    "ut.set_save_fig(True)\n",
    "ut.set_save_path(str(exp.get_experiment_folder()))\n",
    "print(f\"Saving Images: {ut.get_save_fig()}, saving in path: {ut.get_save_path()}\")"
   ],
   "id": "c92bdbbf62458528"
  },
  {
   "metadata": {},
   "cell_type": "markdown",
   "source": "### Load dataset",
   "id": "a625b55d7a58443"
  },
  {
   "metadata": {},
   "cell_type": "code",
   "outputs": [],
   "execution_count": null,
   "source": [
    "digits = datasets.load_digits()\n",
    "X = digits.data / 255\n",
    "y = digits.target\n",
    "images = X.reshape(X.shape[0], 8, 8)\n",
    "ut.plot_train_images(images, \"digits dataset images\", n=10)"
   ],
   "id": "b316d6ab14f4af72"
  },
  {
   "metadata": {},
   "cell_type": "markdown",
   "source": "### Fit standard sklearn PCA",
   "id": "5cfa13099e450520"
  },
  {
   "metadata": {},
   "cell_type": "code",
   "outputs": [],
   "execution_count": null,
   "source": [
    "n_components = 8\n",
    "fig, axs = plt.subplots(1, 1, sharex=True, sharey=True, layout=\"constrained\")\n",
    "pca = ut.get_pca(X, ax=axs, title=\"PCA on the digits dataset\", n_components=n_components)\n",
    "plt.show()\n",
    "Xpca = pca.transform(X)"
   ],
   "id": "4ad14845658f1d37"
  },
  {
   "metadata": {},
   "cell_type": "markdown",
   "source": "### Fit POLCANet",
   "id": "444072e7d5bc6b9b"
  },
  {
   "metadata": {},
   "cell_type": "code",
   "outputs": [],
   "execution_count": null,
   "source": [
    "ae_input = X\n",
    "act_fn = torch.nn.SiLU\n",
    "input_dim = (ae_input.shape[1],)\n",
    "latent_dim = pca.n_components\n",
    "\n",
    "encoder = DenseEncoder(\n",
    "    input_dim=input_dim,\n",
    "    latent_dim=latent_dim,\n",
    "    num_layers=3,\n",
    "    act_fn=act_fn,\n",
    "    first_layer_size=256,\n",
    "    # hidden_size=512,\n",
    ")\n",
    "\n",
    "decoder = LinearDecoder(\n",
    "    latent_dim=latent_dim,\n",
    "    input_dim=input_dim,\n",
    "    hidden_dim=256,\n",
    "    num_layers=3,\n",
    "    act_fn=act_fn,\n",
    "    bias=True,\n",
    ")\n",
    "\n",
    "model = PolcaNet(\n",
    "    encoder=encoder,\n",
    "    decoder=decoder,\n",
    "    latent_dim=latent_dim,\n",
    "    alpha=1.0,  # ortgogonality loss\n",
    "    beta=1.0,  # variance sorting loss\n",
    "    gamma=0.0,  # variance reduction loss\n",
    "    device=\"cuda\",\n",
    "    center=True,\n",
    "    factor_scale=True,\n",
    ")\n",
    "print(model)\n",
    "summary = torchinfo.summary(\n",
    "    model,\n",
    "    (1, input_dim[0]),\n",
    "    dtypes=[torch.float],\n",
    "    verbose=1,\n",
    "    col_width=16,\n",
    "    col_names=[\"kernel_size\", \"output_size\", \"num_params\"],\n",
    "    row_settings=[\"var_names\"],\n",
    ")\n",
    "ut.save_text(str(model), \"model.txt\")\n",
    "ut.save_text(str(summary), \"model_summary.txt\")"
   ],
   "id": "a51cbf5335512c35"
  },
  {
   "metadata": {},
   "cell_type": "code",
   "outputs": [],
   "execution_count": null,
   "source": [
    "model.to(\"cuda\")\n",
    "model.train_model(data=X, batch_size=512, num_epochs=10000, report_freq=10, lr=1e-3)"
   ],
   "id": "85cb1c2420d42395"
  },
  {
   "metadata": {},
   "cell_type": "code",
   "outputs": [],
   "execution_count": null,
   "source": "model.train_model(data=X, batch_size=512, num_epochs=5000, report_freq=10, lr=1e-4)",
   "id": "b7b102ad5b672334"
  },
  {
   "metadata": {},
   "cell_type": "code",
   "outputs": [],
   "execution_count": null,
   "source": "model.train_model(data=X, batch_size=512, num_epochs=5000, report_freq=10, lr=1e-5)",
   "id": "cc7667d02d700208"
  },
  {
   "metadata": {},
   "cell_type": "markdown",
   "source": "## Evaluate results",
   "id": "9c33c86ee881266f"
  },
  {
   "metadata": {},
   "cell_type": "code",
   "outputs": [],
   "execution_count": null,
   "source": "report.analyze_reconstruction_error(model, X)",
   "id": "3cf52cc171c3a348"
  },
  {
   "metadata": {},
   "cell_type": "code",
   "outputs": [],
   "execution_count": null,
   "source": "latents, reconstructed = model.predict(X)",
   "id": "453e40ffdaeb4e36"
  },
  {
   "metadata": {},
   "cell_type": "code",
   "outputs": [],
   "execution_count": null,
   "source": [
    "# Assuming images are properly defined as before\n",
    "N = 24\n",
    "images_to_show = images[:N]\n",
    "# Reconstruct and visualise the images using the autoencoder\n",
    "_, ae_reconstructed = model.predict(X[:N])\n",
    "ae_reconstructed = ae_reconstructed.reshape(images_to_show.shape)\n",
    "# Reconstruct and visualize the imagaes by PCA\n",
    "pca_latents = pca.transform(X[:N])\n",
    "pca_reconstructed = pca.inverse_transform(pca_latents)\n",
    "pca_reconstructed = pca_reconstructed.reshape(images_to_show.shape)\n",
    "\n",
    "ut.visualise_reconstructed_images(\n",
    "    [images_to_show, ae_reconstructed, pca_reconstructed],\n",
    "    title_list=[\"Original\", \"POLCA-Net reconstruction\", \"PCA reconstruction\"],\n",
    "    cmap=\"gray\",\n",
    "    nrow=6,\n",
    ")"
   ],
   "id": "b5f81c05dade6917"
  },
  {
   "metadata": {},
   "cell_type": "code",
   "outputs": [],
   "execution_count": null,
   "source": "report.orthogonality_test_analysis(model, X)",
   "id": "c65573020e9dc1b0"
  },
  {
   "metadata": {},
   "cell_type": "code",
   "outputs": [],
   "execution_count": null,
   "source": "report.variance_test_analysis(model, X)",
   "id": "590ebe4380b75f46"
  },
  {
   "metadata": {},
   "cell_type": "code",
   "outputs": [],
   "execution_count": null,
   "source": "report.linearity_tests_analysis(model, X)",
   "id": "11bacad7436fe946"
  },
  {
   "metadata": {},
   "cell_type": "markdown",
   "source": "## Polca Net vs. PCA",
   "id": "f99814ad585b1342"
  },
  {
   "metadata": {},
   "cell_type": "code",
   "outputs": [],
   "execution_count": null,
   "source": [
    "o1 = widgets.Output()\n",
    "o2 = widgets.Output()\n",
    "with o1:\n",
    "    _, _ = ut.plot2d_analysis(Xpca, y, title=\"PCA transform\", legend=True)\n",
    "with o2:\n",
    "    _, _ = ut.plot2d_analysis(latents, y, title=\"POLCA-Net latent\", legend=True)\n",
    "\n",
    "layout = widgets.Layout(grid_template_columns=\"repeat(2, 600px)\")\n",
    "accordion = widgets.GridBox(children=[o1, o2], layout=layout)\n",
    "display(accordion)"
   ],
   "id": "79c2c01c050609e2"
  },
  {
   "metadata": {},
   "cell_type": "markdown",
   "source": "## Test Classification with two components on PCA vs POLCA Net",
   "id": "11d86fb18cc0bb7"
  },
  {
   "metadata": {},
   "cell_type": "code",
   "outputs": [],
   "execution_count": null,
   "source": "_ = ut.make_classification_report(model, pca, X, y)",
   "id": "f0c52bb065930269"
  },
  {
   "metadata": {},
   "cell_type": "code",
   "outputs": [],
   "execution_count": null,
   "source": [
    "experiment_data = {\n",
    "    \"digits\": (\n",
    "        images,\n",
    "        model,\n",
    "        pca,\n",
    "    ),\n",
    "}\n",
    "_ = ut.image_metrics_table(experiment_data)"
   ],
   "id": "ae407ba202c4e255"
  },
  {
   "metadata": {},
   "cell_type": "code",
   "outputs": [],
   "execution_count": null,
   "source": "",
   "id": "4e494d7241f70ef6"
  }
 ],
 "metadata": {
  "kernelspec": {
   "display_name": "Python 3 (ipykernel)",
   "language": "python",
   "name": "python3"
  },
  "language_info": {
   "codemirror_mode": {
    "name": "ipython",
    "version": 3
   },
   "file_extension": ".py",
   "mimetype": "text/x-python",
   "name": "python",
   "nbconvert_exporter": "python",
   "pygments_lexer": "ipython3",
   "version": "3.12.3"
  }
 },
 "nbformat": 4,
 "nbformat_minor": 5
}
