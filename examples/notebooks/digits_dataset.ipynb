{
 "cells": [
  {
   "cell_type": "markdown",
   "id": "d868c211-777b-4754-acd8-a91fcf4e2b3d",
   "metadata": {
    "editable": true,
    "slideshow": {
     "slide_type": ""
    },
    "tags": []
   },
   "source": [
    "# **P**rincipal **O**rthogonal **L**atent **C**omponents **A**nalysis Net (POLCA-Net)"
   ]
  },
  {
   "cell_type": "code",
   "execution_count": null,
   "id": "972b1500e58ca5ab",
   "metadata": {
    "ExecuteTime": {
     "end_time": "2024-07-05T20:24:29.264294Z",
     "start_time": "2024-07-05T20:24:29.244120Z"
    },
    "tags": []
   },
   "outputs": [],
   "source": [
    "%load_ext autoreload\n",
    "%autoreload 2"
   ]
  },
  {
   "cell_type": "code",
   "execution_count": null,
   "id": "d3ff6f88-46a3-4e57-b537-119e2d5f7449",
   "metadata": {
    "ExecuteTime": {
     "end_time": "2024-07-05T20:24:35.998606Z",
     "start_time": "2024-07-05T20:24:34.618817Z"
    },
    "lines_to_next_cell": 0
   },
   "outputs": [],
   "source": [
    "import ipywidgets as widgets\n",
    "import matplotlib.pyplot as plt"
   ]
  },
  {
   "cell_type": "code",
   "execution_count": null,
   "id": "bd259d90",
   "metadata": {},
   "outputs": [],
   "source": [
    "from IPython.display import display\n",
    "import scienceplots\n",
    "type(scienceplots)\n",
    "plt.style.use([\"science\", \"no-latex\"])\n",
    "\n",
    "# Query the current default figure size\n",
    "current_fig_size = plt.rcParams[\"figure.figsize\"]\n",
    "print(f\"Current default figure size: {current_fig_size}\")\n",
    "\n",
    "# Define a scalar factor\n",
    "scalar_factor = 1.5\n",
    "\n",
    "# Multiply the current figure size by the scalar factor\n",
    "new_fig_size = [size * scalar_factor for size in current_fig_size]\n",
    "\n",
    "# Set the new default figure size\n",
    "plt.rcParams[\"figure.figsize\"] = new_fig_size\n",
    "\n",
    "print(f\"New default figure size: {new_fig_size}\")"
   ]
  },
  {
   "cell_type": "code",
   "execution_count": null,
   "id": "38523c6e-a67f-4db4-aa9b-6a195c656029",
   "metadata": {
    "ExecuteTime": {
     "end_time": "2024-07-05T20:24:35.998606Z",
     "start_time": "2024-07-05T20:24:34.618817Z"
    }
   },
   "outputs": [],
   "source": [
    "import numpy as np\n",
    "import torch\n",
    "from sklearn import datasets"
   ]
  },
  {
   "cell_type": "code",
   "execution_count": null,
   "id": "46168154-d640-4c8e-8084-12ff449fcf32",
   "metadata": {
    "ExecuteTime": {
     "end_time": "2024-07-05T20:24:37.082692Z",
     "start_time": "2024-07-05T20:24:37.045050Z"
    },
    "tags": []
   },
   "outputs": [],
   "source": [
    "from polcanet import LinearDecoder, PolcaNet\n",
    "from polcanet.example_aencoders import DenseEncoder"
   ]
  },
  {
   "cell_type": "code",
   "execution_count": null,
   "id": "bcf0d968-484c-469f-a06a-be5951621ebf",
   "metadata": {
    "ExecuteTime": {
     "end_time": "2024-07-05T20:24:37.082692Z",
     "start_time": "2024-07-05T20:24:37.045050Z"
    },
    "tags": []
   },
   "outputs": [],
   "source": [
    "import polcanet.polcanet_reports as report"
   ]
  },
  {
   "cell_type": "code",
   "execution_count": null,
   "id": "a9e35c7f-9841-474e-bbc4-0f084b9727cd",
   "metadata": {
    "ExecuteTime": {
     "end_time": "2024-07-05T20:24:38.862979Z",
     "start_time": "2024-07-05T20:24:38.839943Z"
    },
    "editable": true,
    "slideshow": {
     "slide_type": ""
    },
    "tags": []
   },
   "outputs": [],
   "source": [
    "import utils as ut\n",
    "import random\n",
    "\n",
    "random_seed = 5\n",
    "np.random.seed(random_seed)\n",
    "torch.manual_seed(random_seed)\n",
    "random.seed(random_seed)\n",
    "\n",
    "torch.autograd.set_detect_anomaly(False)\n",
    "torch.autograd.profiler.profile(False)\n",
    "torch.autograd.profiler.emit_nvtx(False)\n",
    "\n",
    "exp = ut.ExperimentInfoHandler(\n",
    "    name=\"digits_dataset\",\n",
    "    description=\"POLCA-Net on digits dataset\",\n",
    "    random_seed=random_seed,\n",
    ")\n",
    "report.set_save_fig(True)\n",
    "report.set_save_path(str(exp.get_experiment_folder()))\n",
    "print(f\"Saving Images: {report.get_save_fig()}, saving in path: {report.get_save_path()}\")"
   ]
  },
  {
   "cell_type": "markdown",
   "id": "af5eafa6-e234-4193-b6a9-8b5468e51036",
   "metadata": {
    "tags": []
   },
   "source": [
    "### Load dataset"
   ]
  },
  {
   "cell_type": "code",
   "execution_count": null,
   "id": "f9cf1043-d284-431f-b5b4-cd5aee828f0a",
   "metadata": {
    "ExecuteTime": {
     "end_time": "2024-07-05T20:24:40.434459Z",
     "start_time": "2024-07-05T20:24:40.410421Z"
    },
    "editable": true,
    "slideshow": {
     "slide_type": ""
    },
    "tags": []
   },
   "outputs": [],
   "source": [
    "digits = datasets.load_digits()\n",
    "X = digits.data / 255\n",
    "y = digits.target\n",
    "images = X.reshape(X.shape[0], 8, 8)\n",
    "ut.plot_train_images(images, \"digits dataset images\", n=10)"
   ]
  },
  {
   "cell_type": "markdown",
   "id": "6a95ad9a-a676-4047-94e5-a92c8c2f9c81",
   "metadata": {
    "tags": []
   },
   "source": [
    "### Fit standard sklearn PCA"
   ]
  },
  {
   "cell_type": "code",
   "execution_count": null,
   "id": "948f0b22-79d9-4525-a41d-88b709520fb7",
   "metadata": {
    "ExecuteTime": {
     "end_time": "2024-07-05T20:24:42.736209Z",
     "start_time": "2024-07-05T20:24:42.710916Z"
    },
    "editable": true,
    "slideshow": {
     "slide_type": ""
    },
    "tags": []
   },
   "outputs": [],
   "source": [
    "n_components = 32\n",
    "fig, axs = plt.subplots(1, 1, sharex=True, sharey=True, layout='constrained')\n",
    "pca = ut.get_pca(X, ax=axs, title=\"PCA on the digits dataset\", n_components=n_components)\n",
    "plt.show()\n",
    "Xpca = pca.transform(X)"
   ]
  },
  {
   "cell_type": "markdown",
   "id": "11f4c632-8282-4ea4-8ece-6e3a87915610",
   "metadata": {
    "tags": []
   },
   "source": [
    "### Fit POLCANet"
   ]
  },
  {
   "cell_type": "code",
   "execution_count": null,
   "id": "05fa4c4e-7a73-4d12-90e3-1e5fd3b98d24",
   "metadata": {
    "ExecuteTime": {
     "end_time": "2024-07-05T20:24:44.401718Z",
     "start_time": "2024-07-05T20:24:44.313568Z"
    },
    "tags": []
   },
   "outputs": [],
   "source": [
    "ae_input = X\n",
    "act_fn = torch.nn.SiLU\n",
    "input_dim = (ae_input.shape[1],)\n",
    "latent_dim = pca.n_components\n",
    "\n",
    "encoder = DenseEncoder(input_dim=input_dim, latent_dim=latent_dim, num_layers=1, act_fn=act_fn, first_layer_size=512,\n",
    "                       # hidden_size=512,\n",
    "                       )\n",
    "\n",
    "decoder = LinearDecoder(latent_dim=latent_dim, input_dim=input_dim, hidden_dim=512, num_layers=2, act_fn=None,\n",
    "                        bias=True, )\n",
    "\n",
    "model = PolcaNet(encoder=encoder, decoder=decoder, latent_dim=latent_dim, alpha=0.1,  # ortgogonality loss\n",
    "                 beta=0.1,  # variance sorting loss\n",
    "                 gamma=0.0,  # variance reduction loss\n",
    "                 device=\"cuda\", center=True, factor_scale=True, )\n",
    "model"
   ]
  },
  {
   "cell_type": "code",
   "execution_count": null,
   "id": "a59c2c78-f149-4a28-b396-acbb61d31e31",
   "metadata": {
    "ExecuteTime": {
     "end_time": "2024-07-05T20:25:16.617814Z",
     "start_time": "2024-07-05T20:24:45.488325Z"
    },
    "tags": []
   },
   "outputs": [],
   "source": [
    "model.to(\"cuda\")\n",
    "model.train_model(data=X, batch_size=512, num_epochs=5000, report_freq=10, lr=1e-3)"
   ]
  },
  {
   "cell_type": "code",
   "execution_count": null,
   "id": "12023aca-3091-4b8c-a2f5-262894752a04",
   "metadata": {
    "ExecuteTime": {
     "end_time": "2024-07-05T20:25:46.131475Z",
     "start_time": "2024-07-05T20:25:16.619408Z"
    },
    "collapsed": false,
    "jupyter": {
     "outputs_hidden": false
    }
   },
   "outputs": [],
   "source": [
    "model.train_model(data=X, batch_size=512, num_epochs=5000, report_freq=10, lr=1e-4)"
   ]
  },
  {
   "cell_type": "code",
   "execution_count": null,
   "id": "88fde54e-d3ce-4b5e-b973-b0c7ce07b2f3",
   "metadata": {
    "ExecuteTime": {
     "end_time": "2024-07-05T20:25:46.131475Z",
     "start_time": "2024-07-05T20:25:16.619408Z"
    },
    "collapsed": false,
    "jupyter": {
     "outputs_hidden": false
    }
   },
   "outputs": [],
   "source": [
    "model.train_model(data=X, batch_size=512, num_epochs=5000, report_freq=10, lr=1e-5)"
   ]
  },
  {
   "cell_type": "markdown",
   "id": "637b62da-100c-4b0f-971b-52b0b4ffed6d",
   "metadata": {
    "tags": []
   },
   "source": [
    "## Evaluate results"
   ]
  },
  {
   "cell_type": "code",
   "execution_count": null,
   "id": "efcb4b82-762e-4d7b-b46a-a252b2a4e5ba",
   "metadata": {
    "ExecuteTime": {
     "end_time": "2024-07-05T21:06:02.858038Z",
     "start_time": "2024-07-05T21:06:02.832778Z"
    },
    "tags": []
   },
   "outputs": [],
   "source": [
    "report.analyze_reconstruction_error(model, X)"
   ]
  },
  {
   "cell_type": "code",
   "execution_count": null,
   "id": "25935f9f-2193-40a6-a158-32656f600268",
   "metadata": {
    "ExecuteTime": {
     "end_time": "2024-07-05T21:06:02.858038Z",
     "start_time": "2024-07-05T21:06:02.832778Z"
    },
    "tags": []
   },
   "outputs": [],
   "source": [
    "latents, reconstructed = model.predict(X)"
   ]
  },
  {
   "cell_type": "code",
   "execution_count": null,
   "id": "23bd1fc6-b59d-45a7-8ebd-d70f25b02bc8",
   "metadata": {
    "ExecuteTime": {
     "end_time": "2024-07-05T21:06:02.858038Z",
     "start_time": "2024-07-05T21:06:02.832778Z"
    },
    "tags": []
   },
   "outputs": [],
   "source": [
    "# Assuming images are properly defined as before\n",
    "N = 24\n",
    "images_to_show = images[:N]\n",
    "# Reconstruct and visualise the images using the autoencoder\n",
    "_, ae_reconstructed = model.predict(X[:N])\n",
    "ae_reconstructed = ae_reconstructed.reshape(images_to_show.shape)\n",
    "# Reconstruct and visualize the imagaes by PCA\n",
    "pca_latents = pca.transform(X[:N])\n",
    "pca_reconstructed = pca.inverse_transform(pca_latents)\n",
    "pca_reconstructed = pca_reconstructed.reshape(images_to_show.shape)\n",
    "\n",
    "ut.visualise_reconstructed_images([images_to_show, ae_reconstructed, pca_reconstructed],\n",
    "                                  title_list=[\"Original\", \"POLCA-Net reconstruction\", \"PCA reconstruction\"],\n",
    "                                  cmap=\"gray\", nrow=6, )"
   ]
  },
  {
   "cell_type": "code",
   "execution_count": null,
   "id": "8f27f07a-145e-4f70-b88c-042bda10b30c",
   "metadata": {
    "ExecuteTime": {
     "end_time": "2024-07-05T20:27:13.761017Z",
     "start_time": "2024-07-05T20:27:13.732856Z"
    }
   },
   "outputs": [],
   "source": [
    "report.orthogonality_test_analysis(model, X)"
   ]
  },
  {
   "cell_type": "code",
   "execution_count": null,
   "id": "f95d6e8d-e4b8-4049-92e9-8b59cad8522a",
   "metadata": {
    "ExecuteTime": {
     "end_time": "2024-07-05T20:27:13.761017Z",
     "start_time": "2024-07-05T20:27:13.732856Z"
    }
   },
   "outputs": [],
   "source": [
    "report.variance_test_analysis(model, X)"
   ]
  },
  {
   "cell_type": "code",
   "execution_count": null,
   "id": "1f177a3c-4c95-4bd0-8f82-1e235c4c60e1",
   "metadata": {
    "ExecuteTime": {
     "end_time": "2024-07-05T20:27:13.761017Z",
     "start_time": "2024-07-05T20:27:13.732856Z"
    }
   },
   "outputs": [],
   "source": [
    "report.linearity_tests_analysis(model, X)"
   ]
  },
  {
   "cell_type": "markdown",
   "id": "ebef8906-6ea3-4426-811b-c38df2a58b19",
   "metadata": {
    "tags": []
   },
   "source": [
    "## Polca Net vs. PCA"
   ]
  },
  {
   "cell_type": "code",
   "execution_count": null,
   "id": "1d961f9f-b5c0-4a89-ae59-72500daf9bd6",
   "metadata": {
    "ExecuteTime": {
     "end_time": "2024-07-05T21:06:18.073238Z",
     "start_time": "2024-07-05T21:06:17.757219Z"
    }
   },
   "outputs": [],
   "source": [
    "o1 = widgets.Output()\n",
    "o2 = widgets.Output()\n",
    "with o1:\n",
    "    _, _ = ut.plot2d_analysis(Xpca, y, title=\"PCA transform\", legend=True)\n",
    "with o2:\n",
    "    _, _ = ut.plot2d_analysis(latents, y, title=\"POLCA-Net latent\", legend=True)\n",
    "\n",
    "layout = widgets.Layout(grid_template_columns=\"repeat(2, 600px)\")\n",
    "accordion = widgets.GridBox(children=[o1, o2], layout=layout)\n",
    "display(accordion)"
   ]
  },
  {
   "cell_type": "markdown",
   "id": "5389bf02-398a-4d9c-9a8c-801da979ea89",
   "metadata": {
    "editable": true,
    "slideshow": {
     "slide_type": ""
    },
    "tags": []
   },
   "source": [
    "## Test Classification with two components on PCA vs POLCA Net"
   ]
  },
  {
   "cell_type": "code",
   "execution_count": null,
   "id": "a8430d9d-454e-414b-acc2-ed535ac5aa44",
   "metadata": {
    "editable": true,
    "slideshow": {
     "slide_type": ""
    },
    "tags": []
   },
   "outputs": [],
   "source": [
    "_ = ut.make_classification_report(model, pca, X, y)"
   ]
  },
  {
   "cell_type": "code",
   "execution_count": null,
   "id": "18ca9304-1df2-4a4e-b7f3-dfbdb0403a54",
   "metadata": {
    "editable": true,
    "slideshow": {
     "slide_type": ""
    },
    "tags": []
   },
   "outputs": [],
   "source": [
    "experiment_data = {\n",
    "    \"digits\": (\n",
    "        X,\n",
    "        model,\n",
    "        pca,\n",
    "    ),\n",
    "}\n",
    "_ = ut.image_metrics_table(experiment_data)"
   ]
  }
 ],
 "metadata": {
  "jupytext": {
   "formats": "ipynb,py:light"
  },
  "kernelspec": {
   "display_name": "Python 3 (ipykernel)",
   "language": "python",
   "name": "python3"
  },
  "language_info": {
   "codemirror_mode": {
    "name": "ipython",
    "version": 3
   },
   "file_extension": ".py",
   "mimetype": "text/x-python",
   "name": "python",
   "nbconvert_exporter": "python",
   "pygments_lexer": "ipython3",
   "version": "3.12.4"
  }
 },
 "nbformat": 4,
 "nbformat_minor": 5
}
