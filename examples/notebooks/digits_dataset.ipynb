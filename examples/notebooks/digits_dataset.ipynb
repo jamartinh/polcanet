{
 "cells": [
  {
   "cell_type": "markdown",
   "id": "d868c211-777b-4754-acd8-a91fcf4e2b3d",
   "metadata": {},
   "source": [
    "# **P**rincipal **O**rthogonal **L**atent **C**omponents **A**nalysis Net (POLCA-Net)"
   ]
  },
  {
   "cell_type": "code",
   "execution_count": 1,
   "id": "972b1500e58ca5ab",
   "metadata": {
    "ExecuteTime": {
     "end_time": "2024-07-05T20:24:29.264294Z",
     "start_time": "2024-07-05T20:24:29.244120Z"
    },
    "tags": []
   },
   "outputs": [],
   "source": [
    "%load_ext autoreload\n",
    "%autoreload 2"
   ]
  },
  {
   "cell_type": "code",
   "execution_count": 2,
   "id": "4fdb22f8-7fc6-4d9b-ad83-de68330323b0",
   "metadata": {
    "ExecuteTime": {
     "end_time": "2024-07-05T20:24:35.998606Z",
     "start_time": "2024-07-05T20:24:34.618817Z"
    }
   },
   "outputs": [],
   "source": [
    "import ipywidgets as widgets\n",
    "import matplotlib.pyplot as plt\n",
    "import seaborn\n",
    "plt.style.use(\"seaborn-v0_8-paper\")\n",
    "import numpy as np\n",
    "\n",
    "import torch\n",
    "from sklearn import datasets, decomposition"
   ]
  },
  {
   "cell_type": "code",
   "execution_count": 3,
   "id": "46168154-d640-4c8e-8084-12ff449fcf32",
   "metadata": {
    "ExecuteTime": {
     "end_time": "2024-07-05T20:24:37.082692Z",
     "start_time": "2024-07-05T20:24:37.045050Z"
    },
    "tags": []
   },
   "outputs": [],
   "source": [
    "from polcanet import PolcaNet, LinearDecoder\n",
    "from polcanet.example_aencoders import autoencoder_factory, StandardScalerTorch, MinMaxScalerTorch"
   ]
  },
  {
   "cell_type": "code",
   "execution_count": 4,
   "id": "bcf0d968-484c-469f-a06a-be5951621ebf",
   "metadata": {
    "ExecuteTime": {
     "end_time": "2024-07-05T20:24:37.082692Z",
     "start_time": "2024-07-05T20:24:37.045050Z"
    },
    "tags": []
   },
   "outputs": [],
   "source": [
    "from polcanet.polcanet_reports import analyze_latent_space, show_correlation_matrix, plot_scatter_corr_matrix, plot_stdev_pct, \\\n",
    "    plot_cumsum_variance, analyze_latent_feature_importance, analyze_reconstruction_error, orthogonality_test_analysis, \\\n",
    "    variance_test_analysis, linearity_tests_analysis"
   ]
  },
  {
   "cell_type": "code",
   "execution_count": 5,
   "id": "f719c554-60a4-4aef-afa7-ff6fae4de32f",
   "metadata": {
    "ExecuteTime": {
     "end_time": "2024-07-05T20:24:38.074048Z",
     "start_time": "2024-07-05T20:24:38.049875Z"
    },
    "tags": []
   },
   "outputs": [],
   "source": [
    "np.random.seed(5)"
   ]
  },
  {
   "cell_type": "code",
   "execution_count": 6,
   "id": "ed380448-1ff2-4537-9365-ce74c5466870",
   "metadata": {
    "ExecuteTime": {
     "end_time": "2024-07-05T20:24:38.862979Z",
     "start_time": "2024-07-05T20:24:38.839943Z"
    },
    "tags": []
   },
   "outputs": [
    {
     "data": {
      "text/plain": [
       "<torch.autograd.profiler.emit_nvtx at 0x7fd3a67f0770>"
      ]
     },
     "execution_count": 6,
     "metadata": {},
     "output_type": "execute_result"
    }
   ],
   "source": [
    "torch.autograd.set_detect_anomaly(False)\n",
    "torch.autograd.profiler.profile(False)\n",
    "torch.autograd.profiler.emit_nvtx(False)"
   ]
  },
  {
   "cell_type": "markdown",
   "id": "af5eafa6-e234-4193-b6a9-8b5468e51036",
   "metadata": {
    "tags": []
   },
   "source": [
    "### Load dataset"
   ]
  },
  {
   "cell_type": "code",
   "execution_count": 7,
   "id": "02a46068-2b69-474f-beb7-8d1297d8db36",
   "metadata": {
    "ExecuteTime": {
     "end_time": "2024-07-05T20:24:40.434459Z",
     "start_time": "2024-07-05T20:24:40.410421Z"
    },
    "tags": []
   },
   "outputs": [
    {
     "data": {
      "text/plain": [
       "((1797, 64), (64,))"
      ]
     },
     "execution_count": 7,
     "metadata": {},
     "output_type": "execute_result"
    }
   ],
   "source": [
    "digits = datasets.load_digits()\n",
    "X = digits.data / 255\n",
    "y = digits.target\n",
    "X.shape,X[0].shape"
   ]
  },
  {
   "cell_type": "markdown",
   "id": "6a95ad9a-a676-4047-94e5-a92c8c2f9c81",
   "metadata": {
    "tags": []
   },
   "source": [
    "### Fit standard sklearn PCA"
   ]
  },
  {
   "cell_type": "code",
   "execution_count": 8,
   "id": "948f0b22-79d9-4525-a41d-88b709520fb7",
   "metadata": {
    "ExecuteTime": {
     "end_time": "2024-07-05T20:24:42.736209Z",
     "start_time": "2024-07-05T20:24:42.710916Z"
    },
    "tags": []
   },
   "outputs": [
    {
     "data": {
      "text/plain": [
       "array([0.14890594, 0.13618771, 0.11794594, 0.08409979, 0.05782413,\n",
       "       0.04916901, 0.04315983, 0.03661299])"
      ]
     },
     "execution_count": 8,
     "metadata": {},
     "output_type": "execute_result"
    }
   ],
   "source": [
    "pca = decomposition.PCA(n_components=8)\n",
    "pca.fit(X)\n",
    "Xpca = pca.transform(X)\n",
    "pca.explained_variance_ratio_"
   ]
  },
  {
   "cell_type": "markdown",
   "id": "11f4c632-8282-4ea4-8ece-6e3a87915610",
   "metadata": {
    "tags": []
   },
   "source": [
    "### Fit POLCANet"
   ]
  },
  {
   "cell_type": "code",
   "execution_count": null,
   "id": "05fa4c4e-7a73-4d12-90e3-1e5fd3b98d24",
   "metadata": {
    "ExecuteTime": {
     "end_time": "2024-07-05T20:24:44.401718Z",
     "start_time": "2024-07-05T20:24:44.313568Z"
    },
    "tags": []
   },
   "outputs": [],
   "source": [
    "ae_input = X\n",
    "act_fn = torch.nn.Mish()\n",
    "input_dim = (ae_input.shape[1],)\n",
    "latent_dim = 64  # Hey! ... let the kids alone!\n",
    "\n",
    "encoder = autoencoder_factory(\n",
    "    input_dim=input_dim,\n",
    "    latent_dim=latent_dim,\n",
    "    hidden_dim=512,\n",
    "    num_layers=20,\n",
    "    autoencoder_type=\"dense\",\n",
    "    act_fn=act_fn,\n",
    ")\n",
    "\n",
    "decoder = LinearDecoder(latent_dim=latent_dim,\n",
    "                             input_dim=input_dim, \n",
    "                             hidden_dim=512, \n",
    "                             num_layers=5)\n",
    "\n",
    "\n",
    "model = PolcaNet(\n",
    "    encoder=encoder,\n",
    "    decoder=decoder,\n",
    "    latent_dim = latent_dim,\n",
    "    alpha=0.1,  # ortgogonality loss\n",
    "    beta=1.0,  # variance sorting loss\n",
    "    gamma=1.0,  # variance reduction loss\n",
    "    device=\"cuda\",\n",
    "    scaler = MinMaxScalerTorch(),\n",
    ")\n",
    "model"
   ]
  },
  {
   "cell_type": "code",
   "execution_count": null,
   "id": "a59c2c78-f149-4a28-b396-acbb61d31e31",
   "metadata": {
    "ExecuteTime": {
     "end_time": "2024-07-05T20:25:16.617814Z",
     "start_time": "2024-07-05T20:24:45.488325Z"
    },
    "tags": []
   },
   "outputs": [],
   "source": [
    "model.to(\"cuda\")\n",
    "model.train_model(data=X, batch_size= 512, num_epochs=10000, report_freq=100, lr=1e-3)"
   ]
  },
  {
   "cell_type": "code",
   "execution_count": null,
   "id": "12023aca-3091-4b8c-a2f5-262894752a04",
   "metadata": {
    "ExecuteTime": {
     "end_time": "2024-07-05T20:25:46.131475Z",
     "start_time": "2024-07-05T20:25:16.619408Z"
    },
    "collapsed": false,
    "jupyter": {
     "outputs_hidden": false
    }
   },
   "outputs": [],
   "source": [
    "model.train_model(data=X, batch_size= 512, num_epochs=10000, report_freq=100, lr=1e-4)"
   ]
  },
  {
   "cell_type": "code",
   "execution_count": null,
   "id": "7fdd634d-7494-48ec-9af5-d5e896c64aa3",
   "metadata": {
    "ExecuteTime": {
     "end_time": "2024-07-05T20:25:46.131475Z",
     "start_time": "2024-07-05T20:25:16.619408Z"
    },
    "collapsed": false,
    "jupyter": {
     "outputs_hidden": false
    }
   },
   "outputs": [],
   "source": [
    "model.train_model(data=X, batch_size= 512, num_epochs=10000, report_freq=100, lr=1e-5)"
   ]
  },
  {
   "cell_type": "markdown",
   "id": "637b62da-100c-4b0f-971b-52b0b4ffed6d",
   "metadata": {
    "tags": []
   },
   "source": [
    "## Evaluate results"
   ]
  },
  {
   "cell_type": "code",
   "execution_count": null,
   "id": "efcb4b82-762e-4d7b-b46a-a252b2a4e5ba",
   "metadata": {
    "ExecuteTime": {
     "end_time": "2024-07-05T21:06:02.858038Z",
     "start_time": "2024-07-05T21:06:02.832778Z"
    },
    "tags": []
   },
   "outputs": [],
   "source": [
    "analyze_reconstruction_error(model, X)"
   ]
  },
  {
   "cell_type": "code",
   "execution_count": null,
   "id": "85f2982e-8ca0-4e27-877a-b28f3874302b",
   "metadata": {
    "ExecuteTime": {
     "end_time": "2024-07-05T21:06:02.858038Z",
     "start_time": "2024-07-05T21:06:02.832778Z"
    },
    "tags": []
   },
   "outputs": [],
   "source": [
    "latents, reconstructed = model.predict(X)"
   ]
  },
  {
   "cell_type": "code",
   "execution_count": null,
   "id": "989cd582-48d6-4657-834b-fc909c4f946b",
   "metadata": {
    "ExecuteTime": {
     "end_time": "2024-07-05T21:06:03.848230Z",
     "start_time": "2024-07-05T21:06:03.822048Z"
    },
    "tags": []
   },
   "outputs": [],
   "source": [
    "analyze_latent_space(model, latents=latents)"
   ]
  },
  {
   "cell_type": "code",
   "execution_count": null,
   "id": "8f27f07a-145e-4f70-b88c-042bda10b30c",
   "metadata": {
    "ExecuteTime": {
     "end_time": "2024-07-05T20:27:13.761017Z",
     "start_time": "2024-07-05T20:27:13.732856Z"
    }
   },
   "outputs": [],
   "source": [
    "orthogonality_test_analysis(model, X)"
   ]
  },
  {
   "cell_type": "code",
   "execution_count": null,
   "id": "f95d6e8d-e4b8-4049-92e9-8b59cad8522a",
   "metadata": {
    "ExecuteTime": {
     "end_time": "2024-07-05T20:27:13.761017Z",
     "start_time": "2024-07-05T20:27:13.732856Z"
    }
   },
   "outputs": [],
   "source": [
    "variance_test_analysis(model, X)"
   ]
  },
  {
   "cell_type": "code",
   "execution_count": null,
   "id": "d8ffe801-66b4-4396-a2ca-23eebe861679",
   "metadata": {
    "ExecuteTime": {
     "end_time": "2024-07-05T20:27:13.761017Z",
     "start_time": "2024-07-05T20:27:13.732856Z"
    }
   },
   "outputs": [],
   "source": [
    "linearity_tests_analysis(model, X)"
   ]
  },
  {
   "cell_type": "code",
   "execution_count": null,
   "id": "d181fae9-6d93-43c3-9db4-2a83e1b23157",
   "metadata": {
    "ExecuteTime": {
     "end_time": "2024-07-05T21:06:11.314832Z",
     "start_time": "2024-07-05T21:06:11.137234Z"
    }
   },
   "outputs": [],
   "source": [
    "plot_cumsum_variance(model,X)"
   ]
  },
  {
   "cell_type": "markdown",
   "id": "ebef8906-6ea3-4426-811b-c38df2a58b19",
   "metadata": {
    "tags": []
   },
   "source": [
    "## Polca Net vs. PCA"
   ]
  },
  {
   "cell_type": "code",
   "execution_count": null,
   "id": "b8320796-a8e9-4a72-bc4b-17c5f9528d35",
   "metadata": {
    "ExecuteTime": {
     "end_time": "2024-07-05T21:06:15.610838Z",
     "start_time": "2024-07-05T21:06:15.585880Z"
    },
    "tags": []
   },
   "outputs": [],
   "source": [
    "def plot2d_analysis(X, y, title, legend=True):\n",
    "    fig = plt.figure(1, figsize=(5, 5))\n",
    "    ax = fig.add_subplot(111)\n",
    "\n",
    "    for label in range(10):\n",
    "        ax.scatter(X[y == label, 0], X[y == label, 1], label=label)\n",
    "        ax.set_xlabel(\"component: 0\")\n",
    "        ax.set_ylabel(\"component 1\")        \n",
    "    if legend:\n",
    "        plt.legend(loc=\"center left\", bbox_to_anchor=(1, 0.5))\n",
    "    plt.title(title)\n",
    "    plt.show()\n",
    "    return fig, ax"
   ]
  },
  {
   "cell_type": "code",
   "execution_count": null,
   "id": "1d961f9f-b5c0-4a89-ae59-72500daf9bd6",
   "metadata": {
    "ExecuteTime": {
     "end_time": "2024-07-05T21:06:18.073238Z",
     "start_time": "2024-07-05T21:06:17.757219Z"
    }
   },
   "outputs": [],
   "source": [
    "o1 = widgets.Output()\n",
    "o2 = widgets.Output()\n",
    "with o1:\n",
    "    _,_ = plot2d_analysis(Xpca, y, title=\"PCA transform\", legend=True)\n",
    "with o2:\n",
    "    _,_ = plot2d_analysis(latents, y, title=\"POLCA-Net latent\")\n",
    "layout = widgets.Layout(grid_template_columns=\"repeat(2, 600px)\")\n",
    "accordion = widgets.GridBox(children=[o1, o2], layout=layout)\n",
    "display(accordion)"
   ]
  },
  {
   "cell_type": "code",
   "execution_count": null,
   "id": "d0a00359-51f9-466c-ba71-a4392431a406",
   "metadata": {
    "ExecuteTime": {
     "end_time": "2024-07-05T21:06:36.799237Z",
     "start_time": "2024-07-05T21:06:36.307747Z"
    },
    "tags": []
   },
   "outputs": [],
   "source": [
    "o1 = widgets.Output()\n",
    "o2 = widgets.Output()\n",
    "o3 = widgets.Output()\n",
    "o4 = widgets.Output()\n",
    "\n",
    "with o1:\n",
    "    fig1, ax1 = plot2d_analysis(X, y, \"Original data two first componets\", legend=False)\n",
    "\n",
    "with o2:\n",
    "    latents, reconstructed = model.predict(X)\n",
    "    fig2, ax2 = plot2d_analysis(np.round(reconstructed, 1), y, title=\"Reconstructed with POLCA all componets\", legend=False)\n",
    "\n",
    "with o3:\n",
    "    latents, reconstructed = model.predict(X)\n",
    "    fig3, ax3 = plot2d_analysis(np.round(reconstructed, 1), y, title=\"Reconstructed with POLCA two componets\", legend=False)\n",
    "\n",
    "with o4:\n",
    "    fig4, ax4 = plot2d_analysis(np.round(pca.inverse_transform(Xpca),1), y, \"Reconstructed with PCA two componets\", legend=False)\n",
    "    \n",
    "\n",
    "\n",
    "layout = widgets.Layout(grid_template_columns=\"repeat(2, 450px)\")\n",
    "accordion = widgets.GridBox(children=[o1, o2, o3, o4], layout=layout)\n",
    "display(accordion)"
   ]
  },
  {
   "cell_type": "code",
   "execution_count": null,
   "id": "ba3a6b52-2037-4e6b-8ff7-37dce9b7689f",
   "metadata": {
    "ExecuteTime": {
     "end_time": "2024-07-05T21:06:40.553393Z",
     "start_time": "2024-07-05T21:06:40.426319Z"
    }
   },
   "outputs": [],
   "source": [
    "latents, reconstructed = model.predict(X)\n",
    "vectors = []\n",
    "labels = [\"Setosa\", \"Versicolour\", \"Virginica\"]\n",
    "for c, label in enumerate(labels):\n",
    "    vectors.append(np.sum(latents[y == c, :], axis=1))\n",
    "\n",
    "\n",
    "plt.boxplot(vectors, labels=labels)\n",
    "plt.violinplot(vectors, showmeans=False, showmedians=True)\n",
    "plt.suptitle(\"Polca Analysis of the summation of latent orthogonal components\")\n",
    "plt.show()"
   ]
  },
  {
   "cell_type": "code",
   "execution_count": null,
   "id": "ef758671-d4d9-41bf-b3aa-4ca30adcda07",
   "metadata": {
    "ExecuteTime": {
     "end_time": "2024-07-05T21:06:45.532569Z",
     "start_time": "2024-07-05T21:06:45.019812Z"
    }
   },
   "outputs": [],
   "source": [
    "import seaborn as sns\n",
    "\n",
    "o1 = widgets.Output()\n",
    "o2 = widgets.Output()\n",
    "\n",
    "\n",
    "with o1:\n",
    "    scores = model.score(X)\n",
    "    sns.displot(scores, kde=True)\n",
    "    plt.title(\"Last component with clean data\")\n",
    "    plt.show()\n",
    "\n",
    "with o2:\n",
    "    scores = model.score(X * (np.random.random(size=X.shape) - 0.5) * 1)\n",
    "    sns.displot(scores, kde=True)\n",
    "    plt.title(\"Last componet with uniform noise in data\")\n",
    "    plt.show()\n",
    "\n",
    "\n",
    "layout = widgets.Layout(grid_template_columns=\"repeat(2, 500px)\")\n",
    "accordion = widgets.GridBox(children=[o1, o2], layout=layout)\n",
    "display(accordion)"
   ]
  },
  {
   "cell_type": "code",
   "execution_count": null,
   "id": "53a65e0a-bc0e-4500-a4c6-9be6b24e0322",
   "metadata": {
    "ExecuteTime": {
     "end_time": "2024-07-05T20:26:50.830968Z",
     "start_time": "2024-07-05T20:26:50.805485Z"
    },
    "tags": []
   },
   "outputs": [],
   "source": [
    "model.std_metrics"
   ]
  },
  {
   "cell_type": "code",
   "execution_count": null,
   "id": "cf1edfa2-e7f2-4a5b-bdab-6b90f4a46076",
   "metadata": {
    "ExecuteTime": {
     "end_time": "2024-07-05T20:26:51.683268Z",
     "start_time": "2024-07-05T20:26:51.659806Z"
    },
    "tags": []
   },
   "outputs": [],
   "source": [
    "model.mean_metrics"
   ]
  },
  {
   "cell_type": "markdown",
   "id": "5389bf02-398a-4d9c-9a8c-801da979ea89",
   "metadata": {},
   "source": [
    "## Test Classification with two components on PCA vs POLCA Net"
   ]
  },
  {
   "cell_type": "code",
   "execution_count": null,
   "id": "a1dacb1f-6f93-4daf-ba1a-751b1de9b353",
   "metadata": {},
   "outputs": [],
   "source": [
    "from sklearn.linear_model import LogisticRegression, RidgeClassifier, Perceptron\n",
    "from sklearn.naive_bayes import GaussianNB\n",
    "from sklearn.svm import SVC\n",
    "from sklearn.metrics import accuracy_score, classification_report, confusion_matrix\n",
    "from sklearn.model_selection import train_test_split\n",
    "import pandas as pd\n",
    "from scipy.stats import ttest_rel"
   ]
  },
  {
   "cell_type": "code",
   "execution_count": null,
   "id": "918da879-bdb8-473a-8320-b7a228615d64",
   "metadata": {},
   "outputs": [],
   "source": [
    "# Split the dataset into training and testing sets\n",
    "X_train, X_test, y_train, y_test = train_test_split(X, y, test_size=0.3, random_state=42)"
   ]
  },
  {
   "cell_type": "code",
   "execution_count": null,
   "id": "f6b1e29e-2f76-4886-b83d-b486fadca4d4",
   "metadata": {},
   "outputs": [],
   "source": [
    "X_train_pca = pca.transform(X_train)\n",
    "X_test_pca = pca.transform(X_test)\n",
    "X_train_pca.shape, X_test_pca.shape"
   ]
  },
  {
   "cell_type": "code",
   "execution_count": null,
   "id": "bb8ba23b-a368-4edf-9ae2-3580021c2c84",
   "metadata": {},
   "outputs": [],
   "source": [
    "# Transform the data using POLCA-Net\n",
    "#X_train_polca = model.predict(X_train,np.array([1, 1, 0, 0]))[0][:,:2]\n",
    "X_train_polca = model.predict(X_train)[0][:,:8]\n",
    "#X_test_polca = model.predict(X_test, np.array([1, 1, 0, 0]))[0][:,:2]\n",
    "X_test_polca = model.predict(X_test)[0][:,:8]\n",
    "X_train_polca.shape, X_test_polca.shape"
   ]
  },
  {
   "cell_type": "code",
   "execution_count": null,
   "id": "31cecc59-bb73-4a93-bdeb-50156c65cfb1",
   "metadata": {},
   "outputs": [],
   "source": [
    "# Define classifiers\n",
    "classifiers = {\n",
    "    'Logistic Regression': LogisticRegression(),\n",
    "    'Gaussian Naive Bayes': GaussianNB(),\n",
    "    'Linear SVM': SVC(kernel='linear', probability=True),\n",
    "    'Ridge Classifier': RidgeClassifier(),\n",
    "    'Perceptron': Perceptron()\n",
    "}"
   ]
  },
  {
   "cell_type": "code",
   "execution_count": null,
   "id": "942307ad-cdf1-4659-9e1c-5ad50afb11d6",
   "metadata": {},
   "outputs": [],
   "source": [
    "# Train and evaluate classifiers on both PCA and POLCA-Net transformed datasets\n",
    "results = []\n",
    "\n",
    "for name, clf in classifiers.items():\n",
    "    # Train on PCA\n",
    "    clf.fit(X_train_pca, y_train)\n",
    "    y_pred_pca = clf.predict(X_test_pca)\n",
    "    accuracy_pca = accuracy_score(y_test, y_pred_pca)\n",
    "    report_pca = classification_report(y_test, y_pred_pca, output_dict=True)\n",
    "    cm_pca = confusion_matrix(y_test, y_pred_pca)\n",
    "    \n",
    "    # Train on POLCA-Net\n",
    "    clf.fit(X_train_polca, y_train)\n",
    "    y_pred_polca = clf.predict(X_test_polca)\n",
    "    accuracy_polca = accuracy_score(y_test, y_pred_polca)\n",
    "    report_polca = classification_report(y_test, y_pred_polca, output_dict=True)\n",
    "    cm_polca = confusion_matrix(y_test, y_pred_polca)\n",
    "    \n",
    "    # Append results\n",
    "    results.append({\n",
    "        'Classifier': name,\n",
    "        'Transformation': 'PCA',\n",
    "        'Accuracy': accuracy_pca,\n",
    "        'Precision': report_pca['weighted avg']['precision'],\n",
    "        'Recall': report_pca['weighted avg']['recall'],\n",
    "        'F1-Score': report_pca['weighted avg']['f1-score'],\n",
    "        'Confusion Matrix': cm_pca\n",
    "    })\n",
    "    \n",
    "    results.append({\n",
    "        'Classifier': name,\n",
    "        'Transformation': 'POLCA-Net',\n",
    "        'Accuracy': accuracy_polca,\n",
    "        'Precision': report_polca['weighted avg']['precision'],\n",
    "        'Recall': report_polca['weighted avg']['recall'],\n",
    "        'F1-Score': report_polca['weighted avg']['f1-score'],\n",
    "        'Confusion Matrix': cm_polca\n",
    "    })"
   ]
  },
  {
   "cell_type": "code",
   "execution_count": null,
   "id": "98cc1a4d-6fd4-4e69-af0c-f00c7c778802",
   "metadata": {},
   "outputs": [],
   "source": [
    "# Create a DataFrame to display the results\n",
    "results_df = pd.DataFrame(results)\n",
    "\n",
    "# Display the main metrics table\n",
    "main_metrics_df = results_df.drop(columns=['Confusion Matrix'])\n",
    "main_metrics_df"
   ]
  },
  {
   "cell_type": "code",
   "execution_count": null,
   "id": "79c09290-8ff3-404c-85f1-345c72a0ccc1",
   "metadata": {},
   "outputs": [],
   "source": [
    "# Statistical test: Paired t-test for accuracies\n",
    "pca_accuracies = results_df[results_df['Transformation'] == 'PCA']['F1-Score']\n",
    "polca_accuracies = results_df[results_df['Transformation'] == 'POLCA-Net']['F1-Score']\n",
    "\n",
    "t_stat, p_value = ttest_rel(pca_accuracies.values, polca_accuracies.values)\n",
    "\n",
    "print(f\"\\nPaired t-test results: t-statistic = {t_stat}, p-value = {p_value}\")\n",
    "\n",
    "if p_value < 0.05:\n",
    "    print(\"There is a statistically significant difference between the PCA and POLCA-Net transformations.\")\n",
    "else:\n",
    "    print(\"There is no statistically significant difference between the PCA and POLCA-Net transformations.\")\n"
   ]
  },
  {
   "cell_type": "code",
   "execution_count": null,
   "id": "353375b0-b7e6-45a7-b1ce-6ae3fb29ca5f",
   "metadata": {},
   "outputs": [],
   "source": [
    "# Plotting the results\n",
    "plt.figure(figsize=(10, 4))\n",
    "\n",
    "# Plot PCA\n",
    "plt.subplot(1, 2, 1)\n",
    "plt.scatter(X_test_pca[:, 0], X_test_pca[:, 1], c=y_test, cmap='viridis', edgecolor='k', s=50)\n",
    "plt.title('PCA: Iris Test Set')\n",
    "plt.xlabel('Component 1')\n",
    "plt.ylabel('Component 2')\n",
    "\n",
    "# Plot POLCA-Net\n",
    "plt.subplot(1, 2, 2)\n",
    "plt.scatter(X_test_polca[:, 0], X_test_polca[:, 1], c=y_test, cmap='viridis', edgecolor='k', s=50)\n",
    "plt.title('POLCA-Net: Iris Test Set')\n",
    "plt.xlabel('Component 1')\n",
    "plt.ylabel('Component 2')\n",
    "\n",
    "plt.show()\n",
    "\n",
    "# Plot Confusion Matrices for each classifier\n",
    "fig, axes = plt.subplots(len(classifiers), 2, figsize=(10, 20))\n",
    "\n",
    "for i, (name, clf) in enumerate(classifiers.items()):\n",
    "    # PCA Confusion Matrix\n",
    "    cm_pca = results_df[(results_df['Classifier'] == name) & (results_df['Transformation'] == 'PCA')]['Confusion Matrix'].values[0]\n",
    "    axes[i, 0].imshow(cm_pca, interpolation='nearest', cmap=plt.cm.Blues)\n",
    "    axes[i, 0].set_title(f'{name} Confusion Matrix - PCA')\n",
    "    axes[i, 0].set_xlabel('Predicted label')\n",
    "    axes[i, 0].set_ylabel('True label')\n",
    "    \n",
    "    # POLCA-Net Confusion Matrix\n",
    "    cm_polca = results_df[(results_df['Classifier'] == name) & (results_df['Transformation'] == 'POLCA-Net')]['Confusion Matrix'].values[0]\n",
    "    axes[i, 1].imshow(cm_polca, interpolation='nearest', cmap=plt.cm.Blues)\n",
    "    axes[i, 1].set_title(f'{name} Confusion Matrix - POLCA-Net')\n",
    "    axes[i, 1].set_xlabel('Predicted label')\n",
    "    axes[i, 1].set_ylabel('True label')\n",
    "\n",
    "plt.tight_layout()\n",
    "plt.show()"
   ]
  },
  {
   "cell_type": "code",
   "execution_count": null,
   "id": "a8430d9d-454e-414b-acc2-ed535ac5aa44",
   "metadata": {},
   "outputs": [],
   "source": []
  }
 ],
 "metadata": {
  "kernelspec": {
   "display_name": "Python 3 (ipykernel)",
   "language": "python",
   "name": "python3"
  },
  "language_info": {
   "codemirror_mode": {
    "name": "ipython",
    "version": 3
   },
   "file_extension": ".py",
   "mimetype": "text/x-python",
   "name": "python",
   "nbconvert_exporter": "python",
   "pygments_lexer": "ipython3",
   "version": "3.12.2"
  }
 },
 "nbformat": 4,
 "nbformat_minor": 5
}
