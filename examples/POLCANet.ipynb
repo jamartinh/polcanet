{
 "cells": [
  {
   "cell_type": "markdown",
   "id": "d868c211-777b-4754-acd8-a91fcf4e2b3d",
   "metadata": {},
   "source": [
    "# **P**rincipal **O**rthogonal **L**atent **C**omponents **A**nalysis Net (POLCA-Net)"
   ]
  },
  {
   "cell_type": "code",
   "execution_count": 1,
   "id": "4fdb22f8-7fc6-4d9b-ad83-de68330323b0",
   "metadata": {
    "ExecuteTime": {
     "end_time": "2023-12-24T11:55:59.381427100Z",
     "start_time": "2023-12-24T11:55:59.325619600Z"
    },
    "tags": []
   },
   "outputs": [],
   "source": [
    "%load_ext autoreload\n",
    "%autoreload 2\n",
    "\n",
    "import math\n",
    "import os\n",
    "import pprint\n",
    "from itertools import combinations\n",
    "from pathlib import Path\n",
    "\n",
    "import ipywidgets as widgets\n",
    "import matplotlib.pyplot as plt\n",
    "import numpy as np\n",
    "import pandas as pd\n",
    "import torch\n",
    "from IPython.display import HTML, Markdown, clear_output\n",
    "from sklearn import datasets, decomposition\n",
    "from tqdm.auto import tqdm"
   ]
  },
  {
   "cell_type": "code",
   "execution_count": 2,
   "id": "e962afaf-3e5c-4974-8364-a55d71e9afad",
   "metadata": {
    "ExecuteTime": {
     "end_time": "2023-12-24T11:55:59.381427100Z",
     "start_time": "2023-12-24T11:55:59.325619600Z"
    },
    "tags": []
   },
   "outputs": [],
   "source": [
    "from example_aencoders import autoencoder_factory\n",
    "\n",
    "from polcanet import PolcaNet"
   ]
  },
  {
   "cell_type": "code",
   "execution_count": null,
   "id": "f719c554-60a4-4aef-afa7-ff6fae4de32f",
   "metadata": {
    "ExecuteTime": {
     "end_time": "2023-12-24T11:56:01.379704600Z",
     "start_time": "2023-12-24T11:56:01.316857800Z"
    },
    "tags": []
   },
   "outputs": [],
   "source": [
    "np.random.seed(5)"
   ]
  },
  {
   "cell_type": "code",
   "execution_count": 102,
   "id": "ed380448-1ff2-4537-9365-ce74c5466870",
   "metadata": {
    "ExecuteTime": {
     "end_time": "2023-12-24T11:56:01.379704600Z",
     "start_time": "2023-12-24T11:56:01.316857800Z"
    },
    "tags": []
   },
   "outputs": [
    {
     "data": {
      "text/plain": [
       "<torch.autograd.profiler.emit_nvtx at 0x7fc88c489d00>"
      ]
     },
     "execution_count": 102,
     "metadata": {},
     "output_type": "execute_result"
    }
   ],
   "source": [
    "torch.autograd.set_detect_anomaly(False)\n",
    "torch.autograd.profiler.profile(False)\n",
    "torch.autograd.profiler.emit_nvtx(False)"
   ]
  },
  {
   "cell_type": "markdown",
   "id": "af5eafa6-e234-4193-b6a9-8b5468e51036",
   "metadata": {
    "tags": []
   },
   "source": [
    "### Load iris dataset"
   ]
  },
  {
   "cell_type": "code",
   "execution_count": 4,
   "id": "02a46068-2b69-474f-beb7-8d1297d8db36",
   "metadata": {
    "ExecuteTime": {
     "end_time": "2023-12-24T11:56:09.051928800Z",
     "start_time": "2023-12-24T11:56:07.538805800Z"
    },
    "tags": []
   },
   "outputs": [],
   "source": [
    "iris = datasets.load_iris()\n",
    "X = iris.data\n",
    "y = iris.target"
   ]
  },
  {
   "cell_type": "markdown",
   "id": "6a95ad9a-a676-4047-94e5-a92c8c2f9c81",
   "metadata": {
    "tags": []
   },
   "source": [
    "### Fit standard sklearn PCA"
   ]
  },
  {
   "cell_type": "code",
   "execution_count": 5,
   "id": "948f0b22-79d9-4525-a41d-88b709520fb7",
   "metadata": {
    "ExecuteTime": {
     "end_time": "2023-12-24T11:56:11.359326800Z",
     "start_time": "2023-12-24T11:56:11.263330Z"
    },
    "tags": []
   },
   "outputs": [
    {
     "data": {
      "text/plain": [
       "array([0.92461872, 0.05306648])"
      ]
     },
     "execution_count": 5,
     "metadata": {},
     "output_type": "execute_result"
    }
   ],
   "source": [
    "pca = decomposition.PCA(n_components=2)\n",
    "pca.fit(X)\n",
    "Xpca = pca.transform(X)\n",
    "pca.explained_variance_ratio_"
   ]
  },
  {
   "cell_type": "markdown",
   "id": "11f4c632-8282-4ea4-8ece-6e3a87915610",
   "metadata": {
    "tags": []
   },
   "source": [
    "### Fit POLCANet"
   ]
  },
  {
   "cell_type": "code",
   "execution_count": 68,
   "id": "05fa4c4e-7a73-4d12-90e3-1e5fd3b98d24",
   "metadata": {
    "ExecuteTime": {
     "end_time": "2023-04-17T12:42:49.337534Z",
     "start_time": "2023-04-17T12:42:49.306334Z"
    },
    "tags": []
   },
   "outputs": [
    {
     "data": {
      "text/plain": [
       "PolcaNet(\n",
       "  (model): BaseAutoEncoder(\n",
       "    (encoder): Sequential(\n",
       "      (0): Linear(in_features=4, out_features=64, bias=True)\n",
       "      (1): Mish()\n",
       "      (2): ResNet(\n",
       "        (module): Linear(in_features=64, out_features=64, bias=True)\n",
       "      )\n",
       "      (3): LayerNorm((64,), eps=1e-05, elementwise_affine=True)\n",
       "      (4): Mish()\n",
       "      (5): Linear(in_features=64, out_features=4, bias=True)\n",
       "    )\n",
       "    (decoder): Sequential(\n",
       "      (0): Linear(in_features=4, out_features=64, bias=True)\n",
       "      (1): Mish()\n",
       "      (2): ResNet(\n",
       "        (module): Linear(in_features=64, out_features=64, bias=True)\n",
       "      )\n",
       "      (3): Mish()\n",
       "      (4): Linear(in_features=64, out_features=4, bias=True)\n",
       "    )\n",
       "  )\n",
       "  (reconstruction_loss_fn): MSELoss()\n",
       ")"
      ]
     },
     "execution_count": 68,
     "metadata": {},
     "output_type": "execute_result"
    }
   ],
   "source": [
    "ae_input = X\n",
    "act_fn = torch.nn.Mish()\n",
    "\n",
    "aencoder_iris = autoencoder_factory(\n",
    "    input_dim=ae_input.shape[1],\n",
    "    latent_dim=ae_input.shape[1],\n",
    "    hidden_dim=64,\n",
    "    num_layers=2,\n",
    "    autoencoder_type=\"dense\",\n",
    "    act_fn=act_fn,\n",
    ")\n",
    "\n",
    "model_iris = PolcaNet(\n",
    "    model=aencoder_iris,\n",
    "    alpha=0.1,  # ortgogonality loss\n",
    "    beta=1.0,  # variance sorting loss\n",
    "    gamma=1.0,  # variance reduction loss\n",
    "    device=\"cuda:0\",\n",
    ")\n",
    "model_iris"
   ]
  },
  {
   "cell_type": "code",
   "execution_count": 70,
   "id": "a59c2c78-f149-4a28-b396-acbb61d31e31",
   "metadata": {
    "ExecuteTime": {
     "end_time": "2023-04-17T12:43:27.260295Z",
     "start_time": "2023-04-17T12:42:50.644781Z"
    },
    "tags": []
   },
   "outputs": [
    {
     "data": {
      "application/vnd.jupyter.widget-view+json": {
       "model_id": "a652538d8c4e490eadaff7c78dd346a9",
       "version_major": 2,
       "version_minor": 0
      },
      "text/plain": [
       "epoch:   0%|          | 0/10000 [00:00<?, ?it/s]"
      ]
     },
     "metadata": {},
     "output_type": "display_data"
    },
    {
     "name": "stdout",
     "output_type": "stream",
     "text": [
      "Final metrics at epoch: 9999\n",
      "loss: 0.08183\n",
      "decode: 0.002774\n",
      "orth: 0.3525\n",
      "com: 0.02564\n",
      "var: 0.01811\n"
     ]
    }
   ],
   "source": [
    "model_iris.to(\"cuda:0\")\n",
    "model_iris.train_model(data=X, batch_size=1 * 512, num_epochs=10000, report_freq=100, lr=0.001)"
   ]
  },
  {
   "cell_type": "code",
   "execution_count": 71,
   "id": "19c6c928",
   "metadata": {
    "ExecuteTime": {
     "end_time": "2023-04-17T12:44:07.356885Z",
     "start_time": "2023-04-17T12:43:30.842424Z"
    },
    "collapsed": false,
    "jupyter": {
     "outputs_hidden": false
    }
   },
   "outputs": [
    {
     "data": {
      "application/vnd.jupyter.widget-view+json": {
       "model_id": "28445da7adc548e8a0bba369789b51e8",
       "version_major": 2,
       "version_minor": 0
      },
      "text/plain": [
       "epoch:   0%|          | 0/10000 [00:00<?, ?it/s]"
      ]
     },
     "metadata": {},
     "output_type": "display_data"
    },
    {
     "name": "stdout",
     "output_type": "stream",
     "text": [
      "Final metrics at epoch: 9999\n",
      "loss: 0.07711\n",
      "decode: 0.0003311\n",
      "orth: 0.3373\n",
      "com: 0.02378\n",
      "var: 0.01927\n"
     ]
    }
   ],
   "source": [
    "model_iris.train_model(data=X, batch_size=1 * 512, num_epochs=10000, report_freq=100, lr=0.0001)"
   ]
  },
  {
   "cell_type": "markdown",
   "id": "637b62da-100c-4b0f-971b-52b0b4ffed6d",
   "metadata": {
    "tags": []
   },
   "source": [
    "## Evaluate results"
   ]
  },
  {
   "cell_type": "code",
   "execution_count": 72,
   "id": "576f71dd-ebac-4188-bf7c-b7d3ff6dc291",
   "metadata": {
    "ExecuteTime": {
     "end_time": "2023-04-17T12:44:14.071459Z",
     "start_time": "2023-04-17T12:44:14.024627Z"
    },
    "tags": []
   },
   "outputs": [],
   "source": [
    "latents, reconstructed = model_iris.predict(X)"
   ]
  },
  {
   "cell_type": "code",
   "execution_count": 73,
   "id": "989cd582-48d6-4657-834b-fc909c4f946b",
   "metadata": {
    "ExecuteTime": {
     "end_time": "2023-04-17T12:44:14.071459Z",
     "start_time": "2023-04-17T12:44:14.024627Z"
    },
    "tags": []
   },
   "outputs": [
    {
     "name": "stdout",
     "output_type": "stream",
     "text": [
      "\n",
      "==================================================\n",
      "           Latent Space Analysis Report           \n",
      "==================================================\n",
      "\n",
      "1. General Information\n",
      "------------------------------\n",
      "Number of latent components: 4\n",
      "Total variance in latent space: 1.8369\n",
      "\n",
      "2. Variance Analysis\n",
      "------------------------------\n",
      "Metric                           Value\n",
      "-----------------------------  -------\n",
      "First component                 0.6471\n",
      "First 5 components              1\n",
      "Components for 95% variance     2\n",
      "Variance Concentration Metric   0.9095\n",
      "\n",
      "Variance Concentration Interpretation:\n",
      "Excellent concentration of variance in earlier dimensions.\n",
      "\n",
      "3. Correlation Analysis\n",
      "------------------------------\n",
      "Metric                                Value\n",
      "----------------------------------  -------\n",
      "Mean absolute off-diagonal           0.2027\n",
      "Median absolute off-diagonal         0.0643\n",
      "Max absolute off-diagonal            0.9667\n",
      "Proportion of |correlations| > 0.1   0.3333\n",
      "Decorrelation Success Metric         0.7973\n",
      "\n",
      "Decorrelation Interpretation:\n",
      "Good decorrelation, but there might be room for improvement.\n",
      "\n",
      "4. Detailed Component Analysis\n",
      "------------------------------\n",
      "  Component    Variance Ratio    Cumulative Variance    Mean |Correlation| with Others\n",
      "-----------  ----------------  ---------------------  --------------------------------\n",
      "          1            0.6471                 0.6471                            0.3458\n",
      "          2            0.3443                 0.9914                            0.0328\n",
      "          3            0.0083                 0.9997                            0.1131\n",
      "          4            0.0003                 1                               nan\n",
      "\n"
     ]
    },
    {
     "name": "stderr",
     "output_type": "stream",
     "text": [
      "/data/conda/envs/python3.12/lib/python3.12/site-packages/numpy/core/fromnumeric.py:3504: RuntimeWarning: Mean of empty slice.\n",
      "  return _methods._mean(a, axis=axis, dtype=dtype,\n",
      "/data/conda/envs/python3.12/lib/python3.12/site-packages/numpy/core/_methods.py:129: RuntimeWarning: invalid value encountered in scalar divide\n",
      "  ret = ret.dtype.type(ret / rcount)\n"
     ]
    }
   ],
   "source": [
    "model_iris.analyze_latent_space(latents=latents)"
   ]
  },
  {
   "cell_type": "code",
   "execution_count": 74,
   "id": "7294d8cc-a2b5-4c85-8468-a136118e6674",
   "metadata": {
    "ExecuteTime": {
     "end_time": "2023-04-17T12:44:15.263128Z",
     "start_time": "2023-04-17T12:44:15.216961Z"
    }
   },
   "outputs": [
    {
     "data": {
      "image/png": "[encoded data removed]",
      "text/plain": [
       "<Figure size 1200x1000 with 2 Axes>"
      ]
     },
     "metadata": {},
     "output_type": "display_data"
    }
   ],
   "source": [
    "model_iris.show_correlation_matrix(latents)"
   ]
  },
  {
   "cell_type": "code",
   "execution_count": 101,
   "id": "39bde8cf-d057-4c45-a484-030583f1e46a",
   "metadata": {
    "ExecuteTime": {
     "end_time": "2023-04-17T12:44:20.841957Z",
     "start_time": "2023-04-17T12:44:19.026102Z"
    }
   },
   "outputs": [
    {
     "data": {
      "image/png": "[encoded data removed]",
      "text/plain": [
       "<Figure size 500x500 with 25 Axes>"
      ]
     },
     "metadata": {},
     "output_type": "display_data"
    }
   ],
   "source": [
    "model_iris.plot_scatter_corr_matrix(latents)"
   ]
  },
  {
   "cell_type": "code",
   "execution_count": 76,
   "id": "8319e8b2-af46-4e2a-95e1-009d229c988f",
   "metadata": {
    "ExecuteTime": {
     "end_time": "2023-04-17T12:44:25.003293Z",
     "start_time": "2023-04-17T12:44:24.781998Z"
    },
    "tags": []
   },
   "outputs": [
    {
     "data": {
      "image/png": "[encoded data removed]",
      "text/plain": [
       "<Figure size 640x480 with 1 Axes>"
      ]
     },
     "metadata": {},
     "output_type": "display_data"
    }
   ],
   "source": [
    "model_iris.plot_stdev_pct()"
   ]
  },
  {
   "cell_type": "code",
   "execution_count": 77,
   "id": "d181fae9-6d93-43c3-9db4-2a83e1b23157",
   "metadata": {
    "ExecuteTime": {
     "end_time": "2023-04-17T12:44:30.414887Z",
     "start_time": "2023-04-17T12:44:30.181387Z"
    }
   },
   "outputs": [
    {
     "name": "stdout",
     "output_type": "stream",
     "text": [
      "(1) reconstruction error: 4.2938, variance: 100.0%, with      1  active latent components\n",
      "(2) reconstruction error: 0.1914, variance: 95.5%, with      2  active latent components\n",
      "(3) reconstruction error: 0.0236, variance: 99.8%, with      3  active latent components\n",
      "(4) reconstruction error: 0.0003, variance: 100.0%, with      4  active latent components\n"
     ]
    },
    {
     "data": {
      "image/png": "[encoded data removed]",
      "text/plain": [
       "<Figure size 640x480 with 1 Axes>"
      ]
     },
     "metadata": {},
     "output_type": "display_data"
    }
   ],
   "source": [
    "model_iris.plot_cumsum_variance(X)"
   ]
  },
  {
   "cell_type": "markdown",
   "id": "ebef8906-6ea3-4426-811b-c38df2a58b19",
   "metadata": {
    "tags": []
   },
   "source": [
    "### Polca Net vs. PCA"
   ]
  },
  {
   "cell_type": "code",
   "execution_count": 78,
   "id": "b8320796-a8e9-4a72-bc4b-17c5f9528d35",
   "metadata": {
    "ExecuteTime": {
     "end_time": "2023-04-17T12:44:42.003740Z",
     "start_time": "2023-04-17T12:44:41.972482Z"
    },
    "tags": []
   },
   "outputs": [],
   "source": [
    "def plot2d_analysis(X, y, title, legend=True):\n",
    "    fig = plt.figure(1, figsize=(5, 5))\n",
    "    ax = fig.add_subplot(111)\n",
    "\n",
    "    for name, label in [(\"Setosa\", 0), (\"Versicolour\", 1), (\"Virginica\", 2)]:\n",
    "        ax.scatter(X[y == label, 0], X[y == label, 1], label=name)\n",
    "        ax.set_xlabel(\"component: 0\")\n",
    "        ax.set_ylabel(\"component 1\")\n",
    "\n",
    "        ax.xaxis.set_ticklabels([])\n",
    "        ax.yaxis.set_ticklabels([])\n",
    "    if legend:\n",
    "        plt.legend(loc=\"center left\", bbox_to_anchor=(1, 0.5))\n",
    "    plt.title(title)\n",
    "    plt.show()\n",
    "    return fig, ax"
   ]
  },
  {
   "cell_type": "code",
   "execution_count": 79,
   "id": "1d961f9f-b5c0-4a89-ae59-72500daf9bd6",
   "metadata": {
    "ExecuteTime": {
     "end_time": "2023-04-17T12:35:34.190935Z",
     "start_time": "2023-04-17T12:35:33.780690Z"
    }
   },
   "outputs": [
    {
     "data": {
      "application/vnd.jupyter.widget-view+json": {
       "model_id": "3a0465c2e3c94e44971aae15a58975a4",
       "version_major": 2,
       "version_minor": 0
      },
      "text/plain": [
       "GridBox(children=(Output(), Output()), layout=Layout(grid_template_columns='repeat(2, 600px)'))"
      ]
     },
     "metadata": {},
     "output_type": "display_data"
    }
   ],
   "source": [
    "o1 = widgets.Output()\n",
    "o2 = widgets.Output()\n",
    "with o1:\n",
    "    fig, ax = plot2d_analysis(Xpca, y, title=\"PCA transform\", legend=True)\n",
    "with o2:\n",
    "    fig, ax = plot2d_analysis(latents, y, title=\"POLCA-Net latent\")\n",
    "layout = widgets.Layout(grid_template_columns=\"repeat(2, 600px)\")\n",
    "accordion = widgets.GridBox(children=[o1, o2], layout=layout)\n",
    "display(accordion)"
   ]
  },
  {
   "cell_type": "code",
   "execution_count": 80,
   "id": "d0a00359-51f9-466c-ba71-a4392431a406",
   "metadata": {
    "ExecuteTime": {
     "end_time": "2023-04-17T13:01:27.331773Z",
     "start_time": "2023-04-17T13:01:26.963979Z"
    },
    "tags": []
   },
   "outputs": [
    {
     "data": {
      "application/vnd.jupyter.widget-view+json": {
       "model_id": "e6110c7dc92b4fbabd93e10351968258",
       "version_major": 2,
       "version_minor": 0
      },
      "text/plain": [
       "GridBox(children=(Output(), Output(), Output(), Output()), layout=Layout(grid_template_columns='repeat(2, 450p…"
      ]
     },
     "metadata": {},
     "output_type": "display_data"
    }
   ],
   "source": [
    "o1 = widgets.Output()\n",
    "o2 = widgets.Output()\n",
    "o3 = widgets.Output()\n",
    "o4 = widgets.Output()\n",
    "\n",
    "with o1:\n",
    "    fig1, ax1 = plot2d_analysis(X, y, \"Original data two first componets\", legend=False)\n",
    "\n",
    "with o2:\n",
    "    fig2, ax2 = plot2d_analysis(pca.inverse_transform(Xpca), y, \"Reconstructed with PCA two componets\", legend=False)\n",
    "\n",
    "with o3:\n",
    "    latents, reconstructed = model_iris.predict(X, np.array([1, 1, 0, 0]))\n",
    "    fig3, ax3 = plot2d_analysis(np.round(reconstructed, 1), y, title=\"Reconstructed with POLCA two componets\", legend=False)\n",
    "\n",
    "with o4:\n",
    "    latents, reconstructed = model_iris.predict(X, np.array([1, 1, 1, 1]))\n",
    "    fig4, ax4 = plot2d_analysis(np.round(reconstructed, 1), y, title=\"Reconstructed with POLCA all componets\", legend=False)\n",
    "\n",
    "\n",
    "layout = widgets.Layout(grid_template_columns=\"repeat(2, 450px)\")\n",
    "accordion = widgets.GridBox(children=[o1, o2, o3, o4], layout=layout)\n",
    "display(accordion)"
   ]
  },
  {
   "cell_type": "code",
   "execution_count": 81,
   "id": "ba3a6b52-2037-4e6b-8ff7-37dce9b7689f",
   "metadata": {
    "ExecuteTime": {
     "end_time": "2023-04-17T12:55:34.257607Z",
     "start_time": "2023-04-17T12:55:34.097998Z"
    }
   },
   "outputs": [
    {
     "data": {
      "image/png": "[encoded data removed]",
      "text/plain": [
       "<Figure size 640x480 with 1 Axes>"
      ]
     },
     "metadata": {},
     "output_type": "display_data"
    }
   ],
   "source": [
    "latents, reconstructed = model_iris.predict(X)\n",
    "vectors = []\n",
    "labels = [\"Setosa\", \"Versicolour\", \"Virginica\"]\n",
    "for c, label in enumerate(labels):\n",
    "    vectors.append(np.sum(latents[y == c, :], axis=1))\n",
    "\n",
    "\n",
    "plt.boxplot(vectors, labels=labels)\n",
    "plt.violinplot(vectors, showmeans=False, showmedians=True)\n",
    "plt.suptitle(\"Polca Analysis of the summation of latent orthogonal components\")\n",
    "plt.show()"
   ]
  },
  {
   "cell_type": "code",
   "execution_count": 82,
   "id": "ef758671-d4d9-41bf-b3aa-4ca30adcda07",
   "metadata": {
    "ExecuteTime": {
     "end_time": "2023-04-17T12:19:59.350575Z",
     "start_time": "2023-04-17T12:19:58.675257Z"
    }
   },
   "outputs": [
    {
     "data": {
      "application/vnd.jupyter.widget-view+json": {
       "model_id": "b634387ba6884772a620e6dccb3756fb",
       "version_major": 2,
       "version_minor": 0
      },
      "text/plain": [
       "GridBox(children=(Output(), Output()), layout=Layout(grid_template_columns='repeat(2, 500px)'))"
      ]
     },
     "metadata": {},
     "output_type": "display_data"
    }
   ],
   "source": [
    "import seaborn as sns\n",
    "\n",
    "o1 = widgets.Output()\n",
    "o2 = widgets.Output()\n",
    "idx = np.arange(latents.shape[1])\n",
    "idx = -1\n",
    "\n",
    "with o1:\n",
    "    scores = model_iris.score(X)\n",
    "    sns.displot(scores, kde=True)\n",
    "    plt.title(\"Last componet with clean data\")\n",
    "    plt.show()\n",
    "\n",
    "with o2:\n",
    "    scores = model_iris.score(X * (np.random.random(size=X.shape) - 0.5) * 1)\n",
    "    sns.displot(scores, kde=True)\n",
    "    plt.title(\"Last componet with uniform noise in data\")\n",
    "    plt.show()\n",
    "\n",
    "\n",
    "layout = widgets.Layout(grid_template_columns=\"repeat(2, 500px)\")\n",
    "accordion = widgets.GridBox(children=[o1, o2], layout=layout)\n",
    "display(accordion)"
   ]
  },
  {
   "cell_type": "code",
   "execution_count": 83,
   "id": "53a65e0a-bc0e-4500-a4c6-9be6b24e0322",
   "metadata": {
    "ExecuteTime": {
     "end_time": "2023-04-17T12:42:04.559519Z",
     "start_time": "2023-04-17T12:42:04.512646Z"
    },
    "tags": []
   },
   "outputs": [
    {
     "data": {
      "text/plain": [
       "array([1.0902249 , 0.79528606, 0.12356114, 0.02399455], dtype=float32)"
      ]
     },
     "execution_count": 83,
     "metadata": {},
     "output_type": "execute_result"
    }
   ],
   "source": [
    "model_iris.std_metrics"
   ]
  },
  {
   "cell_type": "code",
   "execution_count": 84,
   "id": "cf1edfa2-e7f2-4a5b-bdab-6b90f4a46076",
   "metadata": {
    "ExecuteTime": {
     "end_time": "2023-04-17T12:42:05.361422Z",
     "start_time": "2023-04-17T12:42:05.330039Z"
    },
    "tags": []
   },
   "outputs": [
    {
     "data": {
      "text/plain": [
       "array([-0.7376288 ,  0.559156  ,  0.02096031,  0.14168434], dtype=float32)"
      ]
     },
     "execution_count": 84,
     "metadata": {},
     "output_type": "execute_result"
    }
   ],
   "source": [
    "model_iris.mean_metrics"
   ]
  },
  {
   "cell_type": "code",
   "execution_count": 26,
   "id": "3634b173-f7b4-4996-a095-22be9a9f5b23",
   "metadata": {},
   "outputs": [],
   "source": [
    "def generate_2d_sinusoidal_data(N, M, num_samples):\n",
    "    data = []\n",
    "    for _ in range(num_samples):\n",
    "        x = np.linspace(0, 1, N)\n",
    "        y = np.linspace(0, 1, M)\n",
    "        xx, yy = np.meshgrid(x, y)\n",
    "\n",
    "        # Random phase shifts for x and y directions\n",
    "        phase_shift_x = np.random.uniform(0, 2 * np.pi)\n",
    "        phase_shift_y = np.random.uniform(0, 2 * np.pi)\n",
    "\n",
    "        # Random frequency multipliers for x and y directions\n",
    "        freq_multiplier_x = np.random.uniform(0.5, 1.5)\n",
    "        freq_multiplier_y = np.random.uniform(0.5, 1.5)\n",
    "\n",
    "        # Generate sinusoidal data with random phase and frequency\n",
    "        z = np.sin(2 * np.pi * freq_multiplier_x * xx + phase_shift_x) * np.cos(2 * np.pi * freq_multiplier_y * yy + phase_shift_y)\n",
    "        data.append(z)\n",
    "\n",
    "    return np.array(data).astype(np.float32)"
   ]
  },
  {
   "cell_type": "code",
   "execution_count": 27,
   "id": "84e10853-84b9-454e-b5f6-e8360f11d28f",
   "metadata": {},
   "outputs": [
    {
     "data": {
      "text/plain": [
       "(1000, 32, 32)"
      ]
     },
     "execution_count": 27,
     "metadata": {},
     "output_type": "execute_result"
    }
   ],
   "source": [
    "# Parameters\n",
    "N = 32  # Sequence length\n",
    "M = 32  # Number of features\n",
    "num_samples = 1000\n",
    "\n",
    "# Generate 2D sinusoidal data\n",
    "data = generate_2d_sinusoidal_data(N, M, num_samples)\n",
    "data.shape"
   ]
  },
  {
   "cell_type": "code",
   "execution_count": 98,
   "id": "5e513237-f1a9-401b-80ee-8ffbfc564964",
   "metadata": {},
   "outputs": [],
   "source": [
    "# model = PolcaNet(\n",
    "#     input_dim=M,\n",
    "#     latent_dim=256,\n",
    "#     hidden_dim=None,\n",
    "#     num_layers=1,\n",
    "#     autoencoder_type=\"lstm\",\n",
    "#     seq_len=N,\n",
    "#     alpha=1.0,  # ortgogonality loss\n",
    "#     beta=1.0,  # variance sorting loss\n",
    "#     gamma=1.0,  # variance reduction loss\n",
    "#     device=\"cuda\",\n",
    "# )\n",
    "\n",
    "\n",
    "aencoder_lstm = autoencoder_factory(\n",
    "    input_dim=M,\n",
    "    latent_dim=256,\n",
    "    hidden_dim=None,\n",
    "    num_layers=3,\n",
    "    autoencoder_type=\"lstm\",\n",
    "    seq_len=N,\n",
    "    act_fn=act_fn,\n",
    ")\n",
    "\n",
    "model_lstm = PolcaNet(\n",
    "    model=aencoder_lstm,\n",
    "    alpha=0.1,  # ortgogonality loss\n",
    "    beta=1.0,  # variance sorting loss\n",
    "    gamma=1.0,  # variance reduction loss\n",
    "    device=\"cuda\",\n",
    ")"
   ]
  },
  {
   "cell_type": "code",
   "execution_count": 100,
   "id": "945f3ab9-89fb-40af-9573-27ce1f6b3c69",
   "metadata": {},
   "outputs": [
    {
     "data": {
      "application/vnd.jupyter.widget-view+json": {
       "model_id": "62984ade574342bca28f127346ea8e8a",
       "version_major": 2,
       "version_minor": 0
      },
      "text/plain": [
       "epoch:   0%|          | 0/20000 [00:00<?, ?it/s]"
      ]
     },
     "metadata": {},
     "output_type": "display_data"
    },
    {
     "name": "stdout",
     "output_type": "stream",
     "text": [
      "Final metrics at epoch: 19999\n",
      "loss: 0.005148\n",
      "decode: 0.0007218\n",
      "orth: 0.0365\n",
      "com: 0.0002725\n",
      "var: 2.368e-05\n"
     ]
    }
   ],
   "source": [
    "model_lstm.to_device(\"cuda\")\n",
    "model_lstm.train_model(data=data, batch_size=512, num_epochs=20000, report_freq=10, lr=0.001)"
   ]
  },
  {
   "cell_type": "code",
   "execution_count": 154,
   "id": "fd9bed38-da6c-4cea-8e6e-86a11789ce5d",
   "metadata": {},
   "outputs": [],
   "source": [
    "aencoder_conv2d = autoencoder_factory(\n",
    "    input_dim=M,\n",
    "    latent_dim=256,\n",
    "    hidden_dim=None,\n",
    "    num_layers=None,\n",
    "    autoencoder_type=\"conv2d\",\n",
    "    seq_len=N,\n",
    ")\n",
    "\n",
    "model = PolcaNet(\n",
    "    model=aencoder_conv2d,\n",
    "    alpha=0.1,  # ortgogonality loss\n",
    "    beta=1.0,  # variance sorting loss\n",
    "    gamma=0.0,  # variance reduction loss\n",
    "    device=\"cuda\",\n",
    ")"
   ]
  },
  {
   "cell_type": "code",
   "execution_count": null,
   "id": "593ebaf2-7180-417b-8a71-78aa8a1b872f",
   "metadata": {},
   "outputs": [
    {
     "data": {
      "application/vnd.jupyter.widget-view+json": {
       "model_id": "e35a9322d2534dd8b5dea32532692d14",
       "version_major": 2,
       "version_minor": 0
      },
      "text/plain": [
       "epoch:   0%|          | 0/10000 [00:00<?, ?it/s]"
      ]
     },
     "metadata": {},
     "output_type": "display_data"
    }
   ],
   "source": [
    "model.to_device(\"cuda:1\")\n",
    "model.train_model(data=data, batch_size=512, num_epochs=10000, report_freq=10, lr=1e-3)"
   ]
  },
  {
   "cell_type": "code",
   "execution_count": null,
   "id": "19d4e21e-8d6c-43d2-8b3a-503dafbd1be7",
   "metadata": {},
   "outputs": [],
   "source": [
    "model.train_model(data=data, batch_size=512, num_epochs=10000, report_freq=10, lr=1e-4)"
   ]
  },
  {
   "cell_type": "code",
   "execution_count": null,
   "id": "0d83460a-4ed1-4122-a344-3455a3156555",
   "metadata": {},
   "outputs": [],
   "source": [
    "latents, reconstructed = model.predict(data)\n",
    "data.shape, reconstructed.shape, latents.shape"
   ]
  },
  {
   "cell_type": "code",
   "execution_count": null,
   "id": "d7e555a6-510f-4a6d-90ac-6d08ab4322d2",
   "metadata": {},
   "outputs": [],
   "source": [
    "# Plot original and reconstructed signals for a sample\n",
    "fig, axes = plt.subplots(1, 2, figsize=(12, 6))\n",
    "axes[0].imshow(data[0], cmap=\"viridis\")\n",
    "axes[0].set_title(\"Original\")\n",
    "axes[1].imshow(reconstructed[0], cmap=\"viridis\")\n",
    "axes[1].set_title(\"Reconstructed\")\n",
    "plt.show()"
   ]
  },
  {
   "cell_type": "code",
   "execution_count": null,
   "id": "196394b6-6c95-4231-94dc-ce2294e759e8",
   "metadata": {},
   "outputs": [],
   "source": [
    "model.show_correlation_matrix(latents=latents[:, :20])"
   ]
  },
  {
   "cell_type": "code",
   "execution_count": null,
   "id": "7991839d-4024-4bae-9b69-11018227c2af",
   "metadata": {},
   "outputs": [],
   "source": [
    "model.plot_scatter_corr_matrix(latents, n_components=10)"
   ]
  },
  {
   "cell_type": "code",
   "execution_count": null,
   "id": "1a3efac2-afbf-471d-ae66-0784a6f1d57b",
   "metadata": {},
   "outputs": [],
   "source": [
    "model.plot_stdev_pct()"
   ]
  },
  {
   "cell_type": "code",
   "execution_count": null,
   "id": "9573ccf8-9a13-49d6-a122-fc2c39daaa07",
   "metadata": {},
   "outputs": [],
   "source": [
    "model.plot_cumsum_variance(data)"
   ]
  },
  {
   "cell_type": "code",
   "execution_count": null,
   "id": "2fda86c7-a973-4fb4-900d-6b3c794c2807",
   "metadata": {},
   "outputs": [],
   "source": [
    "model.analyze_latent_feature_importance(data)"
   ]
  },
  {
   "cell_type": "code",
   "execution_count": null,
   "id": "5525f67d-68df-43f7-9dcb-66ce2d9e4586",
   "metadata": {},
   "outputs": [],
   "source": [
    "model.analyze_reconstruction_error(data, n_samples=10000)"
   ]
  },
  {
   "cell_type": "code",
   "execution_count": null,
   "id": "ab6f69c8-cd03-4cc1-916b-221d9af69d1b",
   "metadata": {},
   "outputs": [],
   "source": [
    "model.analyze_latent_space(data=data)"
   ]
  },
  {
   "cell_type": "code",
   "execution_count": null,
   "id": "b698a8bc-1ccb-4592-a597-7629914735b0",
   "metadata": {},
   "outputs": [],
   "source": [
    "import matplotlib.pyplot as plt\n",
    "import numpy as np\n",
    "import pandas as pd\n",
    "import torch\n",
    "from scipy.stats import gaussian_kde\n",
    "from tabulate import tabulate\n",
    "\n",
    "def generate_polcanet_report(model, data, latents=None, max_components=5, max_samples=5000, n_samples=10000):\n",
    "    \"\"\"\n",
    "    Generate a comprehensive report for PolcaNet with various analyses and plots.\n",
    "\n",
    "    Parameters:\n",
    "    - model: The PolcaNet model instance\n",
    "    - data: Input data (numpy array)\n",
    "    - latents: Latent representations (optional, numpy array)\n",
    "    - max_components: Maximum number of latent components to analyze (default: 5)\n",
    "    - max_samples: Maximum number of samples for scatter plot (default: 5000)\n",
    "    - n_samples: Number of samples for reconstruction error analysis (default: 10000)\n",
    "    \"\"\"\n",
    "    \n",
    "    if latents is None:\n",
    "        latents = model.encode(data)\n",
    "    \n",
    "    n_components = min(max_components, latents.shape[1])\n",
    "    variances = np.var(latents, axis=0)[:n_components]\n",
    "    explained_variance_ratio = variances / np.sum(variances)\n",
    "    cumulative_variance_ratio = np.cumsum(explained_variance_ratio)\n",
    "    \n",
    "    # Compute required metrics\n",
    "    corr = np.corrcoef(latents.T)\n",
    "    off_diag_corr = corr[np.triu_indices_from(corr, k=1)]\n",
    "    variance_concentration = np.sum(variances * np.arange(n_components, 0, -1)) / (np.sum(variances) * n_components)\n",
    "    decorrelation_metric = 1 - np.mean(np.abs(off_diag_corr))\n",
    "\n",
    "    # Set up the plotting area with subplots\n",
    "    fig, axs = plt.subplots(4, 2, figsize=(15, 20))\n",
    "    fig.suptitle(\"PolcaNet Comprehensive Report\", fontsize=16)\n",
    "\n",
    "    # Plot variance analysis\n",
    "    axs[0, 0].bar(range(len(explained_variance_ratio)), explained_variance_ratio)\n",
    "    axs[0, 0].set_title(\"Explained Variance Ratio\")\n",
    "    axs[0, 0].set_xlabel(\"Latent Component\")\n",
    "    axs[0, 0].set_ylabel(\"Variance Ratio\")\n",
    "    \n",
    "    # Plot cumulative variance ratio\n",
    "    axs[0, 1].plot(range(1, len(cumulative_variance_ratio) + 1), cumulative_variance_ratio, 'bo-')\n",
    "    axs[0, 1].set_title(\"Cumulative Variance Ratio\")\n",
    "    axs[0, 1].set_xlabel(\"Number of Latent Components\")\n",
    "    axs[0, 1].set_ylabel(\"Cumulative Variance\")\n",
    "\n",
    "    # Plot correlation matrix\n",
    "    cax = axs[1, 0].matshow(corr, cmap='coolwarm', vmin=-1, vmax=1)\n",
    "    fig.colorbar(cax, ax=axs[1, 0])\n",
    "    axs[1, 0].set_title(\"Correlation Matrix of Latent Components\")\n",
    "\n",
    "    # Scatter plot matrix\n",
    "    df = pd.DataFrame(latents)\n",
    "    if len(df) > max_samples:\n",
    "        df = df.sample(n=max_samples, random_state=42)\n",
    "    for i in range(1, n_components):\n",
    "        for j in range(i):\n",
    "            axs[1, 1].scatter(df.iloc[:, j], df.iloc[:, i], alpha=0.5, s=1)\n",
    "    axs[1, 1].set_title(\"Scatter Plot Matrix\")\n",
    "    \n",
    "    # Plot variance concentration\n",
    "    axs[2, 0].plot(range(1, len(variances) + 1), 100 * (variances / np.sum(variances)), \"o-\")\n",
    "    axs[2, 0].set_title(\"Stdev Percentage\")\n",
    "    axs[2, 0].set_xlabel(\"Latent Component\")\n",
    "    axs[2, 0].set_ylabel(\"Stdev Percentage\")\n",
    "    \n",
    "    # Analyze reconstruction error\n",
    "    latents = model.encode(data)\n",
    "    reconstructed = model.decode(latents)\n",
    "    errors = np.mean((data - reconstructed) ** 2, axis=1)\n",
    "    if errors.shape[0] > n_samples:\n",
    "        indices = np.random.choice(errors.shape[0], n_samples, replace=False)\n",
    "        errors = errors[indices]\n",
    "    \n",
    "    # Ensure errors is a one-dimensional array\n",
    "    errors = errors.flatten()\n",
    "    axs[2, 1].hist(errors, bins=50, density=True, alpha=0.7)\n",
    "    \n",
    "    # Check if gaussian_kde can be applied\n",
    "    if errors.shape[0] > 1:\n",
    "        try:\n",
    "            kde = gaussian_kde(errors)\n",
    "            x_range = np.linspace(errors.min(), errors.max(), 1000)\n",
    "            axs[2, 1].plot(x_range, kde(x_range), 'r-', lw=2)\n",
    "        except np.linalg.LinAlgError as e:\n",
    "            print(f\"LinAlgError: {e}\")\n",
    "    \n",
    "    mean_error = np.mean(errors)\n",
    "    median_error = np.median(errors)\n",
    "    axs[2, 1].axvline(mean_error, color='g', linestyle='--', label=f'Mean Error: {mean_error:.4f}')\n",
    "    axs[2, 1].axvline(median_error, color='r', linestyle=':', label=f'Median Error: {median_error:.4f}')\n",
    "    axs[2, 1].set_title(\"Reconstruction Error Distribution\")\n",
    "    axs[2, 1].set_xlabel(\"Reconstruction Error (MSE)\")\n",
    "    axs[2, 1].set_ylabel(\"Density\")\n",
    "    axs[2, 1].legend()\n",
    "\n",
    "    # Feature Importance Plots\n",
    "    feature_importance = np.var(latents, axis=0)\n",
    "    feature_importance_normalized = feature_importance / np.sum(feature_importance)\n",
    "    cumulative_importance = np.cumsum(feature_importance_normalized)\n",
    "\n",
    "    axs[3, 0].bar(range(len(feature_importance_normalized)), feature_importance_normalized)\n",
    "    axs[3, 0].set_title('Latent Feature Importance (Based on Variance)')\n",
    "    axs[3, 0].set_xlabel('Latent Feature Index')\n",
    "    axs[3, 0].set_ylabel('Normalized Variance')\n",
    "    axs[3, 0].grid(True)\n",
    "\n",
    "    z = np.polyfit(range(len(feature_importance_normalized)), feature_importance_normalized, 1)\n",
    "    p = np.poly1d(z)\n",
    "    axs[3, 0].plot(range(len(feature_importance_normalized)), p(range(len(feature_importance_normalized))), \"r--\", alpha=0.8)\n",
    "\n",
    "    axs[3, 1].plot(range(1, len(cumulative_importance) + 1), cumulative_importance, 'bo-')\n",
    "    axs[3, 1].set_title('Cumulative Latent Feature Importance')\n",
    "    axs[3, 1].set_xlabel('Number of Latent Features')\n",
    "    axs[3, 1].set_ylabel('Cumulative Normalized Variance')\n",
    "    axs[3, 1].grid(True)\n",
    "\n",
    "    plt.tight_layout(rect=[0, 0, 1, 0.96])\n",
    "    plt.show()\n",
    "\n",
    "    # Print text-based metrics and interpretation\n",
    "    print(\"\\n\" + \"=\" * 50)\n",
    "    print(\"Latent Space Analysis Report\".center(50))\n",
    "    print(\"=\" * 50 + \"\\n\")\n",
    "\n",
    "    print(\"1. General Information\")\n",
    "    print(\"-\" * 30)\n",
    "    print(f\"Number of latent components: {latents.shape[1]}\")\n",
    "    print(f\"Total variance in latent space: {np.sum(variances):.4f}\")\n",
    "    print()\n",
    "\n",
    "    print(\"2. Variance Analysis\")\n",
    "    print(\"-\" * 30)\n",
    "    variance_table = [[\"First component\", f\"{explained_variance_ratio[0]:.4f}\"],\n",
    "                      [\"First 5 components\", f\"{np.sum(explained_variance_ratio[:5]):.4f}\"],\n",
    "                      [\"Components for 95% variance\", f\"{np.argmax(cumulative_variance_ratio >= 0.95) + 1}\"],\n",
    "                      [\"Variance Concentration Metric\", f\"{variance_concentration:.4f}\"]]\n",
    "    print(tabulate(variance_table, headers=[\"Metric\", \"Value\"]))\n",
    "    print(\"\\nVariance Concentration Interpretation:\")\n",
    "    if variance_concentration > 0.8:\n",
    "        print(\"Excellent concentration of variance in earlier dimensions.\")\n",
    "    elif variance_concentration > 0.6:\n",
    "        print(\"Good concentration of variance, but there might be room for improvement.\")\n",
    "    else:\n",
    "        print(\"Poor concentration of variance. The model may need adjustment.\")\n",
    "    print()\n",
    "\n",
    "    print(\"3. Orthogonality Analysis\")\n",
    "    print(\"-\" * 30)\n",
    "    corr_table = [[\"Mean absolute off-diagonal\", f\"{np.mean(np.abs(off_diag_corr)):.4f}\"],\n",
    "                  [\"Median absolute off-diagonal\", f\"{np.median(np.abs(off_diag_corr)):.4f}\"],\n",
    "                  [\"Max absolute off-diagonal\", f\"{np.max(np.abs(off_diag_corr)):.4f}\"],\n",
    "                  [\"Proportion of |Orthogonality| > 0.1\", f\"{np.mean(np.abs(off_diag_corr) > 0.1):.4f}\"],\n",
    "                  [\"Orthogonality Success Metric\", f\"{decorrelation_metric:.4f}\"]]\n",
    "    print(tabulate(corr_table, headers=[\"Metric\", \"Value\"]))\n",
    "    print(\"\\nOrthogonality Interpretation:\")\n",
    "    if decorrelation_metric > 0.9:\n",
    "        print(\"Excellent orthogonality of features.\")\n",
    "    elif decorrelation_metric > 0.7:\n",
    "        print(\"Good orthogonality, but there might be room for improvement.\")\n",
    "    else:\n",
    "        print(\"Poor orthogonality. The model may need adjustment.\")\n",
    "    print()\n",
    "\n",
    "    print(\"4. Detailed Component Analysis\")\n",
    "    print(\"-\" * 30)\n",
    "    top_n = min(10, latents.shape[1])\n",
    "    component_table = []\n",
    "    for i in range(top_n):\n",
    "        component_table.append([i + 1, f\"{explained_variance_ratio[i]:.4f}\", f\"{cumulative_variance_ratio[i]:.4f}\",\n",
    "                                f\"{np.mean(np.abs(corr[i, i + 1:])):.4f}\"])\n",
    "    print(tabulate(component_table, headers=[\"Component\", \"Variance Ratio\", \"Cumulative Variance\",\n",
    "                                             \"Mean |Correlation| with Others\"]))\n",
    "    print()\n",
    "    \n",
    "# Example usage\n",
    "# Assuming `polcanet_model` is an instance of PolcaNet and `data` is the input data.\n",
    "# generate_polcanet_report(polcanet_model, data)\n"
   ]
  },
  {
   "cell_type": "code",
   "execution_count": null,
   "id": "6bfec841-eb1a-4005-a9da-5d4904e74ed1",
   "metadata": {},
   "outputs": [],
   "source": [
    "generate_polcanet_report(model, data=data,max_components=50)"
   ]
  },
  {
   "cell_type": "code",
   "execution_count": null,
   "id": "24e0e3b5-2913-479c-9070-8e9220fb3674",
   "metadata": {},
   "outputs": [],
   "source": []
  }
 ],
 "metadata": {
  "kernelspec": {
   "display_name": "Python 3 (ipykernel)",
   "language": "python",
   "name": "python3"
  },
  "language_info": {
   "codemirror_mode": {
    "name": "ipython",
    "version": 3
   },
   "file_extension": ".py",
   "mimetype": "text/x-python",
   "name": "python",
   "nbconvert_exporter": "python",
   "pygments_lexer": "ipython3",
   "version": "3.12.2"
  }
 },
 "nbformat": 4,
 "nbformat_minor": 5
}
